{
 "cells": [
  {
   "cell_type": "markdown",
   "metadata": {},
   "source": [
    "modis_2000-2019_Australia.csv is gotten from https://www.kaggle.com/datasets/gabrielbgutierrez/satellite-data-on-australia-fires"
   ]
  },
  {
   "cell_type": "code",
   "execution_count": null,
   "metadata": {},
   "outputs": [],
   "source": [
    "# Simple script to visualize Australian wildfires without crashing\n",
    "import pandas as pd\n",
    "import numpy as np\n",
    "import plotly.express as px\n",
    "\n",
    "df = pd.read_csv('modis_2000-2019_Australia.csv')\n",
    "\n",
    "df['acq_date'] = pd.to_datetime(df['acq_date'])\n",
    "df['year'] = df['acq_date'].dt.year\n",
    "df = df[df['frp'] >= 0]  \n",
    "df = df.sort_values('acq_date')\n",
    "\n",
    "resolution = 0.25  \n",
    "\n",
    "# Create grid cells\n",
    "df['grid_lat'] = np.floor(df['latitude'] / resolution) * resolution\n",
    "df['grid_lon'] = np.floor(df['longitude'] / resolution) * resolution\n",
    "\n",
    "grid_data = df.groupby(['year', 'grid_lat', 'grid_lon']).agg({\n",
    "    'frp': ['count', 'sum', 'mean', 'max'],\n",
    "    'acq_date': 'min'\n",
    "}).reset_index()\n",
    "\n",
    "# Fix the column names\n",
    "grid_data.columns = [\n",
    "    'year', 'grid_lat', 'grid_lon', \n",
    "    'fire_count', 'frp_sum', 'frp_avg', 'frp_max', \n",
    "    'first_fire'\n",
    "]\n",
    "\n",
    "# Use center of each cell for plotting\n",
    "grid_data['lat'] = grid_data['grid_lat'] + resolution/2\n",
    "grid_data['lon'] = grid_data['grid_lon'] + resolution/2\n",
    "\n",
    "print(f\"Reduced to {len(grid_data):,} data points\")\n",
    "\n",
    "# Make the map\n",
    "years = sorted(grid_data['year'].unique())\n",
    "\n",
    "fig = px.scatter_geo(\n",
    "    grid_data,\n",
    "    lat='lat',\n",
    "    lon='lon',\n",
    "    color='frp_sum',  # color by total fire radiative power\n",
    "    size='fire_count',  # size by number of fires in the cell\n",
    "    animation_frame='year',\n",
    "    color_continuous_scale='Inferno',  # fire-like colors\n",
    "    scope='world',\n",
    "    projection='natural earth',\n",
    "    title='Australian Wildfires (2000-2019)',\n",
    "    hover_data={\n",
    "        'grid_lat': False,\n",
    "        'grid_lon': False,\n",
    "        'lat': ':.2f',\n",
    "        'lon': ':.2f',\n",
    "        'fire_count': True,\n",
    "        'frp_sum': ':.1f',\n",
    "        'frp_avg': ':.2f',\n",
    "        'frp_max': ':.1f',\n",
    "        'first_fire': True\n",
    "    },\n",
    "    height=800,\n",
    "    width=1200\n",
    ")\n",
    "\n",
    "# Focus on Australia\n",
    "fig.update_layout(\n",
    "    geo=dict(\n",
    "        lataxis_range=[-45, -10],\n",
    "        lonaxis_range=[110, 155],\n",
    "        showland=True,\n",
    "        landcolor='rgb(217, 217, 217)',\n",
    "        coastlinecolor='white',\n",
    "        countrycolor='white',\n",
    "        showocean=True,\n",
    "        oceancolor='rgb(204, 229, 255)',\n",
    "        showcountries=True,\n",
    "        showsubunits=True,\n",
    "        subunitcolor='white'\n",
    "    ),\n",
    "    font=dict(size=12),\n",
    "    title_font=dict(size=20),\n",
    "    margin=dict(l=0, r=0, t=80, b=0),\n",
    "    coloraxis_colorbar_title='Total FRP'\n",
    ")\n",
    "\n",
    "# Make the dots look nice\n",
    "fig.update_traces(\n",
    "    marker=dict(\n",
    "        opacity=0.75,\n",
    "        line=dict(width=0.5, color='DarkSlateGrey'),\n",
    "        sizemode='area',\n",
    "        sizeref=2.*max(grid_data['fire_count'])/(30.**2),\n",
    "        sizemin=2\n",
    "    )\n",
    ")\n",
    "\n",
    "# Make the animation smoother\n",
    "fig.layout.updatemenus[0].buttons[0].args[1]['frame']['duration'] = 1200\n",
    "fig.layout.updatemenus[0].buttons[0].args[1]['transition']['duration'] = 600\n",
    "fig.layout.sliders[0].currentvalue.prefix = 'Year: '\n",
    "\n",
    "# Show the map\n",
    "fig.show()"
   ]
  },
  {
   "cell_type": "markdown",
   "metadata": {},
   "source": [
    "From the above timelapse we can see that Australia has alot of wild fire around espicially 2011 - 2013, we hypothesis that it could drastically affect wild life. \n",
    "<br>\n",
    "We will further explore the burned area in Australia below"
   ]
  },
  {
   "cell_type": "code",
   "execution_count": 1,
   "metadata": {},
   "outputs": [
    {
     "data": {
      "application/vnd.plotly.v1+json": {
       "config": {
        "plotlyServerURL": "https://plot.ly"
       },
       "data": [
        {
         "hovertemplate": "Year=%{x}<br>Burned Area (km²)=%{y}<extra></extra>",
         "legendgroup": "",
         "line": {
          "color": "#FF5722",
          "dash": "solid",
          "width": 2.5
         },
         "marker": {
          "color": "#E64A19",
          "size": 8,
          "symbol": "circle"
         },
         "mode": "markers+lines",
         "name": "",
         "orientation": "v",
         "showlegend": false,
         "type": "scatter",
         "x": [
          2000,
          2001,
          2002,
          2003,
          2004,
          2005,
          2006,
          2007,
          2008,
          2009,
          2010,
          2011,
          2012,
          2013,
          2014,
          2015,
          2016,
          2017,
          2018,
          2019
         ],
         "xaxis": "x",
         "y": [
          30724,
          235315,
          335342,
          212359,
          312386,
          190139,
          304651,
          254931,
          183518,
          251914,
          120558,
          437141,
          474964,
          190517,
          256921,
          239462,
          159223,
          273312,
          307359,
          310484
         ],
         "yaxis": "y"
        }
       ],
       "layout": {
        "height": 600,
        "hovermode": "x unified",
        "legend": {
         "tracegroupgap": 0
        },
        "plot_bgcolor": "white",
        "template": {
         "data": {
          "bar": [
           {
            "error_x": {
             "color": "#2a3f5f"
            },
            "error_y": {
             "color": "#2a3f5f"
            },
            "marker": {
             "line": {
              "color": "#E5ECF6",
              "width": 0.5
             },
             "pattern": {
              "fillmode": "overlay",
              "size": 10,
              "solidity": 0.2
             }
            },
            "type": "bar"
           }
          ],
          "barpolar": [
           {
            "marker": {
             "line": {
              "color": "#E5ECF6",
              "width": 0.5
             },
             "pattern": {
              "fillmode": "overlay",
              "size": 10,
              "solidity": 0.2
             }
            },
            "type": "barpolar"
           }
          ],
          "carpet": [
           {
            "aaxis": {
             "endlinecolor": "#2a3f5f",
             "gridcolor": "white",
             "linecolor": "white",
             "minorgridcolor": "white",
             "startlinecolor": "#2a3f5f"
            },
            "baxis": {
             "endlinecolor": "#2a3f5f",
             "gridcolor": "white",
             "linecolor": "white",
             "minorgridcolor": "white",
             "startlinecolor": "#2a3f5f"
            },
            "type": "carpet"
           }
          ],
          "choropleth": [
           {
            "colorbar": {
             "outlinewidth": 0,
             "ticks": ""
            },
            "type": "choropleth"
           }
          ],
          "contour": [
           {
            "colorbar": {
             "outlinewidth": 0,
             "ticks": ""
            },
            "colorscale": [
             [
              0,
              "#0d0887"
             ],
             [
              0.1111111111111111,
              "#46039f"
             ],
             [
              0.2222222222222222,
              "#7201a8"
             ],
             [
              0.3333333333333333,
              "#9c179e"
             ],
             [
              0.4444444444444444,
              "#bd3786"
             ],
             [
              0.5555555555555556,
              "#d8576b"
             ],
             [
              0.6666666666666666,
              "#ed7953"
             ],
             [
              0.7777777777777778,
              "#fb9f3a"
             ],
             [
              0.8888888888888888,
              "#fdca26"
             ],
             [
              1,
              "#f0f921"
             ]
            ],
            "type": "contour"
           }
          ],
          "contourcarpet": [
           {
            "colorbar": {
             "outlinewidth": 0,
             "ticks": ""
            },
            "type": "contourcarpet"
           }
          ],
          "heatmap": [
           {
            "colorbar": {
             "outlinewidth": 0,
             "ticks": ""
            },
            "colorscale": [
             [
              0,
              "#0d0887"
             ],
             [
              0.1111111111111111,
              "#46039f"
             ],
             [
              0.2222222222222222,
              "#7201a8"
             ],
             [
              0.3333333333333333,
              "#9c179e"
             ],
             [
              0.4444444444444444,
              "#bd3786"
             ],
             [
              0.5555555555555556,
              "#d8576b"
             ],
             [
              0.6666666666666666,
              "#ed7953"
             ],
             [
              0.7777777777777778,
              "#fb9f3a"
             ],
             [
              0.8888888888888888,
              "#fdca26"
             ],
             [
              1,
              "#f0f921"
             ]
            ],
            "type": "heatmap"
           }
          ],
          "heatmapgl": [
           {
            "colorbar": {
             "outlinewidth": 0,
             "ticks": ""
            },
            "colorscale": [
             [
              0,
              "#0d0887"
             ],
             [
              0.1111111111111111,
              "#46039f"
             ],
             [
              0.2222222222222222,
              "#7201a8"
             ],
             [
              0.3333333333333333,
              "#9c179e"
             ],
             [
              0.4444444444444444,
              "#bd3786"
             ],
             [
              0.5555555555555556,
              "#d8576b"
             ],
             [
              0.6666666666666666,
              "#ed7953"
             ],
             [
              0.7777777777777778,
              "#fb9f3a"
             ],
             [
              0.8888888888888888,
              "#fdca26"
             ],
             [
              1,
              "#f0f921"
             ]
            ],
            "type": "heatmapgl"
           }
          ],
          "histogram": [
           {
            "marker": {
             "pattern": {
              "fillmode": "overlay",
              "size": 10,
              "solidity": 0.2
             }
            },
            "type": "histogram"
           }
          ],
          "histogram2d": [
           {
            "colorbar": {
             "outlinewidth": 0,
             "ticks": ""
            },
            "colorscale": [
             [
              0,
              "#0d0887"
             ],
             [
              0.1111111111111111,
              "#46039f"
             ],
             [
              0.2222222222222222,
              "#7201a8"
             ],
             [
              0.3333333333333333,
              "#9c179e"
             ],
             [
              0.4444444444444444,
              "#bd3786"
             ],
             [
              0.5555555555555556,
              "#d8576b"
             ],
             [
              0.6666666666666666,
              "#ed7953"
             ],
             [
              0.7777777777777778,
              "#fb9f3a"
             ],
             [
              0.8888888888888888,
              "#fdca26"
             ],
             [
              1,
              "#f0f921"
             ]
            ],
            "type": "histogram2d"
           }
          ],
          "histogram2dcontour": [
           {
            "colorbar": {
             "outlinewidth": 0,
             "ticks": ""
            },
            "colorscale": [
             [
              0,
              "#0d0887"
             ],
             [
              0.1111111111111111,
              "#46039f"
             ],
             [
              0.2222222222222222,
              "#7201a8"
             ],
             [
              0.3333333333333333,
              "#9c179e"
             ],
             [
              0.4444444444444444,
              "#bd3786"
             ],
             [
              0.5555555555555556,
              "#d8576b"
             ],
             [
              0.6666666666666666,
              "#ed7953"
             ],
             [
              0.7777777777777778,
              "#fb9f3a"
             ],
             [
              0.8888888888888888,
              "#fdca26"
             ],
             [
              1,
              "#f0f921"
             ]
            ],
            "type": "histogram2dcontour"
           }
          ],
          "mesh3d": [
           {
            "colorbar": {
             "outlinewidth": 0,
             "ticks": ""
            },
            "type": "mesh3d"
           }
          ],
          "parcoords": [
           {
            "line": {
             "colorbar": {
              "outlinewidth": 0,
              "ticks": ""
             }
            },
            "type": "parcoords"
           }
          ],
          "pie": [
           {
            "automargin": true,
            "type": "pie"
           }
          ],
          "scatter": [
           {
            "fillpattern": {
             "fillmode": "overlay",
             "size": 10,
             "solidity": 0.2
            },
            "type": "scatter"
           }
          ],
          "scatter3d": [
           {
            "line": {
             "colorbar": {
              "outlinewidth": 0,
              "ticks": ""
             }
            },
            "marker": {
             "colorbar": {
              "outlinewidth": 0,
              "ticks": ""
             }
            },
            "type": "scatter3d"
           }
          ],
          "scattercarpet": [
           {
            "marker": {
             "colorbar": {
              "outlinewidth": 0,
              "ticks": ""
             }
            },
            "type": "scattercarpet"
           }
          ],
          "scattergeo": [
           {
            "marker": {
             "colorbar": {
              "outlinewidth": 0,
              "ticks": ""
             }
            },
            "type": "scattergeo"
           }
          ],
          "scattergl": [
           {
            "marker": {
             "colorbar": {
              "outlinewidth": 0,
              "ticks": ""
             }
            },
            "type": "scattergl"
           }
          ],
          "scattermapbox": [
           {
            "marker": {
             "colorbar": {
              "outlinewidth": 0,
              "ticks": ""
             }
            },
            "type": "scattermapbox"
           }
          ],
          "scatterpolar": [
           {
            "marker": {
             "colorbar": {
              "outlinewidth": 0,
              "ticks": ""
             }
            },
            "type": "scatterpolar"
           }
          ],
          "scatterpolargl": [
           {
            "marker": {
             "colorbar": {
              "outlinewidth": 0,
              "ticks": ""
             }
            },
            "type": "scatterpolargl"
           }
          ],
          "scatterternary": [
           {
            "marker": {
             "colorbar": {
              "outlinewidth": 0,
              "ticks": ""
             }
            },
            "type": "scatterternary"
           }
          ],
          "surface": [
           {
            "colorbar": {
             "outlinewidth": 0,
             "ticks": ""
            },
            "colorscale": [
             [
              0,
              "#0d0887"
             ],
             [
              0.1111111111111111,
              "#46039f"
             ],
             [
              0.2222222222222222,
              "#7201a8"
             ],
             [
              0.3333333333333333,
              "#9c179e"
             ],
             [
              0.4444444444444444,
              "#bd3786"
             ],
             [
              0.5555555555555556,
              "#d8576b"
             ],
             [
              0.6666666666666666,
              "#ed7953"
             ],
             [
              0.7777777777777778,
              "#fb9f3a"
             ],
             [
              0.8888888888888888,
              "#fdca26"
             ],
             [
              1,
              "#f0f921"
             ]
            ],
            "type": "surface"
           }
          ],
          "table": [
           {
            "cells": {
             "fill": {
              "color": "#EBF0F8"
             },
             "line": {
              "color": "white"
             }
            },
            "header": {
             "fill": {
              "color": "#C8D4E3"
             },
             "line": {
              "color": "white"
             }
            },
            "type": "table"
           }
          ]
         },
         "layout": {
          "annotationdefaults": {
           "arrowcolor": "#2a3f5f",
           "arrowhead": 0,
           "arrowwidth": 1
          },
          "autotypenumbers": "strict",
          "coloraxis": {
           "colorbar": {
            "outlinewidth": 0,
            "ticks": ""
           }
          },
          "colorscale": {
           "diverging": [
            [
             0,
             "#8e0152"
            ],
            [
             0.1,
             "#c51b7d"
            ],
            [
             0.2,
             "#de77ae"
            ],
            [
             0.3,
             "#f1b6da"
            ],
            [
             0.4,
             "#fde0ef"
            ],
            [
             0.5,
             "#f7f7f7"
            ],
            [
             0.6,
             "#e6f5d0"
            ],
            [
             0.7,
             "#b8e186"
            ],
            [
             0.8,
             "#7fbc41"
            ],
            [
             0.9,
             "#4d9221"
            ],
            [
             1,
             "#276419"
            ]
           ],
           "sequential": [
            [
             0,
             "#0d0887"
            ],
            [
             0.1111111111111111,
             "#46039f"
            ],
            [
             0.2222222222222222,
             "#7201a8"
            ],
            [
             0.3333333333333333,
             "#9c179e"
            ],
            [
             0.4444444444444444,
             "#bd3786"
            ],
            [
             0.5555555555555556,
             "#d8576b"
            ],
            [
             0.6666666666666666,
             "#ed7953"
            ],
            [
             0.7777777777777778,
             "#fb9f3a"
            ],
            [
             0.8888888888888888,
             "#fdca26"
            ],
            [
             1,
             "#f0f921"
            ]
           ],
           "sequentialminus": [
            [
             0,
             "#0d0887"
            ],
            [
             0.1111111111111111,
             "#46039f"
            ],
            [
             0.2222222222222222,
             "#7201a8"
            ],
            [
             0.3333333333333333,
             "#9c179e"
            ],
            [
             0.4444444444444444,
             "#bd3786"
            ],
            [
             0.5555555555555556,
             "#d8576b"
            ],
            [
             0.6666666666666666,
             "#ed7953"
            ],
            [
             0.7777777777777778,
             "#fb9f3a"
            ],
            [
             0.8888888888888888,
             "#fdca26"
            ],
            [
             1,
             "#f0f921"
            ]
           ]
          },
          "colorway": [
           "#636efa",
           "#EF553B",
           "#00cc96",
           "#ab63fa",
           "#FFA15A",
           "#19d3f3",
           "#FF6692",
           "#B6E880",
           "#FF97FF",
           "#FECB52"
          ],
          "font": {
           "color": "#2a3f5f"
          },
          "geo": {
           "bgcolor": "white",
           "lakecolor": "white",
           "landcolor": "#E5ECF6",
           "showlakes": true,
           "showland": true,
           "subunitcolor": "white"
          },
          "hoverlabel": {
           "align": "left"
          },
          "hovermode": "closest",
          "mapbox": {
           "style": "light"
          },
          "paper_bgcolor": "white",
          "plot_bgcolor": "#E5ECF6",
          "polar": {
           "angularaxis": {
            "gridcolor": "white",
            "linecolor": "white",
            "ticks": ""
           },
           "bgcolor": "#E5ECF6",
           "radialaxis": {
            "gridcolor": "white",
            "linecolor": "white",
            "ticks": ""
           }
          },
          "scene": {
           "xaxis": {
            "backgroundcolor": "#E5ECF6",
            "gridcolor": "white",
            "gridwidth": 2,
            "linecolor": "white",
            "showbackground": true,
            "ticks": "",
            "zerolinecolor": "white"
           },
           "yaxis": {
            "backgroundcolor": "#E5ECF6",
            "gridcolor": "white",
            "gridwidth": 2,
            "linecolor": "white",
            "showbackground": true,
            "ticks": "",
            "zerolinecolor": "white"
           },
           "zaxis": {
            "backgroundcolor": "#E5ECF6",
            "gridcolor": "white",
            "gridwidth": 2,
            "linecolor": "white",
            "showbackground": true,
            "ticks": "",
            "zerolinecolor": "white"
           }
          },
          "shapedefaults": {
           "line": {
            "color": "#2a3f5f"
           }
          },
          "ternary": {
           "aaxis": {
            "gridcolor": "white",
            "linecolor": "white",
            "ticks": ""
           },
           "baxis": {
            "gridcolor": "white",
            "linecolor": "white",
            "ticks": ""
           },
           "bgcolor": "#E5ECF6",
           "caxis": {
            "gridcolor": "white",
            "linecolor": "white",
            "ticks": ""
           }
          },
          "title": {
           "x": 0.05
          },
          "xaxis": {
           "automargin": true,
           "gridcolor": "white",
           "linecolor": "white",
           "ticks": "",
           "title": {
            "standoff": 15
           },
           "zerolinecolor": "white",
           "zerolinewidth": 2
          },
          "yaxis": {
           "automargin": true,
           "gridcolor": "white",
           "linecolor": "white",
           "ticks": "",
           "title": {
            "standoff": 15
           },
           "zerolinecolor": "white",
           "zerolinewidth": 2
          }
         }
        },
        "title": {
         "text": "Annual Burned Area in Australia"
        },
        "width": 1000,
        "xaxis": {
         "anchor": "y",
         "domain": [
          0,
          1
         ],
         "showgrid": false,
         "title": {
          "text": "Year"
         }
        },
        "yaxis": {
         "anchor": "x",
         "domain": [
          0,
          1
         ],
         "gridcolor": "lightgrey",
         "showgrid": true,
         "title": {
          "text": "Burned Area (km²)"
         }
        }
       }
      }
     },
     "metadata": {},
     "output_type": "display_data"
    }
   ],
   "source": [
    "import pandas as pd\n",
    "import plotly.express as px\n",
    "\n",
    "df = pd.read_csv('modis_2000-2019_Australia.csv')\n",
    "df['acq_date'] = pd.to_datetime(df['acq_date'])\n",
    "df['year'] = df['acq_date'].dt.year\n",
    "\n",
    "annual_area = df.groupby('year').size().reset_index(name='detections')\n",
    "annual_area['burned_area'] = annual_area['detections'] * 1  \n",
    "\n",
    "fig = px.line(\n",
    "    annual_area,\n",
    "    x='year',\n",
    "    y='burned_area',\n",
    "    markers=True,\n",
    "    title='Annual Burned Area in Australia',\n",
    "    labels={'burned_area': 'Burned Area (km²)', 'year': 'Year'},\n",
    "    height=600,\n",
    "    width=1000\n",
    ")\n",
    "\n",
    "fig.update_layout(\n",
    "    plot_bgcolor='white',\n",
    "    xaxis=dict(showgrid=False),\n",
    "    yaxis=dict(showgrid=True, gridcolor='lightgrey'),\n",
    "    hovermode='x unified'\n",
    ")\n",
    "\n",
    "fig.update_traces(\n",
    "    line=dict(width=2.5, color='#FF5722'),\n",
    "    marker=dict(size=8, color='#E64A19')\n",
    ")\n",
    "\n",
    "fig.show()"
   ]
  },
  {
   "cell_type": "markdown",
   "metadata": {},
   "source": [
    "We can see the the burned area is alternating between one year high and one year low, except for the year 2011 and 2012 which could be attributted to harsher winds, lesser rainfall, less humidity which can drastically affect wildlist biodiversity. We will further conduct weather analysis below."
   ]
  },
  {
   "cell_type": "markdown",
   "metadata": {},
   "source": [
    "From the line graph below, we can tell that the temperature over the years dont seem to really change drastically telling us that forest fires do not cause a significant increase in temperature across australia. so now we can rule out that biodiversity decrease are not caused by overal temperature in australia\n"
   ]
  },
  {
   "cell_type": "code",
   "execution_count": 14,
   "metadata": {},
   "outputs": [
    {
     "data": {
      "application/vnd.plotly.v1+json": {
       "config": {
        "plotlyServerURL": "https://plot.ly"
       },
       "data": [
        {
         "hovertemplate": "Year=2007<br>=%{x}<br>Temperature (°C)=%{y}<extra></extra>",
         "legendgroup": "2007",
         "line": {
          "color": "#636efa",
          "dash": "solid"
         },
         "marker": {
          "symbol": "circle"
         },
         "mode": "markers+lines",
         "name": "2007",
         "orientation": "v",
         "showlegend": true,
         "type": "scatter",
         "x": [
          11,
          12
         ],
         "xaxis": "x",
         "y": [
          25.053333333333335,
          25.11935483870968
         ],
         "yaxis": "y"
        },
        {
         "hovertemplate": "Year=2008<br>=%{x}<br>Temperature (°C)=%{y}<extra></extra>",
         "legendgroup": "2008",
         "line": {
          "color": "#EF553B",
          "dash": "solid"
         },
         "marker": {
          "symbol": "circle"
         },
         "mode": "markers+lines",
         "name": "2008",
         "orientation": "v",
         "showlegend": true,
         "type": "scatter",
         "x": [
          1,
          2,
          3,
          4,
          5,
          6,
          7,
          8,
          9,
          10,
          11,
          12
         ],
         "xaxis": "x",
         "y": [
          29.125806451612902,
          24.662068965517243,
          25.52741935483871,
          20.508333333333333,
          18.883870967741935,
          16.571666666666665,
          17.41532258064516,
          18.421774193548387,
          21.752719665271965,
          24.329268292682926,
          24.882083333333334,
          25.970338983050848
         ],
         "yaxis": "y"
        },
        {
         "hovertemplate": "Year=2009<br>=%{x}<br>Temperature (°C)=%{y}<extra></extra>",
         "legendgroup": "2009",
         "line": {
          "color": "#00cc96",
          "dash": "solid"
         },
         "marker": {
          "symbol": "circle"
         },
         "mode": "markers+lines",
         "name": "2009",
         "orientation": "v",
         "showlegend": true,
         "type": "scatter",
         "x": [
          1,
          2,
          3,
          4,
          5,
          6,
          7,
          8,
          9,
          10,
          11,
          12
         ],
         "xaxis": "x",
         "y": [
          29.992605886575735,
          28.720859872611467,
          26.58311048557354,
          22.984985422740525,
          19.92183988764045,
          17.034204793028323,
          16.54112676056338,
          19.026722925457104,
          20.681905465288036,
          22.31813655761024,
          27.91542397660819,
          27.915726375176305
         ],
         "yaxis": "y"
        },
        {
         "hovertemplate": "Year=2010<br>=%{x}<br>Temperature (°C)=%{y}<extra></extra>",
         "legendgroup": "2010",
         "line": {
          "color": "#ab63fa",
          "dash": "solid"
         },
         "marker": {
          "symbol": "circle"
         },
         "mode": "markers+lines",
         "name": "2010",
         "orientation": "v",
         "showlegend": true,
         "type": "scatter",
         "x": [
          1,
          2,
          3,
          4,
          5,
          6,
          7,
          8,
          9,
          10,
          11,
          12
         ],
         "xaxis": "x",
         "y": [
          29.76354019746121,
          29.010538641686182,
          26.832348804500704,
          23.72309941520468,
          19.836039886039885,
          16.77361419068736,
          16.43982990786676,
          16.730247349823323,
          19.31190994916485,
          21.99642857142857,
          24.55203488372093,
          26.170488322717624
         ],
         "yaxis": "y"
        },
        {
         "hovertemplate": "Year=2011<br>=%{x}<br>Temperature (°C)=%{y}<extra></extra>",
         "legendgroup": "2011",
         "line": {
          "color": "#FFA15A",
          "dash": "solid"
         },
         "marker": {
          "symbol": "circle"
         },
         "mode": "markers+lines",
         "name": "2011",
         "orientation": "v",
         "showlegend": true,
         "type": "scatter",
         "x": [
          1,
          2,
          3,
          5,
          6,
          7,
          8,
          9,
          10,
          11,
          12
         ],
         "xaxis": "x",
         "y": [
          28.903312191684286,
          28.128715953307395,
          25.67990126939351,
          18.81719298245614,
          17.19461426491994,
          16.303518648838846,
          18.78319209039548,
          20.590531682447196,
          22.283660589060307,
          25.74847605224964,
          25.90007012622721
         ],
         "yaxis": "y"
        },
        {
         "hovertemplate": "Year=2012<br>=%{x}<br>Temperature (°C)=%{y}<extra></extra>",
         "legendgroup": "2012",
         "line": {
          "color": "#19d3f3",
          "dash": "solid"
         },
         "marker": {
          "symbol": "circle"
         },
         "mode": "markers+lines",
         "name": "2012",
         "orientation": "v",
         "showlegend": true,
         "type": "scatter",
         "x": [
          1,
          2,
          3,
          4,
          5,
          6,
          7,
          8,
          9,
          10,
          11
         ],
         "xaxis": "x",
         "y": [
          28.571830985915494,
          27.48575712143928,
          25.43408609738885,
          23.56860465116279,
          19.55998593530239,
          16.620391872278667,
          16.49048625792812,
          17.836286919831224,
          20.87170909090909,
          23.36333567909923,
          25.87902757619739
         ],
         "yaxis": "y"
        },
        {
         "hovertemplate": "Year=2013<br>=%{x}<br>Temperature (°C)=%{y}<extra></extra>",
         "legendgroup": "2013",
         "line": {
          "color": "#FF6692",
          "dash": "solid"
         },
         "marker": {
          "symbol": "circle"
         },
         "mode": "markers+lines",
         "name": "2013",
         "orientation": "v",
         "showlegend": true,
         "type": "scatter",
         "x": [
          1,
          3,
          4,
          5,
          6,
          7,
          8,
          9,
          10,
          11,
          12
         ],
         "xaxis": "x",
         "y": [
          30.07716092761771,
          27.378651685393258,
          24.195827633378936,
          20.352191235059763,
          17.396664397549355,
          17.578905735003296,
          19.22811881188119,
          22.68324250681199,
          24.055408970976252,
          25.39788106630212,
          28.185629139072848
         ],
         "yaxis": "y"
        },
        {
         "hovertemplate": "Year=2014<br>=%{x}<br>Temperature (°C)=%{y}<extra></extra>",
         "legendgroup": "2014",
         "line": {
          "color": "#B6E880",
          "dash": "solid"
         },
         "marker": {
          "symbol": "circle"
         },
         "mode": "markers+lines",
         "name": "2014",
         "orientation": "v",
         "showlegend": true,
         "type": "scatter",
         "x": [
          1,
          2,
          3,
          4,
          5,
          6,
          7,
          8,
          9,
          10,
          11,
          12
         ],
         "xaxis": "x",
         "y": [
          30.228998009289977,
          29.18845029239766,
          27.13545816733068,
          23.615205479452055,
          21.058476821192052,
          17.75523613963039,
          17.10711931443639,
          18.338076416337287,
          21.485821404226314,
          25.06844532279315,
          27.07867847411444,
          27.86708692767087
         ],
         "yaxis": "y"
        },
        {
         "hovertemplate": "Year=2015<br>=%{x}<br>Temperature (°C)=%{y}<extra></extra>",
         "legendgroup": "2015",
         "line": {
          "color": "#FF97FF",
          "dash": "solid"
         },
         "marker": {
          "symbol": "circle"
         },
         "mode": "markers+lines",
         "name": "2015",
         "orientation": "v",
         "showlegend": true,
         "type": "scatter",
         "x": [
          1,
          2,
          3,
          4,
          5,
          6,
          7,
          8,
          9,
          10,
          11,
          12
         ],
         "xaxis": "x",
         "y": [
          28.728887399463808,
          29.71268656716418,
          26.924375422012155,
          22.463275261324043,
          19.68658125421443,
          17.607777777777777,
          16.278855218855217,
          17.881603773584906,
          20.66318719554628,
          26.532703978422116,
          27.02784368457781,
          29.096218771100606
         ],
         "yaxis": "y"
        },
        {
         "hovertemplate": "Year=2016<br>=%{x}<br>Temperature (°C)=%{y}<extra></extra>",
         "legendgroup": "2016",
         "line": {
          "color": "#FECB52",
          "dash": "solid"
         },
         "marker": {
          "symbol": "circle"
         },
         "mode": "markers+lines",
         "name": "2016",
         "orientation": "v",
         "showlegend": true,
         "type": "scatter",
         "x": [
          1,
          2,
          3,
          4,
          5,
          6,
          7,
          8,
          9,
          10,
          11,
          12
         ],
         "xaxis": "x",
         "y": [
          29.283705206220418,
          29.69658925979681,
          28.03717774762551,
          25.11231732776618,
          21.004026402640264,
          17.26185919343814,
          17.020145791915176,
          18.025099337748344,
          19.465030674846627,
          22.31969596827495,
          26.07424863387978,
          28.45
         ],
         "yaxis": "y"
        },
        {
         "hovertemplate": "Year=2017<br>=%{x}<br>Temperature (°C)=%{y}<extra></extra>",
         "legendgroup": "2017",
         "line": {
          "color": "#636efa",
          "dash": "solid"
         },
         "marker": {
          "symbol": "circle"
         },
         "mode": "markers+lines",
         "name": "2017",
         "orientation": "v",
         "showlegend": true,
         "type": "scatter",
         "x": [
          1,
          2,
          3,
          4,
          5,
          6
         ],
         "xaxis": "x",
         "y": [
          30.223342175066314,
          29.151539589442812,
          27.864233576642338,
          23.430827586206895,
          20.265805168986084,
          18.21769102990033
         ],
         "yaxis": "y"
        }
       ],
       "layout": {
        "legend": {
         "title": {
          "text": "Year"
         },
         "tracegroupgap": 0
        },
        "template": {
         "data": {
          "bar": [
           {
            "error_x": {
             "color": "#2a3f5f"
            },
            "error_y": {
             "color": "#2a3f5f"
            },
            "marker": {
             "line": {
              "color": "#E5ECF6",
              "width": 0.5
             },
             "pattern": {
              "fillmode": "overlay",
              "size": 10,
              "solidity": 0.2
             }
            },
            "type": "bar"
           }
          ],
          "barpolar": [
           {
            "marker": {
             "line": {
              "color": "#E5ECF6",
              "width": 0.5
             },
             "pattern": {
              "fillmode": "overlay",
              "size": 10,
              "solidity": 0.2
             }
            },
            "type": "barpolar"
           }
          ],
          "carpet": [
           {
            "aaxis": {
             "endlinecolor": "#2a3f5f",
             "gridcolor": "white",
             "linecolor": "white",
             "minorgridcolor": "white",
             "startlinecolor": "#2a3f5f"
            },
            "baxis": {
             "endlinecolor": "#2a3f5f",
             "gridcolor": "white",
             "linecolor": "white",
             "minorgridcolor": "white",
             "startlinecolor": "#2a3f5f"
            },
            "type": "carpet"
           }
          ],
          "choropleth": [
           {
            "colorbar": {
             "outlinewidth": 0,
             "ticks": ""
            },
            "type": "choropleth"
           }
          ],
          "contour": [
           {
            "colorbar": {
             "outlinewidth": 0,
             "ticks": ""
            },
            "colorscale": [
             [
              0,
              "#0d0887"
             ],
             [
              0.1111111111111111,
              "#46039f"
             ],
             [
              0.2222222222222222,
              "#7201a8"
             ],
             [
              0.3333333333333333,
              "#9c179e"
             ],
             [
              0.4444444444444444,
              "#bd3786"
             ],
             [
              0.5555555555555556,
              "#d8576b"
             ],
             [
              0.6666666666666666,
              "#ed7953"
             ],
             [
              0.7777777777777778,
              "#fb9f3a"
             ],
             [
              0.8888888888888888,
              "#fdca26"
             ],
             [
              1,
              "#f0f921"
             ]
            ],
            "type": "contour"
           }
          ],
          "contourcarpet": [
           {
            "colorbar": {
             "outlinewidth": 0,
             "ticks": ""
            },
            "type": "contourcarpet"
           }
          ],
          "heatmap": [
           {
            "colorbar": {
             "outlinewidth": 0,
             "ticks": ""
            },
            "colorscale": [
             [
              0,
              "#0d0887"
             ],
             [
              0.1111111111111111,
              "#46039f"
             ],
             [
              0.2222222222222222,
              "#7201a8"
             ],
             [
              0.3333333333333333,
              "#9c179e"
             ],
             [
              0.4444444444444444,
              "#bd3786"
             ],
             [
              0.5555555555555556,
              "#d8576b"
             ],
             [
              0.6666666666666666,
              "#ed7953"
             ],
             [
              0.7777777777777778,
              "#fb9f3a"
             ],
             [
              0.8888888888888888,
              "#fdca26"
             ],
             [
              1,
              "#f0f921"
             ]
            ],
            "type": "heatmap"
           }
          ],
          "heatmapgl": [
           {
            "colorbar": {
             "outlinewidth": 0,
             "ticks": ""
            },
            "colorscale": [
             [
              0,
              "#0d0887"
             ],
             [
              0.1111111111111111,
              "#46039f"
             ],
             [
              0.2222222222222222,
              "#7201a8"
             ],
             [
              0.3333333333333333,
              "#9c179e"
             ],
             [
              0.4444444444444444,
              "#bd3786"
             ],
             [
              0.5555555555555556,
              "#d8576b"
             ],
             [
              0.6666666666666666,
              "#ed7953"
             ],
             [
              0.7777777777777778,
              "#fb9f3a"
             ],
             [
              0.8888888888888888,
              "#fdca26"
             ],
             [
              1,
              "#f0f921"
             ]
            ],
            "type": "heatmapgl"
           }
          ],
          "histogram": [
           {
            "marker": {
             "pattern": {
              "fillmode": "overlay",
              "size": 10,
              "solidity": 0.2
             }
            },
            "type": "histogram"
           }
          ],
          "histogram2d": [
           {
            "colorbar": {
             "outlinewidth": 0,
             "ticks": ""
            },
            "colorscale": [
             [
              0,
              "#0d0887"
             ],
             [
              0.1111111111111111,
              "#46039f"
             ],
             [
              0.2222222222222222,
              "#7201a8"
             ],
             [
              0.3333333333333333,
              "#9c179e"
             ],
             [
              0.4444444444444444,
              "#bd3786"
             ],
             [
              0.5555555555555556,
              "#d8576b"
             ],
             [
              0.6666666666666666,
              "#ed7953"
             ],
             [
              0.7777777777777778,
              "#fb9f3a"
             ],
             [
              0.8888888888888888,
              "#fdca26"
             ],
             [
              1,
              "#f0f921"
             ]
            ],
            "type": "histogram2d"
           }
          ],
          "histogram2dcontour": [
           {
            "colorbar": {
             "outlinewidth": 0,
             "ticks": ""
            },
            "colorscale": [
             [
              0,
              "#0d0887"
             ],
             [
              0.1111111111111111,
              "#46039f"
             ],
             [
              0.2222222222222222,
              "#7201a8"
             ],
             [
              0.3333333333333333,
              "#9c179e"
             ],
             [
              0.4444444444444444,
              "#bd3786"
             ],
             [
              0.5555555555555556,
              "#d8576b"
             ],
             [
              0.6666666666666666,
              "#ed7953"
             ],
             [
              0.7777777777777778,
              "#fb9f3a"
             ],
             [
              0.8888888888888888,
              "#fdca26"
             ],
             [
              1,
              "#f0f921"
             ]
            ],
            "type": "histogram2dcontour"
           }
          ],
          "mesh3d": [
           {
            "colorbar": {
             "outlinewidth": 0,
             "ticks": ""
            },
            "type": "mesh3d"
           }
          ],
          "parcoords": [
           {
            "line": {
             "colorbar": {
              "outlinewidth": 0,
              "ticks": ""
             }
            },
            "type": "parcoords"
           }
          ],
          "pie": [
           {
            "automargin": true,
            "type": "pie"
           }
          ],
          "scatter": [
           {
            "fillpattern": {
             "fillmode": "overlay",
             "size": 10,
             "solidity": 0.2
            },
            "type": "scatter"
           }
          ],
          "scatter3d": [
           {
            "line": {
             "colorbar": {
              "outlinewidth": 0,
              "ticks": ""
             }
            },
            "marker": {
             "colorbar": {
              "outlinewidth": 0,
              "ticks": ""
             }
            },
            "type": "scatter3d"
           }
          ],
          "scattercarpet": [
           {
            "marker": {
             "colorbar": {
              "outlinewidth": 0,
              "ticks": ""
             }
            },
            "type": "scattercarpet"
           }
          ],
          "scattergeo": [
           {
            "marker": {
             "colorbar": {
              "outlinewidth": 0,
              "ticks": ""
             }
            },
            "type": "scattergeo"
           }
          ],
          "scattergl": [
           {
            "marker": {
             "colorbar": {
              "outlinewidth": 0,
              "ticks": ""
             }
            },
            "type": "scattergl"
           }
          ],
          "scattermapbox": [
           {
            "marker": {
             "colorbar": {
              "outlinewidth": 0,
              "ticks": ""
             }
            },
            "type": "scattermapbox"
           }
          ],
          "scatterpolar": [
           {
            "marker": {
             "colorbar": {
              "outlinewidth": 0,
              "ticks": ""
             }
            },
            "type": "scatterpolar"
           }
          ],
          "scatterpolargl": [
           {
            "marker": {
             "colorbar": {
              "outlinewidth": 0,
              "ticks": ""
             }
            },
            "type": "scatterpolargl"
           }
          ],
          "scatterternary": [
           {
            "marker": {
             "colorbar": {
              "outlinewidth": 0,
              "ticks": ""
             }
            },
            "type": "scatterternary"
           }
          ],
          "surface": [
           {
            "colorbar": {
             "outlinewidth": 0,
             "ticks": ""
            },
            "colorscale": [
             [
              0,
              "#0d0887"
             ],
             [
              0.1111111111111111,
              "#46039f"
             ],
             [
              0.2222222222222222,
              "#7201a8"
             ],
             [
              0.3333333333333333,
              "#9c179e"
             ],
             [
              0.4444444444444444,
              "#bd3786"
             ],
             [
              0.5555555555555556,
              "#d8576b"
             ],
             [
              0.6666666666666666,
              "#ed7953"
             ],
             [
              0.7777777777777778,
              "#fb9f3a"
             ],
             [
              0.8888888888888888,
              "#fdca26"
             ],
             [
              1,
              "#f0f921"
             ]
            ],
            "type": "surface"
           }
          ],
          "table": [
           {
            "cells": {
             "fill": {
              "color": "#EBF0F8"
             },
             "line": {
              "color": "white"
             }
            },
            "header": {
             "fill": {
              "color": "#C8D4E3"
             },
             "line": {
              "color": "white"
             }
            },
            "type": "table"
           }
          ]
         },
         "layout": {
          "annotationdefaults": {
           "arrowcolor": "#2a3f5f",
           "arrowhead": 0,
           "arrowwidth": 1
          },
          "autotypenumbers": "strict",
          "coloraxis": {
           "colorbar": {
            "outlinewidth": 0,
            "ticks": ""
           }
          },
          "colorscale": {
           "diverging": [
            [
             0,
             "#8e0152"
            ],
            [
             0.1,
             "#c51b7d"
            ],
            [
             0.2,
             "#de77ae"
            ],
            [
             0.3,
             "#f1b6da"
            ],
            [
             0.4,
             "#fde0ef"
            ],
            [
             0.5,
             "#f7f7f7"
            ],
            [
             0.6,
             "#e6f5d0"
            ],
            [
             0.7,
             "#b8e186"
            ],
            [
             0.8,
             "#7fbc41"
            ],
            [
             0.9,
             "#4d9221"
            ],
            [
             1,
             "#276419"
            ]
           ],
           "sequential": [
            [
             0,
             "#0d0887"
            ],
            [
             0.1111111111111111,
             "#46039f"
            ],
            [
             0.2222222222222222,
             "#7201a8"
            ],
            [
             0.3333333333333333,
             "#9c179e"
            ],
            [
             0.4444444444444444,
             "#bd3786"
            ],
            [
             0.5555555555555556,
             "#d8576b"
            ],
            [
             0.6666666666666666,
             "#ed7953"
            ],
            [
             0.7777777777777778,
             "#fb9f3a"
            ],
            [
             0.8888888888888888,
             "#fdca26"
            ],
            [
             1,
             "#f0f921"
            ]
           ],
           "sequentialminus": [
            [
             0,
             "#0d0887"
            ],
            [
             0.1111111111111111,
             "#46039f"
            ],
            [
             0.2222222222222222,
             "#7201a8"
            ],
            [
             0.3333333333333333,
             "#9c179e"
            ],
            [
             0.4444444444444444,
             "#bd3786"
            ],
            [
             0.5555555555555556,
             "#d8576b"
            ],
            [
             0.6666666666666666,
             "#ed7953"
            ],
            [
             0.7777777777777778,
             "#fb9f3a"
            ],
            [
             0.8888888888888888,
             "#fdca26"
            ],
            [
             1,
             "#f0f921"
            ]
           ]
          },
          "colorway": [
           "#636efa",
           "#EF553B",
           "#00cc96",
           "#ab63fa",
           "#FFA15A",
           "#19d3f3",
           "#FF6692",
           "#B6E880",
           "#FF97FF",
           "#FECB52"
          ],
          "font": {
           "color": "#2a3f5f"
          },
          "geo": {
           "bgcolor": "white",
           "lakecolor": "white",
           "landcolor": "#E5ECF6",
           "showlakes": true,
           "showland": true,
           "subunitcolor": "white"
          },
          "hoverlabel": {
           "align": "left"
          },
          "hovermode": "closest",
          "mapbox": {
           "style": "light"
          },
          "paper_bgcolor": "white",
          "plot_bgcolor": "#E5ECF6",
          "polar": {
           "angularaxis": {
            "gridcolor": "white",
            "linecolor": "white",
            "ticks": ""
           },
           "bgcolor": "#E5ECF6",
           "radialaxis": {
            "gridcolor": "white",
            "linecolor": "white",
            "ticks": ""
           }
          },
          "scene": {
           "xaxis": {
            "backgroundcolor": "#E5ECF6",
            "gridcolor": "white",
            "gridwidth": 2,
            "linecolor": "white",
            "showbackground": true,
            "ticks": "",
            "zerolinecolor": "white"
           },
           "yaxis": {
            "backgroundcolor": "#E5ECF6",
            "gridcolor": "white",
            "gridwidth": 2,
            "linecolor": "white",
            "showbackground": true,
            "ticks": "",
            "zerolinecolor": "white"
           },
           "zaxis": {
            "backgroundcolor": "#E5ECF6",
            "gridcolor": "white",
            "gridwidth": 2,
            "linecolor": "white",
            "showbackground": true,
            "ticks": "",
            "zerolinecolor": "white"
           }
          },
          "shapedefaults": {
           "line": {
            "color": "#2a3f5f"
           }
          },
          "ternary": {
           "aaxis": {
            "gridcolor": "white",
            "linecolor": "white",
            "ticks": ""
           },
           "baxis": {
            "gridcolor": "white",
            "linecolor": "white",
            "ticks": ""
           },
           "bgcolor": "#E5ECF6",
           "caxis": {
            "gridcolor": "white",
            "linecolor": "white",
            "ticks": ""
           }
          },
          "title": {
           "x": 0.05
          },
          "xaxis": {
           "automargin": true,
           "gridcolor": "white",
           "linecolor": "white",
           "ticks": "",
           "title": {
            "standoff": 15
           },
           "zerolinecolor": "white",
           "zerolinewidth": 2
          },
          "yaxis": {
           "automargin": true,
           "gridcolor": "white",
           "linecolor": "white",
           "ticks": "",
           "title": {
            "standoff": 15
           },
           "zerolinecolor": "white",
           "zerolinewidth": 2
          }
         }
        },
        "title": {
         "text": "<b>Yearly Temperature Trends by Month</b>"
        },
        "updatemenus": [
         {
          "buttons": [
           {
            "args": [
             {
              "y": [
               [
                25.053333333333335,
                25.11935483870968,
                29.125806451612902,
                24.662068965517243,
                25.52741935483871,
                20.508333333333333,
                18.883870967741935,
                16.571666666666665,
                17.41532258064516,
                18.421774193548387,
                21.752719665271965,
                24.329268292682926,
                24.882083333333334,
                25.970338983050848,
                29.992605886575735,
                28.720859872611467,
                26.58311048557354,
                22.984985422740525,
                19.92183988764045,
                17.034204793028323,
                16.54112676056338,
                19.026722925457104,
                20.681905465288036,
                22.31813655761024,
                27.91542397660819,
                27.915726375176305,
                29.76354019746121,
                29.010538641686182,
                26.832348804500704,
                23.72309941520468,
                19.836039886039885,
                16.77361419068736,
                16.43982990786676,
                16.730247349823323,
                19.31190994916485,
                21.99642857142857,
                24.55203488372093,
                26.170488322717624,
                28.903312191684286,
                28.128715953307395,
                25.67990126939351,
                18.81719298245614,
                17.19461426491994,
                16.303518648838846,
                18.78319209039548,
                20.590531682447196,
                22.283660589060307,
                25.74847605224964,
                25.90007012622721,
                28.571830985915494,
                27.48575712143928,
                25.43408609738885,
                23.56860465116279,
                19.55998593530239,
                16.620391872278667,
                16.49048625792812,
                17.836286919831224,
                20.87170909090909,
                23.36333567909923,
                25.87902757619739,
                30.07716092761771,
                27.378651685393258,
                24.195827633378936,
                20.352191235059763,
                17.396664397549355,
                17.578905735003296,
                19.22811881188119,
                22.68324250681199,
                24.055408970976252,
                25.39788106630212,
                28.185629139072848,
                30.228998009289977,
                29.18845029239766,
                27.13545816733068,
                23.615205479452055,
                21.058476821192052,
                17.75523613963039,
                17.10711931443639,
                18.338076416337287,
                21.485821404226314,
                25.06844532279315,
                27.07867847411444,
                27.86708692767087,
                28.728887399463808,
                29.71268656716418,
                26.924375422012155,
                22.463275261324043,
                19.68658125421443,
                17.607777777777777,
                16.278855218855217,
                17.881603773584906,
                20.66318719554628,
                26.532703978422116,
                27.02784368457781,
                29.096218771100606,
                29.283705206220418,
                29.69658925979681,
                28.03717774762551,
                25.11231732776618,
                21.004026402640264,
                17.26185919343814,
                17.020145791915176,
                18.025099337748344,
                19.465030674846627,
                22.31969596827495,
                26.07424863387978,
                28.45,
                30.223342175066314,
                29.151539589442812,
                27.864233576642338,
                23.430827586206895,
                20.265805168986084,
                18.21769102990033
               ]
              ]
             }
            ],
            "label": "Max Temperature",
            "method": "restyle"
           },
           {
            "args": [
             {
              "y": [
               [
                11.753333333333334,
                13.312903225806451,
                15.348387096774195,
                15.601724137931035,
                14.116129032258065,
                9.545,
                6.969354838709678,
                8.161666666666667,
                7.755645161290323,
                7.612903225806452,
                11.22625,
                13.255284552845529,
                15.189166666666667,
                15.574573863636363,
                16.99241329479769,
                17.375,
                15.144279661016949,
                12.43635698610095,
                9.588404778636683,
                7.969045884923525,
                6.864104372355429,
                8.123521126760563,
                9.525222551928783,
                11.121377331420373,
                15.595105916727539,
                15.781523272214386,
                17.331029619181948,
                18.180721003134796,
                16.104169611307423,
                13.385567765567766,
                9.362588904694167,
                7.111654135338346,
                6.9615493958777535,
                7.0398581560283695,
                9.228195763330898,
                11.196781115879828,
                13.925273124544793,
                15.511527581329561,
                17.871539548022596,
                17.92367601246106,
                15.819124911785464,
                8.673876404494383,
                7.346018991964939,
                6.633567909922589,
                7.878495386799147,
                8.90539752005835,
                11.657794943820225,
                14.665747460087085,
                15.23623595505618,
                17.338900634249473,
                16.81827067669173,
                14.906086341118188,
                12.489883551673943,
                8.535252808988764,
                7.339257101238164,
                6.4484121383203945,
                6.607946554149086,
                8.77116920842411,
                10.544936708860758,
                13.979332849891225,
                17.39140239605356,
                16.163606340819022,
                12.718150684931507,
                9.79269588313413,
                8.113301500682129,
                7.5416501650165015,
                8.103833443489755,
                10.852692569870484,
                11.415313531353135,
                13.52422997946612,
                15.529821073558647,
                17.447938829787233,
                17.34959706959707,
                15.929474384564205,
                13.366184573002755,
                10.817560321715817,
                8.501095140314852,
                6.730429042904291,
                7.0220316622691294,
                9.503410641200546,
                11.981422924901185,
                14.460804362644854,
                16.176392572944298,
                17.511997319034855,
                17.82451564828614,
                15.025270270270271,
                12.350802512212143,
                9.591099123398516,
                7.923835997220292,
                6.357557354925776,
                7.324142568930733,
                8.683066202090593,
                13.290498652291104,
                15.003703703703703,
                16.319446320054016,
                17.937109905020353,
                17.527028985507247,
                17.094840461642907,
                13.753755215577192,
                10.863540290620874,
                8.665300546448087,
                7.821788079470198,
                7.540554821664465,
                9.870027247956404,
                10.685883905013192,
                13.402114597544339,
                16.24818791946309,
                17.99515272244356,
                17.155187637969096,
                17.014684385382058,
                12.376551724137931,
                9.521872909698997,
                7.145840266222961
               ]
              ]
             }
            ],
            "label": "Min Temperature",
            "method": "restyle"
           }
          ],
          "direction": "down",
          "pad": {
           "r": 10,
           "t": 10
          },
          "showactive": true,
          "x": 0.1,
          "xanchor": "left",
          "y": 1.15,
          "yanchor": "top"
         }
        ],
        "xaxis": {
         "anchor": "y",
         "domain": [
          0,
          1
         ],
         "ticktext": [
          "Jan",
          "Feb",
          "Mar",
          "Apr",
          "May",
          "Jun",
          "Jul",
          "Aug",
          "Sep",
          "Oct",
          "Nov",
          "Dec"
         ],
         "tickvals": [
          1,
          2,
          3,
          4,
          5,
          6,
          7,
          8,
          9,
          10,
          11,
          12
         ],
         "title": {
          "text": ""
         }
        },
        "yaxis": {
         "anchor": "x",
         "domain": [
          0,
          1
         ],
         "showgrid": true,
         "title": {
          "text": "Temperature (°C)"
         }
        }
       }
      }
     },
     "metadata": {},
     "output_type": "display_data"
    }
   ],
   "source": [
    "df = pd.read_csv('weatherAUS.csv', parse_dates=['Date'])\n",
    "df['RainToday'] = df['RainToday'].map({'No': 0, 'Yes': 1})\n",
    "df['Year'] = df['Date'].dt.year\n",
    "df['Month'] = df['Date'].dt.month\n",
    "\n",
    "location_counts = df['Location'].value_counts().reset_index()\n",
    "\n",
    "\n",
    "\n",
    "yearly_monthly = df.groupby(['Year', 'Month'])[['MinTemp', 'MaxTemp']].mean().reset_index()\n",
    "\n",
    "fig3 = px.line(yearly_monthly, \n",
    "              x='Month', \n",
    "              y='MaxTemp',\n",
    "              color='Year',\n",
    "              title='<b>Yearly Temperature Trends by Month</b>',\n",
    "              labels={'MaxTemp': 'Temperature (°C)', 'Month': ''},\n",
    "              markers=True)\n",
    "\n",
    "fig3.update_xaxes(\n",
    "    tickvals=list(range(1,13)),\n",
    "    ticktext=['Jan', 'Feb', 'Mar', 'Apr', 'May', 'Jun',\n",
    "              'Jul', 'Aug', 'Sep', 'Oct', 'Nov', 'Dec']\n",
    ")\n",
    "\n",
    "fig3.update_layout(\n",
    "    updatemenus=[\n",
    "        dict(\n",
    "            buttons=[\n",
    "                dict(\n",
    "                    args=[{\"y\": [yearly_monthly['MaxTemp']]}],\n",
    "                    label=\"Max Temperature\",\n",
    "                    method=\"restyle\"\n",
    "                ),\n",
    "                dict(\n",
    "                    args=[{\"y\": [yearly_monthly['MinTemp']]}],\n",
    "                    label=\"Min Temperature\",\n",
    "                    method=\"restyle\"\n",
    "                )\n",
    "            ],\n",
    "            direction=\"down\",\n",
    "            pad={\"r\": 10, \"t\": 10},\n",
    "            showactive=True,\n",
    "            x=0.1,\n",
    "            xanchor=\"left\",\n",
    "            y=1.15,\n",
    "            yanchor=\"top\"\n",
    "        )\n",
    "    ]\n",
    ")\n",
    "\n",
    "fig3.update_layout(\n",
    "    yaxis=dict(\n",
    "        title=\"Temperature (°C)\",\n",
    "        showgrid=True\n",
    "    )\n",
    ")\n",
    "\n",
    "fig3.show()\n",
    "\n"
   ]
  },
  {
   "cell_type": "code",
   "execution_count": 1,
   "metadata": {},
   "outputs": [],
   "source": [
    "import pandas as pd\n",
    "import numpy as np\n",
    "import plotly.express as px\n",
    "import geopandas as gpd\n",
    "from shapely.geometry import Point\n",
    "from sklearn.neighbors import BallTree\n",
    "import folium\n",
    "import matplotlib.pyplot as plt\n",
    "import plotly.graph_objects as go\n",
    "# Load and preprocess koala data\n",
    "koalas = pd.read_csv('wildnetkoalalocations.csv', parse_dates=['StartDate'], dayfirst=True)\n",
    "koalas = koalas[(koalas['StartDate'].dt.year >= 2007) & \n",
    "                (koalas['StartDate'].dt.year <= 2016)]\n",
    "koalas['Year'] = koalas['StartDate'].dt.year\n",
    "koalas['Month'] = koalas['StartDate'].dt.month\n",
    "\n",
    "# Load and preprocess weather data\n",
    "weather = pd.read_csv('weatherAUS.csv', parse_dates=['Date'])\n",
    "weather = weather[(weather['Date'].dt.year >= 2007) & \n",
    "                 (weather['Date'].dt.year <= 2016)]\n",
    "weather['Year'] = weather['Date'].dt.year\n",
    "weather['Month'] = weather['Date'].dt.month\n",
    "\n",
    "weather_station_coords = {\n",
    "    'Albury': (-36.0748, 146.9240),\n",
    "    'BadgerysCreek': (-33.8844, 150.7833),\n",
    "    'Cobar': (-31.4967, 145.8344),\n",
    "    'CoffsHarbour': (-30.2963, 153.1135),\n",
    "    'Moree': (-29.4628, 149.8416),\n",
    "    'Newcastle': (-32.9267, 151.7789),\n",
    "    'NorahHead': (-33.2815, 151.5680),\n",
    "    'NorfolkIsland': (-29.0408, 167.9547),\n",
    "    'Penrith': (-33.7500, 150.7000),\n",
    "    'Richmond': (-33.6000, 150.7500),\n",
    "    'Sydney': (-33.8688, 151.2093),\n",
    "    'SydneyAirport': (-33.9399, 151.1753),\n",
    "    'WaggaWagga': (-35.1086, 147.3697),\n",
    "    'Williamtown': (-32.8064, 151.8436),\n",
    "    'Wollongong': (-34.4240, 150.8935),\n",
    "    'Canberra': (-35.2809, 149.1300),\n",
    "    'Tuggeranong': (-35.4244, 149.0888),\n",
    "    'MountGinini': (-35.5299, 148.7726),\n",
    "    'Ballarat': (-37.5622, 143.8503),\n",
    "    'Bendigo': (-36.7578, 144.2784),\n",
    "    'Sale': (-38.1040, 147.0675),\n",
    "    'MelbourneAirport': (-37.6690, 144.8410),\n",
    "    'Melbourne': (-37.8136, 144.9631),\n",
    "    'Mildura': (-34.2066, 142.1350),\n",
    "    'Nhil': (-36.3333, 141.6500),\n",
    "    'Portland': (-38.3333, 141.6000),\n",
    "    'Watsonia': (-37.7167, 145.0833),\n",
    "    'Dartmoor': (-37.9167, 141.2667),\n",
    "    'Brisbane': (-27.4698, 153.0251),\n",
    "    'Cairns': (-16.9203, 145.7710),\n",
    "    'GoldCoast': (-28.0167, 153.4000),\n",
    "    'Townsville': (-19.2590, 146.8169),\n",
    "    'Adelaide': (-34.9285, 138.6007),\n",
    "    'MountGambier': (-37.8316, 140.7652),\n",
    "    'Nuriootpa': (-34.4682, 139.0047),\n",
    "    'Woomera': (-31.1999, 136.8326),\n",
    "    'Albany': (-35.0225, 117.8911),\n",
    "    'Witchcliffe': (-34.0333, 115.1000),\n",
    "    'PearceRAAF': (-31.6678, 116.0250),\n",
    "    'PerthAirport': (-31.9403, 115.9669),\n",
    "    'Perth': (-31.9505, 115.8605),\n",
    "    'SalmonGums': (-32.9833, 121.6333),\n",
    "    'Walpole': (-34.9833, 116.7333),\n",
    "    'Hobart': (-42.8821, 147.3272),\n",
    "    'Launceston': (-41.4332, 147.1441),\n",
    "    'AliceSprings': (-23.6980, 133.8807),\n",
    "    'Darwin': (-12.4634, 130.8456),\n",
    "    'Katherine': (-14.4652, 132.2635),\n",
    "    'Uluru': (-25.3444, 131.0369)\n",
    "}\n",
    "\n",
    "# Add columns 'Latitude' and 'Longitude' based on 'Location' column\n",
    "weather['Latitude'] = weather['Location'].map(lambda x: weather_station_coords[x][0])\n",
    "weather['Longitude'] = weather['Location'].map(lambda x: weather_station_coords[x][1])\n",
    "\n",
    "def create_geometry(df, lat_col, lon_col):\n",
    "    gdf = gpd.GeoDataFrame(\n",
    "        df, geometry=gpd.points_from_xy(df[lon_col], df[lat_col])\n",
    "    )\n",
    "    return gdf.set_crs(epsg=4326)\n",
    "\n",
    "koala_gdf = create_geometry(koalas, 'Latitude', 'Longitude')\n",
    "weather_gdf = create_geometry(weather.groupby('Location').first().reset_index(), \n",
    "                            'Latitude', 'Longitude')\n",
    "\n",
    "def find_nearest(source_points, target_points):\n",
    "    tree = BallTree(target_points[['rad_lat', 'rad_lon']].values, leaf_size=15)\n",
    "    distances, indices = tree.query(source_points[['rad_lat', 'rad_lon']].values)\n",
    "    return indices.flatten(), distances.flatten()\n",
    "\n",
    "koala_gdf['rad_lat'] = np.radians(koala_gdf['Latitude'])\n",
    "koala_gdf['rad_lon'] = np.radians(koala_gdf['Longitude'])\n",
    "weather_gdf['rad_lat'] = np.radians(weather_gdf['Latitude'])\n",
    "weather_gdf['rad_lon'] = np.radians(weather_gdf['Longitude'])\n",
    "\n",
    "indices, distances = find_nearest(koala_gdf, weather_gdf)\n",
    "koala_gdf['Nearest_Location'] = weather_gdf.iloc[indices]['Location'].values\n",
    "koala_gdf['Distance_km'] = distances * 6371 \n",
    "\n",
    "merged = pd.merge(koala_gdf, weather, \n",
    "                 left_on=['Nearest_Location', 'Year', 'Month'],\n",
    "                 right_on=['Location', 'Year', 'Month'],\n",
    "                 how='left')\n",
    "\n",
    "# Ensure only numeric columns are included for aggregation\n",
    "annual_analysis = merged.groupby(['Year', 'Nearest_Location', 'Latitude_y', 'Longitude_y']).agg(\n",
    "    Koala_Count=('ScientificName', 'count'),\n",
    "    Avg_MaxTemp=('MaxTemp', 'mean'),\n",
    "    Total_Rainfall=('Rainfall', 'sum')\n",
    ").reset_index()\n",
    "\n",
    "fig1 = px.density_heatmap(\n",
    "    annual_analysis,\n",
    "    x='Avg_MaxTemp',\n",
    "    y='Total_Rainfall',\n",
    "    z='Koala_Count',\n",
    "    histfunc='avg',\n",
    "    title='Koala Sightings Density by Temperature and Rainfall',\n",
    "    labels={'Avg_MaxTemp': 'Average Max Temperature (°C)', \n",
    "            'Total_Rainfall': 'Annual Rainfall (mm)'},\n",
    "    height=600\n",
    ")\n",
    "\n",
    "# Create a DataFrame with yearly averages\n",
    "yearly_data = annual_analysis.groupby('Year').mean(numeric_only=True).reset_index()\n",
    "\n",
    "# Create the figure with one trace\n",
    "# Create the figure with one trace - explicitly name it \"Koala Count\"\n",
    "fig2 = px.line(yearly_data, x='Year', y='Koala_Count', \n",
    "               title='Annual Koala Sightings vs Temperature Trends',\n",
    "               labels={\"Koala_Count\": \"Koala Count\"},  # Update axis label\n",
    "               custom_data=[\"Year\"])  # For hover information\n",
    "\n",
    "# Update the trace name explicitly\n",
    "fig2.data[0].name = \"Koala Count\"\n",
    "\n",
    "# Add the second trace on a secondary y-axis\n",
    "fig2.add_trace(\n",
    "    go.Scatter(\n",
    "        x=yearly_data['Year'],\n",
    "        y=yearly_data['Avg_MaxTemp'],\n",
    "        name='Avg Max Temp',\n",
    "        yaxis=\"y2\"\n",
    "    )\n",
    ")\n",
    "\n",
    "# Update layout to configure the axes\n",
    "fig2.update_layout(\n",
    "    yaxis=dict(title='Koala Count'),\n",
    "    yaxis2=dict(\n",
    "        title='Temperature (°C)',\n",
    "        overlaying='y',\n",
    "        side='right'\n",
    "    ),\n",
    "    legend=dict(\n",
    "        x=0.01, \n",
    "        y=0.99,\n",
    "        title=None  # Remove legend title\n",
    "    ),\n",
    "    height=500\n",
    ")\n",
    "# IMPROVED MAP CODE - ADJUSTED CIRCLE SIZES\n",
    "# Create a better scale for circle sizes - using a much larger range\n",
    "max_count = annual_analysis['Koala_Count'].max()\n",
    "min_count = annual_analysis['Koala_Count'].min()\n",
    "\n",
    "# Create a scaling function with a larger min_radius and max_radius\n",
    "def scale_radius(count, min_val=min_count, max_val=max_count, min_radius=8, max_radius=30):\n",
    "    # Ensure a minimum size for better visibility\n",
    "    if count <= min_val:\n",
    "        return min_radius\n",
    "    \n",
    "    # Use square root scaling for better visual representation \n",
    "    # (area proportional to count rather than radius proportional to count)\n",
    "    normalized_count = (count - min_val) / (max_val - min_val)\n",
    "    scaled = min_radius + (max_radius - min_radius) * np.sqrt(normalized_count)\n",
    "    return scaled\n",
    "\n",
    "# Create a new map\n",
    "base_map = folium.Map(\n",
    "    location=[-28, 135],  # Center for Australia\n",
    "    zoom_start=4,         # Zoom level to see all of Australia\n",
    "    tiles='CartoDB positron'  # Using a cleaner base map for better visibility of circles\n",
    ")\n",
    "\n",
    "# Add a title to the map\n",
    "title_html = '''\n",
    "    <h3 align=\"center\" style=\"font-size:16px\"><b>Koala Sightings in Australia (2007-2016)</b></h3>\n",
    "'''\n",
    "base_map.get_root().html.add_child(folium.Element(title_html))\n",
    "\n",
    "# Create a feature group for the koala markers\n",
    "koala_group = folium.FeatureGroup(name=\"Koala Sightings\")\n",
    "\n",
    "# Add markers with properly scaled sizes\n",
    "for idx, row in annual_analysis.iterrows():\n",
    "    radius = scale_radius(row['Koala_Count'])\n",
    "    \n",
    "    # Use a color scale based on temperature\n",
    "    temp_color = '#FF5722' if row['Avg_MaxTemp'] > 30 else '#4CAF50'\n",
    "    \n",
    "    folium.CircleMarker(\n",
    "        location=[row['Latitude_y'], row['Longitude_y']], \n",
    "        radius=radius,\n",
    "        color='black',\n",
    "        weight=1.5,\n",
    "        fill=True,\n",
    "        fill_color=temp_color,\n",
    "        fill_opacity=0.8,\n",
    "        popup=f\"<strong>{row['Nearest_Location']}</strong><br>Count: {int(row['Koala_Count'])}<br>Avg Temp: {row['Avg_MaxTemp']:.1f}°C<br>Rainfall: {row['Total_Rainfall']:.1f}mm\"\n",
    "    ).add_to(koala_group)\n",
    "\n",
    "koala_group.add_to(base_map)\n",
    "\n",
    "# Add layer control\n",
    "folium.LayerControl().add_to(base_map)\n",
    "\n",
    "# Add a legend\n",
    "legend_html = '''\n",
    "<div style=\"position: fixed; \n",
    "     bottom: 50px; right: 50px; width: 180px; height: 120px; \n",
    "     border:2px solid grey; z-index:9999; font-size:14px;\n",
    "     background-color:white;\n",
    "     padding: 10px;\n",
    "     border-radius: 6px;\">\n",
    "     <p><b>Koala Sightings</b></p>\n",
    "     <div style=\"display: inline-block; height: 15px; width: 15px; border-radius: 50%; \n",
    "           background-color: #FF5722; border: 1px solid black;\"></div> Hot (>30°C)<br>\n",
    "     <div style=\"display: inline-block; height: 15px; width: 15px; border-radius: 50%; \n",
    "           background-color: #4CAF50; border: 1px solid black;\"></div> Moderate (≤30°C)<br>\n",
    "     <p><i>Circle size indicates number of koalas</i></p>\n",
    "</div>\n",
    "'''\n",
    "base_map.get_root().html.add_child(folium.Element(legend_html))\n",
    "\n",
    "# Save the map to an HTML file for better viewing\n",
    "base_map.save('koala_distribution_map.html')\n"
   ]
  },
  {
   "cell_type": "markdown",
   "metadata": {},
   "source": [
    "From the heatmap below, we can see that koala tend to be sighted in areas with higher amount of rainfall and cooler temperature. the dropoff for temperature is aroun 28-29 degree celcius."
   ]
  },
  {
   "cell_type": "code",
   "execution_count": 2,
   "metadata": {},
   "outputs": [
    {
     "data": {
      "application/vnd.plotly.v1+json": {
       "config": {
        "plotlyServerURL": "https://plot.ly"
       },
       "data": [
        {
         "coloraxis": "coloraxis",
         "histfunc": "avg",
         "hovertemplate": "Average Max Temperature (°C)=%{x}<br>Annual Rainfall (mm)=%{y}<br>avg of Koala_Count=%{z}<extra></extra>",
         "name": "",
         "type": "histogram2d",
         "x": [
          24.80958737295677,
          29.719354838709677,
          32.035483870967745,
          27.11785128974949,
          25.694001071237278,
          30.85657894736842,
          29.36905737704918,
          25.45141604613289,
          24.5543018755582,
          30.99016393442623,
          26.41290322580645,
          25.412687009331954,
          24.030967933491688,
          27.711258278145692,
          27.431451612903224,
          27.429246276515723,
          25.503105590062113,
          30.31833333333333,
          26.40456026058632,
          27.333141368832294,
          28.546666666666667,
          26.694149577804584,
          28.591705069124423,
          29.822714681440445,
          28.650022741486158,
          30.274193548387096,
          27.5184554973822,
          25.759299516908214,
          30.484548467274234,
          27.160118117074866,
          28.71758241758242,
          32.13548387096775,
          27.109392747924858,
          31.370967741935484,
          29.470965250965254,
          26.632884983665654,
          27.413333333333334,
          25.448959608323133,
          25.683870967741935,
          28.221951219512192
         ],
         "xaxis": "x",
         "xbingroup": "x",
         "y": [
          62805.200000000004,
          123.8,
          178.8,
          177380,
          3253.6,
          247,
          590.6,
          418745.6,
          18106.6,
          88.39999999999999,
          54.199999999999996,
          263746.8,
          9998,
          748.1999999999999,
          179.6,
          31688.2,
          3233.2,
          338.6,
          956.2,
          48235,
          43.6,
          5221.6,
          145.6,
          665.8,
          105614.8,
          13.8,
          6990.2,
          689,
          1605,
          110846,
          297.4,
          61.4,
          6745.6,
          19.2,
          930.6,
          91583.8,
          133.20000000000002,
          1639,
          56.8,
          1677.6000000000001
         ],
         "yaxis": "y",
         "ybingroup": "y",
         "z": [
          21516,
          31,
          31,
          72611,
          1870,
          152,
          488,
          97867,
          3359,
          61,
          31,
          94514,
          3368,
          151,
          124,
          6697,
          646,
          60,
          307,
          34586,
          30,
          1658,
          217,
          361,
          35189,
          31,
          7640,
          828,
          2414,
          34729,
          91,
          31,
          2289,
          62,
          1295,
          44465,
          60,
          825,
          31,
          1066
         ]
        }
       ],
       "layout": {
        "coloraxis": {
         "colorbar": {
          "title": {
           "text": "avg of Koala_Count"
          }
         },
         "colorscale": [
          [
           0,
           "#0d0887"
          ],
          [
           0.1111111111111111,
           "#46039f"
          ],
          [
           0.2222222222222222,
           "#7201a8"
          ],
          [
           0.3333333333333333,
           "#9c179e"
          ],
          [
           0.4444444444444444,
           "#bd3786"
          ],
          [
           0.5555555555555556,
           "#d8576b"
          ],
          [
           0.6666666666666666,
           "#ed7953"
          ],
          [
           0.7777777777777778,
           "#fb9f3a"
          ],
          [
           0.8888888888888888,
           "#fdca26"
          ],
          [
           1,
           "#f0f921"
          ]
         ]
        },
        "height": 600,
        "legend": {
         "tracegroupgap": 0
        },
        "template": {
         "data": {
          "bar": [
           {
            "error_x": {
             "color": "#2a3f5f"
            },
            "error_y": {
             "color": "#2a3f5f"
            },
            "marker": {
             "line": {
              "color": "#E5ECF6",
              "width": 0.5
             },
             "pattern": {
              "fillmode": "overlay",
              "size": 10,
              "solidity": 0.2
             }
            },
            "type": "bar"
           }
          ],
          "barpolar": [
           {
            "marker": {
             "line": {
              "color": "#E5ECF6",
              "width": 0.5
             },
             "pattern": {
              "fillmode": "overlay",
              "size": 10,
              "solidity": 0.2
             }
            },
            "type": "barpolar"
           }
          ],
          "carpet": [
           {
            "aaxis": {
             "endlinecolor": "#2a3f5f",
             "gridcolor": "white",
             "linecolor": "white",
             "minorgridcolor": "white",
             "startlinecolor": "#2a3f5f"
            },
            "baxis": {
             "endlinecolor": "#2a3f5f",
             "gridcolor": "white",
             "linecolor": "white",
             "minorgridcolor": "white",
             "startlinecolor": "#2a3f5f"
            },
            "type": "carpet"
           }
          ],
          "choropleth": [
           {
            "colorbar": {
             "outlinewidth": 0,
             "ticks": ""
            },
            "type": "choropleth"
           }
          ],
          "contour": [
           {
            "colorbar": {
             "outlinewidth": 0,
             "ticks": ""
            },
            "colorscale": [
             [
              0,
              "#0d0887"
             ],
             [
              0.1111111111111111,
              "#46039f"
             ],
             [
              0.2222222222222222,
              "#7201a8"
             ],
             [
              0.3333333333333333,
              "#9c179e"
             ],
             [
              0.4444444444444444,
              "#bd3786"
             ],
             [
              0.5555555555555556,
              "#d8576b"
             ],
             [
              0.6666666666666666,
              "#ed7953"
             ],
             [
              0.7777777777777778,
              "#fb9f3a"
             ],
             [
              0.8888888888888888,
              "#fdca26"
             ],
             [
              1,
              "#f0f921"
             ]
            ],
            "type": "contour"
           }
          ],
          "contourcarpet": [
           {
            "colorbar": {
             "outlinewidth": 0,
             "ticks": ""
            },
            "type": "contourcarpet"
           }
          ],
          "heatmap": [
           {
            "colorbar": {
             "outlinewidth": 0,
             "ticks": ""
            },
            "colorscale": [
             [
              0,
              "#0d0887"
             ],
             [
              0.1111111111111111,
              "#46039f"
             ],
             [
              0.2222222222222222,
              "#7201a8"
             ],
             [
              0.3333333333333333,
              "#9c179e"
             ],
             [
              0.4444444444444444,
              "#bd3786"
             ],
             [
              0.5555555555555556,
              "#d8576b"
             ],
             [
              0.6666666666666666,
              "#ed7953"
             ],
             [
              0.7777777777777778,
              "#fb9f3a"
             ],
             [
              0.8888888888888888,
              "#fdca26"
             ],
             [
              1,
              "#f0f921"
             ]
            ],
            "type": "heatmap"
           }
          ],
          "heatmapgl": [
           {
            "colorbar": {
             "outlinewidth": 0,
             "ticks": ""
            },
            "colorscale": [
             [
              0,
              "#0d0887"
             ],
             [
              0.1111111111111111,
              "#46039f"
             ],
             [
              0.2222222222222222,
              "#7201a8"
             ],
             [
              0.3333333333333333,
              "#9c179e"
             ],
             [
              0.4444444444444444,
              "#bd3786"
             ],
             [
              0.5555555555555556,
              "#d8576b"
             ],
             [
              0.6666666666666666,
              "#ed7953"
             ],
             [
              0.7777777777777778,
              "#fb9f3a"
             ],
             [
              0.8888888888888888,
              "#fdca26"
             ],
             [
              1,
              "#f0f921"
             ]
            ],
            "type": "heatmapgl"
           }
          ],
          "histogram": [
           {
            "marker": {
             "pattern": {
              "fillmode": "overlay",
              "size": 10,
              "solidity": 0.2
             }
            },
            "type": "histogram"
           }
          ],
          "histogram2d": [
           {
            "colorbar": {
             "outlinewidth": 0,
             "ticks": ""
            },
            "colorscale": [
             [
              0,
              "#0d0887"
             ],
             [
              0.1111111111111111,
              "#46039f"
             ],
             [
              0.2222222222222222,
              "#7201a8"
             ],
             [
              0.3333333333333333,
              "#9c179e"
             ],
             [
              0.4444444444444444,
              "#bd3786"
             ],
             [
              0.5555555555555556,
              "#d8576b"
             ],
             [
              0.6666666666666666,
              "#ed7953"
             ],
             [
              0.7777777777777778,
              "#fb9f3a"
             ],
             [
              0.8888888888888888,
              "#fdca26"
             ],
             [
              1,
              "#f0f921"
             ]
            ],
            "type": "histogram2d"
           }
          ],
          "histogram2dcontour": [
           {
            "colorbar": {
             "outlinewidth": 0,
             "ticks": ""
            },
            "colorscale": [
             [
              0,
              "#0d0887"
             ],
             [
              0.1111111111111111,
              "#46039f"
             ],
             [
              0.2222222222222222,
              "#7201a8"
             ],
             [
              0.3333333333333333,
              "#9c179e"
             ],
             [
              0.4444444444444444,
              "#bd3786"
             ],
             [
              0.5555555555555556,
              "#d8576b"
             ],
             [
              0.6666666666666666,
              "#ed7953"
             ],
             [
              0.7777777777777778,
              "#fb9f3a"
             ],
             [
              0.8888888888888888,
              "#fdca26"
             ],
             [
              1,
              "#f0f921"
             ]
            ],
            "type": "histogram2dcontour"
           }
          ],
          "mesh3d": [
           {
            "colorbar": {
             "outlinewidth": 0,
             "ticks": ""
            },
            "type": "mesh3d"
           }
          ],
          "parcoords": [
           {
            "line": {
             "colorbar": {
              "outlinewidth": 0,
              "ticks": ""
             }
            },
            "type": "parcoords"
           }
          ],
          "pie": [
           {
            "automargin": true,
            "type": "pie"
           }
          ],
          "scatter": [
           {
            "fillpattern": {
             "fillmode": "overlay",
             "size": 10,
             "solidity": 0.2
            },
            "type": "scatter"
           }
          ],
          "scatter3d": [
           {
            "line": {
             "colorbar": {
              "outlinewidth": 0,
              "ticks": ""
             }
            },
            "marker": {
             "colorbar": {
              "outlinewidth": 0,
              "ticks": ""
             }
            },
            "type": "scatter3d"
           }
          ],
          "scattercarpet": [
           {
            "marker": {
             "colorbar": {
              "outlinewidth": 0,
              "ticks": ""
             }
            },
            "type": "scattercarpet"
           }
          ],
          "scattergeo": [
           {
            "marker": {
             "colorbar": {
              "outlinewidth": 0,
              "ticks": ""
             }
            },
            "type": "scattergeo"
           }
          ],
          "scattergl": [
           {
            "marker": {
             "colorbar": {
              "outlinewidth": 0,
              "ticks": ""
             }
            },
            "type": "scattergl"
           }
          ],
          "scattermapbox": [
           {
            "marker": {
             "colorbar": {
              "outlinewidth": 0,
              "ticks": ""
             }
            },
            "type": "scattermapbox"
           }
          ],
          "scatterpolar": [
           {
            "marker": {
             "colorbar": {
              "outlinewidth": 0,
              "ticks": ""
             }
            },
            "type": "scatterpolar"
           }
          ],
          "scatterpolargl": [
           {
            "marker": {
             "colorbar": {
              "outlinewidth": 0,
              "ticks": ""
             }
            },
            "type": "scatterpolargl"
           }
          ],
          "scatterternary": [
           {
            "marker": {
             "colorbar": {
              "outlinewidth": 0,
              "ticks": ""
             }
            },
            "type": "scatterternary"
           }
          ],
          "surface": [
           {
            "colorbar": {
             "outlinewidth": 0,
             "ticks": ""
            },
            "colorscale": [
             [
              0,
              "#0d0887"
             ],
             [
              0.1111111111111111,
              "#46039f"
             ],
             [
              0.2222222222222222,
              "#7201a8"
             ],
             [
              0.3333333333333333,
              "#9c179e"
             ],
             [
              0.4444444444444444,
              "#bd3786"
             ],
             [
              0.5555555555555556,
              "#d8576b"
             ],
             [
              0.6666666666666666,
              "#ed7953"
             ],
             [
              0.7777777777777778,
              "#fb9f3a"
             ],
             [
              0.8888888888888888,
              "#fdca26"
             ],
             [
              1,
              "#f0f921"
             ]
            ],
            "type": "surface"
           }
          ],
          "table": [
           {
            "cells": {
             "fill": {
              "color": "#EBF0F8"
             },
             "line": {
              "color": "white"
             }
            },
            "header": {
             "fill": {
              "color": "#C8D4E3"
             },
             "line": {
              "color": "white"
             }
            },
            "type": "table"
           }
          ]
         },
         "layout": {
          "annotationdefaults": {
           "arrowcolor": "#2a3f5f",
           "arrowhead": 0,
           "arrowwidth": 1
          },
          "autotypenumbers": "strict",
          "coloraxis": {
           "colorbar": {
            "outlinewidth": 0,
            "ticks": ""
           }
          },
          "colorscale": {
           "diverging": [
            [
             0,
             "#8e0152"
            ],
            [
             0.1,
             "#c51b7d"
            ],
            [
             0.2,
             "#de77ae"
            ],
            [
             0.3,
             "#f1b6da"
            ],
            [
             0.4,
             "#fde0ef"
            ],
            [
             0.5,
             "#f7f7f7"
            ],
            [
             0.6,
             "#e6f5d0"
            ],
            [
             0.7,
             "#b8e186"
            ],
            [
             0.8,
             "#7fbc41"
            ],
            [
             0.9,
             "#4d9221"
            ],
            [
             1,
             "#276419"
            ]
           ],
           "sequential": [
            [
             0,
             "#0d0887"
            ],
            [
             0.1111111111111111,
             "#46039f"
            ],
            [
             0.2222222222222222,
             "#7201a8"
            ],
            [
             0.3333333333333333,
             "#9c179e"
            ],
            [
             0.4444444444444444,
             "#bd3786"
            ],
            [
             0.5555555555555556,
             "#d8576b"
            ],
            [
             0.6666666666666666,
             "#ed7953"
            ],
            [
             0.7777777777777778,
             "#fb9f3a"
            ],
            [
             0.8888888888888888,
             "#fdca26"
            ],
            [
             1,
             "#f0f921"
            ]
           ],
           "sequentialminus": [
            [
             0,
             "#0d0887"
            ],
            [
             0.1111111111111111,
             "#46039f"
            ],
            [
             0.2222222222222222,
             "#7201a8"
            ],
            [
             0.3333333333333333,
             "#9c179e"
            ],
            [
             0.4444444444444444,
             "#bd3786"
            ],
            [
             0.5555555555555556,
             "#d8576b"
            ],
            [
             0.6666666666666666,
             "#ed7953"
            ],
            [
             0.7777777777777778,
             "#fb9f3a"
            ],
            [
             0.8888888888888888,
             "#fdca26"
            ],
            [
             1,
             "#f0f921"
            ]
           ]
          },
          "colorway": [
           "#636efa",
           "#EF553B",
           "#00cc96",
           "#ab63fa",
           "#FFA15A",
           "#19d3f3",
           "#FF6692",
           "#B6E880",
           "#FF97FF",
           "#FECB52"
          ],
          "font": {
           "color": "#2a3f5f"
          },
          "geo": {
           "bgcolor": "white",
           "lakecolor": "white",
           "landcolor": "#E5ECF6",
           "showlakes": true,
           "showland": true,
           "subunitcolor": "white"
          },
          "hoverlabel": {
           "align": "left"
          },
          "hovermode": "closest",
          "mapbox": {
           "style": "light"
          },
          "paper_bgcolor": "white",
          "plot_bgcolor": "#E5ECF6",
          "polar": {
           "angularaxis": {
            "gridcolor": "white",
            "linecolor": "white",
            "ticks": ""
           },
           "bgcolor": "#E5ECF6",
           "radialaxis": {
            "gridcolor": "white",
            "linecolor": "white",
            "ticks": ""
           }
          },
          "scene": {
           "xaxis": {
            "backgroundcolor": "#E5ECF6",
            "gridcolor": "white",
            "gridwidth": 2,
            "linecolor": "white",
            "showbackground": true,
            "ticks": "",
            "zerolinecolor": "white"
           },
           "yaxis": {
            "backgroundcolor": "#E5ECF6",
            "gridcolor": "white",
            "gridwidth": 2,
            "linecolor": "white",
            "showbackground": true,
            "ticks": "",
            "zerolinecolor": "white"
           },
           "zaxis": {
            "backgroundcolor": "#E5ECF6",
            "gridcolor": "white",
            "gridwidth": 2,
            "linecolor": "white",
            "showbackground": true,
            "ticks": "",
            "zerolinecolor": "white"
           }
          },
          "shapedefaults": {
           "line": {
            "color": "#2a3f5f"
           }
          },
          "ternary": {
           "aaxis": {
            "gridcolor": "white",
            "linecolor": "white",
            "ticks": ""
           },
           "baxis": {
            "gridcolor": "white",
            "linecolor": "white",
            "ticks": ""
           },
           "bgcolor": "#E5ECF6",
           "caxis": {
            "gridcolor": "white",
            "linecolor": "white",
            "ticks": ""
           }
          },
          "title": {
           "x": 0.05
          },
          "xaxis": {
           "automargin": true,
           "gridcolor": "white",
           "linecolor": "white",
           "ticks": "",
           "title": {
            "standoff": 15
           },
           "zerolinecolor": "white",
           "zerolinewidth": 2
          },
          "yaxis": {
           "automargin": true,
           "gridcolor": "white",
           "linecolor": "white",
           "ticks": "",
           "title": {
            "standoff": 15
           },
           "zerolinecolor": "white",
           "zerolinewidth": 2
          }
         }
        },
        "title": {
         "text": "Koala Sightings Density by Temperature and Rainfall"
        },
        "xaxis": {
         "anchor": "y",
         "domain": [
          0,
          1
         ],
         "title": {
          "text": "Average Max Temperature (°C)"
         }
        },
        "yaxis": {
         "anchor": "x",
         "domain": [
          0,
          1
         ],
         "title": {
          "text": "Annual Rainfall (mm)"
         }
        }
       }
      }
     },
     "metadata": {},
     "output_type": "display_data"
    }
   ],
   "source": [
    "# For displaying in Jupyter notebook\n",
    "fig1.show()"
   ]
  },
  {
   "cell_type": "markdown",
   "metadata": {},
   "source": [
    "From the line graph below, we can see that temperature and koala count are correlated; when temperature increases, koala count decreases and vice versa. this tells us that koala thrives in cooler temperature"
   ]
  },
  {
   "cell_type": "code",
   "execution_count": 3,
   "metadata": {},
   "outputs": [
    {
     "data": {
      "application/vnd.plotly.v1+json": {
       "config": {
        "plotlyServerURL": "https://plot.ly"
       },
       "data": [
        {
         "customdata": [
          [
           2008
          ],
          [
           2009
          ],
          [
           2010
          ],
          [
           2011
          ],
          [
           2012
          ],
          [
           2013
          ],
          [
           2014
          ],
          [
           2015
          ],
          [
           2016
          ]
         ],
         "hovertemplate": "Year=%{x}<br>Koala Count=%{y}<extra></extra>",
         "legendgroup": "",
         "line": {
          "color": "#636efa",
          "dash": "solid"
         },
         "marker": {
          "symbol": "circle"
         },
         "mode": "lines",
         "name": "Koala Count",
         "orientation": "v",
         "showlegend": false,
         "type": "scatter",
         "x": [
          2008,
          2009,
          2010,
          2011,
          2012,
          2013,
          2014,
          2015,
          2016
         ],
         "xaxis": "x",
         "y": [
          7192.666666666667,
          18780.25,
          25329.5,
          24539.25,
          1927.5,
          7370.4,
          9220.4,
          6416.166666666667,
          9289.4
         ],
         "yaxis": "y"
        },
        {
         "name": "Avg Max Temp",
         "type": "scatter",
         "x": [
          2008,
          2009,
          2010,
          2011,
          2012,
          2013,
          2014,
          2015,
          2016
         ],
         "y": [
          28.854808694211396,
          28.259372171351092,
          26.852196270480942,
          26.146591208468138,
          27.41381136512437,
          28.197675472773682,
          28.53730395428758,
          29.327418357741774,
          26.680200022515248
         ],
         "yaxis": "y2"
        }
       ],
       "layout": {
        "height": 500,
        "legend": {
         "title": {},
         "tracegroupgap": 0,
         "x": 0.01,
         "y": 0.99
        },
        "template": {
         "data": {
          "bar": [
           {
            "error_x": {
             "color": "#2a3f5f"
            },
            "error_y": {
             "color": "#2a3f5f"
            },
            "marker": {
             "line": {
              "color": "#E5ECF6",
              "width": 0.5
             },
             "pattern": {
              "fillmode": "overlay",
              "size": 10,
              "solidity": 0.2
             }
            },
            "type": "bar"
           }
          ],
          "barpolar": [
           {
            "marker": {
             "line": {
              "color": "#E5ECF6",
              "width": 0.5
             },
             "pattern": {
              "fillmode": "overlay",
              "size": 10,
              "solidity": 0.2
             }
            },
            "type": "barpolar"
           }
          ],
          "carpet": [
           {
            "aaxis": {
             "endlinecolor": "#2a3f5f",
             "gridcolor": "white",
             "linecolor": "white",
             "minorgridcolor": "white",
             "startlinecolor": "#2a3f5f"
            },
            "baxis": {
             "endlinecolor": "#2a3f5f",
             "gridcolor": "white",
             "linecolor": "white",
             "minorgridcolor": "white",
             "startlinecolor": "#2a3f5f"
            },
            "type": "carpet"
           }
          ],
          "choropleth": [
           {
            "colorbar": {
             "outlinewidth": 0,
             "ticks": ""
            },
            "type": "choropleth"
           }
          ],
          "contour": [
           {
            "colorbar": {
             "outlinewidth": 0,
             "ticks": ""
            },
            "colorscale": [
             [
              0,
              "#0d0887"
             ],
             [
              0.1111111111111111,
              "#46039f"
             ],
             [
              0.2222222222222222,
              "#7201a8"
             ],
             [
              0.3333333333333333,
              "#9c179e"
             ],
             [
              0.4444444444444444,
              "#bd3786"
             ],
             [
              0.5555555555555556,
              "#d8576b"
             ],
             [
              0.6666666666666666,
              "#ed7953"
             ],
             [
              0.7777777777777778,
              "#fb9f3a"
             ],
             [
              0.8888888888888888,
              "#fdca26"
             ],
             [
              1,
              "#f0f921"
             ]
            ],
            "type": "contour"
           }
          ],
          "contourcarpet": [
           {
            "colorbar": {
             "outlinewidth": 0,
             "ticks": ""
            },
            "type": "contourcarpet"
           }
          ],
          "heatmap": [
           {
            "colorbar": {
             "outlinewidth": 0,
             "ticks": ""
            },
            "colorscale": [
             [
              0,
              "#0d0887"
             ],
             [
              0.1111111111111111,
              "#46039f"
             ],
             [
              0.2222222222222222,
              "#7201a8"
             ],
             [
              0.3333333333333333,
              "#9c179e"
             ],
             [
              0.4444444444444444,
              "#bd3786"
             ],
             [
              0.5555555555555556,
              "#d8576b"
             ],
             [
              0.6666666666666666,
              "#ed7953"
             ],
             [
              0.7777777777777778,
              "#fb9f3a"
             ],
             [
              0.8888888888888888,
              "#fdca26"
             ],
             [
              1,
              "#f0f921"
             ]
            ],
            "type": "heatmap"
           }
          ],
          "heatmapgl": [
           {
            "colorbar": {
             "outlinewidth": 0,
             "ticks": ""
            },
            "colorscale": [
             [
              0,
              "#0d0887"
             ],
             [
              0.1111111111111111,
              "#46039f"
             ],
             [
              0.2222222222222222,
              "#7201a8"
             ],
             [
              0.3333333333333333,
              "#9c179e"
             ],
             [
              0.4444444444444444,
              "#bd3786"
             ],
             [
              0.5555555555555556,
              "#d8576b"
             ],
             [
              0.6666666666666666,
              "#ed7953"
             ],
             [
              0.7777777777777778,
              "#fb9f3a"
             ],
             [
              0.8888888888888888,
              "#fdca26"
             ],
             [
              1,
              "#f0f921"
             ]
            ],
            "type": "heatmapgl"
           }
          ],
          "histogram": [
           {
            "marker": {
             "pattern": {
              "fillmode": "overlay",
              "size": 10,
              "solidity": 0.2
             }
            },
            "type": "histogram"
           }
          ],
          "histogram2d": [
           {
            "colorbar": {
             "outlinewidth": 0,
             "ticks": ""
            },
            "colorscale": [
             [
              0,
              "#0d0887"
             ],
             [
              0.1111111111111111,
              "#46039f"
             ],
             [
              0.2222222222222222,
              "#7201a8"
             ],
             [
              0.3333333333333333,
              "#9c179e"
             ],
             [
              0.4444444444444444,
              "#bd3786"
             ],
             [
              0.5555555555555556,
              "#d8576b"
             ],
             [
              0.6666666666666666,
              "#ed7953"
             ],
             [
              0.7777777777777778,
              "#fb9f3a"
             ],
             [
              0.8888888888888888,
              "#fdca26"
             ],
             [
              1,
              "#f0f921"
             ]
            ],
            "type": "histogram2d"
           }
          ],
          "histogram2dcontour": [
           {
            "colorbar": {
             "outlinewidth": 0,
             "ticks": ""
            },
            "colorscale": [
             [
              0,
              "#0d0887"
             ],
             [
              0.1111111111111111,
              "#46039f"
             ],
             [
              0.2222222222222222,
              "#7201a8"
             ],
             [
              0.3333333333333333,
              "#9c179e"
             ],
             [
              0.4444444444444444,
              "#bd3786"
             ],
             [
              0.5555555555555556,
              "#d8576b"
             ],
             [
              0.6666666666666666,
              "#ed7953"
             ],
             [
              0.7777777777777778,
              "#fb9f3a"
             ],
             [
              0.8888888888888888,
              "#fdca26"
             ],
             [
              1,
              "#f0f921"
             ]
            ],
            "type": "histogram2dcontour"
           }
          ],
          "mesh3d": [
           {
            "colorbar": {
             "outlinewidth": 0,
             "ticks": ""
            },
            "type": "mesh3d"
           }
          ],
          "parcoords": [
           {
            "line": {
             "colorbar": {
              "outlinewidth": 0,
              "ticks": ""
             }
            },
            "type": "parcoords"
           }
          ],
          "pie": [
           {
            "automargin": true,
            "type": "pie"
           }
          ],
          "scatter": [
           {
            "fillpattern": {
             "fillmode": "overlay",
             "size": 10,
             "solidity": 0.2
            },
            "type": "scatter"
           }
          ],
          "scatter3d": [
           {
            "line": {
             "colorbar": {
              "outlinewidth": 0,
              "ticks": ""
             }
            },
            "marker": {
             "colorbar": {
              "outlinewidth": 0,
              "ticks": ""
             }
            },
            "type": "scatter3d"
           }
          ],
          "scattercarpet": [
           {
            "marker": {
             "colorbar": {
              "outlinewidth": 0,
              "ticks": ""
             }
            },
            "type": "scattercarpet"
           }
          ],
          "scattergeo": [
           {
            "marker": {
             "colorbar": {
              "outlinewidth": 0,
              "ticks": ""
             }
            },
            "type": "scattergeo"
           }
          ],
          "scattergl": [
           {
            "marker": {
             "colorbar": {
              "outlinewidth": 0,
              "ticks": ""
             }
            },
            "type": "scattergl"
           }
          ],
          "scattermapbox": [
           {
            "marker": {
             "colorbar": {
              "outlinewidth": 0,
              "ticks": ""
             }
            },
            "type": "scattermapbox"
           }
          ],
          "scatterpolar": [
           {
            "marker": {
             "colorbar": {
              "outlinewidth": 0,
              "ticks": ""
             }
            },
            "type": "scatterpolar"
           }
          ],
          "scatterpolargl": [
           {
            "marker": {
             "colorbar": {
              "outlinewidth": 0,
              "ticks": ""
             }
            },
            "type": "scatterpolargl"
           }
          ],
          "scatterternary": [
           {
            "marker": {
             "colorbar": {
              "outlinewidth": 0,
              "ticks": ""
             }
            },
            "type": "scatterternary"
           }
          ],
          "surface": [
           {
            "colorbar": {
             "outlinewidth": 0,
             "ticks": ""
            },
            "colorscale": [
             [
              0,
              "#0d0887"
             ],
             [
              0.1111111111111111,
              "#46039f"
             ],
             [
              0.2222222222222222,
              "#7201a8"
             ],
             [
              0.3333333333333333,
              "#9c179e"
             ],
             [
              0.4444444444444444,
              "#bd3786"
             ],
             [
              0.5555555555555556,
              "#d8576b"
             ],
             [
              0.6666666666666666,
              "#ed7953"
             ],
             [
              0.7777777777777778,
              "#fb9f3a"
             ],
             [
              0.8888888888888888,
              "#fdca26"
             ],
             [
              1,
              "#f0f921"
             ]
            ],
            "type": "surface"
           }
          ],
          "table": [
           {
            "cells": {
             "fill": {
              "color": "#EBF0F8"
             },
             "line": {
              "color": "white"
             }
            },
            "header": {
             "fill": {
              "color": "#C8D4E3"
             },
             "line": {
              "color": "white"
             }
            },
            "type": "table"
           }
          ]
         },
         "layout": {
          "annotationdefaults": {
           "arrowcolor": "#2a3f5f",
           "arrowhead": 0,
           "arrowwidth": 1
          },
          "autotypenumbers": "strict",
          "coloraxis": {
           "colorbar": {
            "outlinewidth": 0,
            "ticks": ""
           }
          },
          "colorscale": {
           "diverging": [
            [
             0,
             "#8e0152"
            ],
            [
             0.1,
             "#c51b7d"
            ],
            [
             0.2,
             "#de77ae"
            ],
            [
             0.3,
             "#f1b6da"
            ],
            [
             0.4,
             "#fde0ef"
            ],
            [
             0.5,
             "#f7f7f7"
            ],
            [
             0.6,
             "#e6f5d0"
            ],
            [
             0.7,
             "#b8e186"
            ],
            [
             0.8,
             "#7fbc41"
            ],
            [
             0.9,
             "#4d9221"
            ],
            [
             1,
             "#276419"
            ]
           ],
           "sequential": [
            [
             0,
             "#0d0887"
            ],
            [
             0.1111111111111111,
             "#46039f"
            ],
            [
             0.2222222222222222,
             "#7201a8"
            ],
            [
             0.3333333333333333,
             "#9c179e"
            ],
            [
             0.4444444444444444,
             "#bd3786"
            ],
            [
             0.5555555555555556,
             "#d8576b"
            ],
            [
             0.6666666666666666,
             "#ed7953"
            ],
            [
             0.7777777777777778,
             "#fb9f3a"
            ],
            [
             0.8888888888888888,
             "#fdca26"
            ],
            [
             1,
             "#f0f921"
            ]
           ],
           "sequentialminus": [
            [
             0,
             "#0d0887"
            ],
            [
             0.1111111111111111,
             "#46039f"
            ],
            [
             0.2222222222222222,
             "#7201a8"
            ],
            [
             0.3333333333333333,
             "#9c179e"
            ],
            [
             0.4444444444444444,
             "#bd3786"
            ],
            [
             0.5555555555555556,
             "#d8576b"
            ],
            [
             0.6666666666666666,
             "#ed7953"
            ],
            [
             0.7777777777777778,
             "#fb9f3a"
            ],
            [
             0.8888888888888888,
             "#fdca26"
            ],
            [
             1,
             "#f0f921"
            ]
           ]
          },
          "colorway": [
           "#636efa",
           "#EF553B",
           "#00cc96",
           "#ab63fa",
           "#FFA15A",
           "#19d3f3",
           "#FF6692",
           "#B6E880",
           "#FF97FF",
           "#FECB52"
          ],
          "font": {
           "color": "#2a3f5f"
          },
          "geo": {
           "bgcolor": "white",
           "lakecolor": "white",
           "landcolor": "#E5ECF6",
           "showlakes": true,
           "showland": true,
           "subunitcolor": "white"
          },
          "hoverlabel": {
           "align": "left"
          },
          "hovermode": "closest",
          "mapbox": {
           "style": "light"
          },
          "paper_bgcolor": "white",
          "plot_bgcolor": "#E5ECF6",
          "polar": {
           "angularaxis": {
            "gridcolor": "white",
            "linecolor": "white",
            "ticks": ""
           },
           "bgcolor": "#E5ECF6",
           "radialaxis": {
            "gridcolor": "white",
            "linecolor": "white",
            "ticks": ""
           }
          },
          "scene": {
           "xaxis": {
            "backgroundcolor": "#E5ECF6",
            "gridcolor": "white",
            "gridwidth": 2,
            "linecolor": "white",
            "showbackground": true,
            "ticks": "",
            "zerolinecolor": "white"
           },
           "yaxis": {
            "backgroundcolor": "#E5ECF6",
            "gridcolor": "white",
            "gridwidth": 2,
            "linecolor": "white",
            "showbackground": true,
            "ticks": "",
            "zerolinecolor": "white"
           },
           "zaxis": {
            "backgroundcolor": "#E5ECF6",
            "gridcolor": "white",
            "gridwidth": 2,
            "linecolor": "white",
            "showbackground": true,
            "ticks": "",
            "zerolinecolor": "white"
           }
          },
          "shapedefaults": {
           "line": {
            "color": "#2a3f5f"
           }
          },
          "ternary": {
           "aaxis": {
            "gridcolor": "white",
            "linecolor": "white",
            "ticks": ""
           },
           "baxis": {
            "gridcolor": "white",
            "linecolor": "white",
            "ticks": ""
           },
           "bgcolor": "#E5ECF6",
           "caxis": {
            "gridcolor": "white",
            "linecolor": "white",
            "ticks": ""
           }
          },
          "title": {
           "x": 0.05
          },
          "xaxis": {
           "automargin": true,
           "gridcolor": "white",
           "linecolor": "white",
           "ticks": "",
           "title": {
            "standoff": 15
           },
           "zerolinecolor": "white",
           "zerolinewidth": 2
          },
          "yaxis": {
           "automargin": true,
           "gridcolor": "white",
           "linecolor": "white",
           "ticks": "",
           "title": {
            "standoff": 15
           },
           "zerolinecolor": "white",
           "zerolinewidth": 2
          }
         }
        },
        "title": {
         "text": "Annual Koala Sightings vs Temperature Trends"
        },
        "xaxis": {
         "anchor": "y",
         "domain": [
          0,
          1
         ],
         "title": {
          "text": "Year"
         }
        },
        "yaxis": {
         "anchor": "x",
         "domain": [
          0,
          1
         ],
         "title": {
          "text": "Koala Count"
         }
        },
        "yaxis2": {
         "overlaying": "y",
         "side": "right",
         "title": {
          "text": "Temperature (°C)"
         }
        }
       }
      }
     },
     "metadata": {},
     "output_type": "display_data"
    }
   ],
   "source": [
    "fig2.show()"
   ]
  },
  {
   "cell_type": "markdown",
   "metadata": {},
   "source": [
    "from the map below, we can see that forests around he east coast tend to be cooler and have higher koala counts (size of circle) whereas the temperature (color) inland is hotter and have lesser koala sightings as a result"
   ]
  },
  {
   "cell_type": "code",
   "execution_count": 4,
   "metadata": {},
   "outputs": [
    {
     "data": {
      "text/html": [
       "<div style=\"width:100%;\"><div style=\"position:relative;width:100%;height:0;padding-bottom:60%;\"><span style=\"color:#565656\">Make this Notebook Trusted to load map: File -> Trust Notebook</span><iframe srcdoc=\"&lt;!DOCTYPE html&gt;\n",
       "&lt;html&gt;\n",
       "&lt;head&gt;\n",
       "    \n",
       "    &lt;meta http-equiv=&quot;content-type&quot; content=&quot;text/html; charset=UTF-8&quot; /&gt;\n",
       "    \n",
       "        &lt;script&gt;\n",
       "            L_NO_TOUCH = false;\n",
       "            L_DISABLE_3D = false;\n",
       "        &lt;/script&gt;\n",
       "    \n",
       "    &lt;style&gt;html, body {width: 100%;height: 100%;margin: 0;padding: 0;}&lt;/style&gt;\n",
       "    &lt;style&gt;#map {position:absolute;top:0;bottom:0;right:0;left:0;}&lt;/style&gt;\n",
       "    &lt;script src=&quot;https://cdn.jsdelivr.net/npm/leaflet@1.9.3/dist/leaflet.js&quot;&gt;&lt;/script&gt;\n",
       "    &lt;script src=&quot;https://code.jquery.com/jquery-3.7.1.min.js&quot;&gt;&lt;/script&gt;\n",
       "    &lt;script src=&quot;https://cdn.jsdelivr.net/npm/bootstrap@5.2.2/dist/js/bootstrap.bundle.min.js&quot;&gt;&lt;/script&gt;\n",
       "    &lt;script src=&quot;https://cdnjs.cloudflare.com/ajax/libs/Leaflet.awesome-markers/2.0.2/leaflet.awesome-markers.js&quot;&gt;&lt;/script&gt;\n",
       "    &lt;link rel=&quot;stylesheet&quot; href=&quot;https://cdn.jsdelivr.net/npm/leaflet@1.9.3/dist/leaflet.css&quot;/&gt;\n",
       "    &lt;link rel=&quot;stylesheet&quot; href=&quot;https://cdn.jsdelivr.net/npm/bootstrap@5.2.2/dist/css/bootstrap.min.css&quot;/&gt;\n",
       "    &lt;link rel=&quot;stylesheet&quot; href=&quot;https://netdna.bootstrapcdn.com/bootstrap/3.0.0/css/bootstrap-glyphicons.css&quot;/&gt;\n",
       "    &lt;link rel=&quot;stylesheet&quot; href=&quot;https://cdn.jsdelivr.net/npm/@fortawesome/fontawesome-free@6.2.0/css/all.min.css&quot;/&gt;\n",
       "    &lt;link rel=&quot;stylesheet&quot; href=&quot;https://cdnjs.cloudflare.com/ajax/libs/Leaflet.awesome-markers/2.0.2/leaflet.awesome-markers.css&quot;/&gt;\n",
       "    &lt;link rel=&quot;stylesheet&quot; href=&quot;https://cdn.jsdelivr.net/gh/python-visualization/folium/folium/templates/leaflet.awesome.rotate.min.css&quot;/&gt;\n",
       "    \n",
       "            &lt;meta name=&quot;viewport&quot; content=&quot;width=device-width,\n",
       "                initial-scale=1.0, maximum-scale=1.0, user-scalable=no&quot; /&gt;\n",
       "            &lt;style&gt;\n",
       "                #map_8a1f4aec0ccf10aa2a2f10cc86cc1d64 {\n",
       "                    position: relative;\n",
       "                    width: 100.0%;\n",
       "                    height: 100.0%;\n",
       "                    left: 0.0%;\n",
       "                    top: 0.0%;\n",
       "                }\n",
       "                .leaflet-container { font-size: 1rem; }\n",
       "            &lt;/style&gt;\n",
       "        \n",
       "&lt;/head&gt;\n",
       "&lt;body&gt;\n",
       "    \n",
       "    \n",
       "    &lt;h3 align=&quot;center&quot; style=&quot;font-size:16px&quot;&gt;&lt;b&gt;Koala Sightings in Australia (2007-2016)&lt;/b&gt;&lt;/h3&gt;\n",
       "    \n",
       "&lt;div style=&quot;position: fixed; \n",
       "     bottom: 50px; right: 50px; width: 180px; height: 120px; \n",
       "     border:2px solid grey; z-index:9999; font-size:14px;\n",
       "     background-color:white;\n",
       "     padding: 10px;\n",
       "     border-radius: 6px;&quot;&gt;\n",
       "     &lt;p&gt;&lt;b&gt;Koala Sightings&lt;/b&gt;&lt;/p&gt;\n",
       "     &lt;div style=&quot;display: inline-block; height: 15px; width: 15px; border-radius: 50%; \n",
       "           background-color: #FF5722; border: 1px solid black;&quot;&gt;&lt;/div&gt; Hot (&gt;30°C)&lt;br&gt;\n",
       "     &lt;div style=&quot;display: inline-block; height: 15px; width: 15px; border-radius: 50%; \n",
       "           background-color: #4CAF50; border: 1px solid black;&quot;&gt;&lt;/div&gt; Moderate (≤30°C)&lt;br&gt;\n",
       "     &lt;p&gt;&lt;i&gt;Circle size indicates number of koalas&lt;/i&gt;&lt;/p&gt;\n",
       "&lt;/div&gt;\n",
       "    \n",
       "            &lt;div class=&quot;folium-map&quot; id=&quot;map_8a1f4aec0ccf10aa2a2f10cc86cc1d64&quot; &gt;&lt;/div&gt;\n",
       "        \n",
       "&lt;/body&gt;\n",
       "&lt;script&gt;\n",
       "    \n",
       "    \n",
       "            var map_8a1f4aec0ccf10aa2a2f10cc86cc1d64 = L.map(\n",
       "                &quot;map_8a1f4aec0ccf10aa2a2f10cc86cc1d64&quot;,\n",
       "                {\n",
       "                    center: [-28.0, 135.0],\n",
       "                    crs: L.CRS.EPSG3857,\n",
       "                    ...{\n",
       "  &quot;zoom&quot;: 4,\n",
       "  &quot;zoomControl&quot;: true,\n",
       "  &quot;preferCanvas&quot;: false,\n",
       "}\n",
       "\n",
       "                }\n",
       "            );\n",
       "\n",
       "            \n",
       "\n",
       "        \n",
       "    \n",
       "            var tile_layer_df83b088436a44d9d122d0627481605a = L.tileLayer(\n",
       "                &quot;https://{s}.basemaps.cartocdn.com/light_all/{z}/{x}/{y}{r}.png&quot;,\n",
       "                {\n",
       "  &quot;minZoom&quot;: 0,\n",
       "  &quot;maxZoom&quot;: 20,\n",
       "  &quot;maxNativeZoom&quot;: 20,\n",
       "  &quot;noWrap&quot;: false,\n",
       "  &quot;attribution&quot;: &quot;\\u0026copy; \\u003ca href=\\&quot;https://www.openstreetmap.org/copyright\\&quot;\\u003eOpenStreetMap\\u003c/a\\u003e contributors \\u0026copy; \\u003ca href=\\&quot;https://carto.com/attributions\\&quot;\\u003eCARTO\\u003c/a\\u003e&quot;,\n",
       "  &quot;subdomains&quot;: &quot;abcd&quot;,\n",
       "  &quot;detectRetina&quot;: false,\n",
       "  &quot;tms&quot;: false,\n",
       "  &quot;opacity&quot;: 1,\n",
       "}\n",
       "\n",
       "            );\n",
       "        \n",
       "    \n",
       "            tile_layer_df83b088436a44d9d122d0627481605a.addTo(map_8a1f4aec0ccf10aa2a2f10cc86cc1d64);\n",
       "        \n",
       "    \n",
       "            var feature_group_f163c5b44203bb85f8bbeda06a3c2299 = L.featureGroup(\n",
       "                {\n",
       "}\n",
       "            );\n",
       "        \n",
       "    \n",
       "            var circle_marker_dc1d86fed7f780dd86dba117c09945ff = L.circleMarker(\n",
       "                [-27.4698, 153.0251],\n",
       "                {&quot;bubblingMouseEvents&quot;: true, &quot;color&quot;: &quot;black&quot;, &quot;dashArray&quot;: null, &quot;dashOffset&quot;: null, &quot;fill&quot;: true, &quot;fillColor&quot;: &quot;#4CAF50&quot;, &quot;fillOpacity&quot;: 0.8, &quot;fillRule&quot;: &quot;evenodd&quot;, &quot;lineCap&quot;: &quot;round&quot;, &quot;lineJoin&quot;: &quot;round&quot;, &quot;opacity&quot;: 1.0, &quot;radius&quot;: 18.30976824566249, &quot;stroke&quot;: true, &quot;weight&quot;: 1.5}\n",
       "            ).addTo(feature_group_f163c5b44203bb85f8bbeda06a3c2299);\n",
       "        \n",
       "    \n",
       "        var popup_6be584a54a513ac53b058aa9cfce07ba = L.popup({\n",
       "  &quot;maxWidth&quot;: &quot;100%&quot;,\n",
       "});\n",
       "\n",
       "        \n",
       "            \n",
       "                var html_0682f409fd5c9d0ea7fd95264080c89e = $(`&lt;div id=&quot;html_0682f409fd5c9d0ea7fd95264080c89e&quot; style=&quot;width: 100.0%; height: 100.0%;&quot;&gt;&lt;strong&gt;Brisbane&lt;/strong&gt;&lt;br&gt;Count: 21516&lt;br&gt;Avg Temp: 24.8°C&lt;br&gt;Rainfall: 62805.2mm&lt;/div&gt;`)[0];\n",
       "                popup_6be584a54a513ac53b058aa9cfce07ba.setContent(html_0682f409fd5c9d0ea7fd95264080c89e);\n",
       "            \n",
       "        \n",
       "\n",
       "        circle_marker_dc1d86fed7f780dd86dba117c09945ff.bindPopup(popup_6be584a54a513ac53b058aa9cfce07ba)\n",
       "        ;\n",
       "\n",
       "        \n",
       "    \n",
       "    \n",
       "            var circle_marker_71bbd87276f0e1e7f0bc9466e809c10c = L.circleMarker(\n",
       "                [-28.0167, 153.4],\n",
       "                {&quot;bubblingMouseEvents&quot;: true, &quot;color&quot;: &quot;black&quot;, &quot;dashArray&quot;: null, &quot;dashOffset&quot;: null, &quot;fill&quot;: true, &quot;fillColor&quot;: &quot;#4CAF50&quot;, &quot;fillOpacity&quot;: 0.8, &quot;fillRule&quot;: &quot;evenodd&quot;, &quot;lineCap&quot;: &quot;round&quot;, &quot;lineJoin&quot;: &quot;round&quot;, &quot;opacity&quot;: 1.0, &quot;radius&quot;: 8.07033493932471, &quot;stroke&quot;: true, &quot;weight&quot;: 1.5}\n",
       "            ).addTo(feature_group_f163c5b44203bb85f8bbeda06a3c2299);\n",
       "        \n",
       "    \n",
       "        var popup_dd248d50663efad849527f7faa641ef6 = L.popup({\n",
       "  &quot;maxWidth&quot;: &quot;100%&quot;,\n",
       "});\n",
       "\n",
       "        \n",
       "            \n",
       "                var html_3ef2a2644620814f72c2f2b01042c872 = $(`&lt;div id=&quot;html_3ef2a2644620814f72c2f2b01042c872&quot; style=&quot;width: 100.0%; height: 100.0%;&quot;&gt;&lt;strong&gt;GoldCoast&lt;/strong&gt;&lt;br&gt;Count: 31&lt;br&gt;Avg Temp: 29.7°C&lt;br&gt;Rainfall: 123.8mm&lt;/div&gt;`)[0];\n",
       "                popup_dd248d50663efad849527f7faa641ef6.setContent(html_3ef2a2644620814f72c2f2b01042c872);\n",
       "            \n",
       "        \n",
       "\n",
       "        circle_marker_71bbd87276f0e1e7f0bc9466e809c10c.bindPopup(popup_dd248d50663efad849527f7faa641ef6)\n",
       "        ;\n",
       "\n",
       "        \n",
       "    \n",
       "    \n",
       "            var circle_marker_0807c526eb78dd1f90e12259262cbc57 = L.circleMarker(\n",
       "                [-19.259, 146.8169],\n",
       "                {&quot;bubblingMouseEvents&quot;: true, &quot;color&quot;: &quot;black&quot;, &quot;dashArray&quot;: null, &quot;dashOffset&quot;: null, &quot;fill&quot;: true, &quot;fillColor&quot;: &quot;#FF5722&quot;, &quot;fillOpacity&quot;: 0.8, &quot;fillRule&quot;: &quot;evenodd&quot;, &quot;lineCap&quot;: &quot;round&quot;, &quot;lineJoin&quot;: &quot;round&quot;, &quot;opacity&quot;: 1.0, &quot;radius&quot;: 8.07033493932471, &quot;stroke&quot;: true, &quot;weight&quot;: 1.5}\n",
       "            ).addTo(feature_group_f163c5b44203bb85f8bbeda06a3c2299);\n",
       "        \n",
       "    \n",
       "        var popup_b80bee2d4c37e5e1f03410abf839c854 = L.popup({\n",
       "  &quot;maxWidth&quot;: &quot;100%&quot;,\n",
       "});\n",
       "\n",
       "        \n",
       "            \n",
       "                var html_546658761ed2c93b22b39ac1e191d4fa = $(`&lt;div id=&quot;html_546658761ed2c93b22b39ac1e191d4fa&quot; style=&quot;width: 100.0%; height: 100.0%;&quot;&gt;&lt;strong&gt;Townsville&lt;/strong&gt;&lt;br&gt;Count: 31&lt;br&gt;Avg Temp: 32.0°C&lt;br&gt;Rainfall: 178.8mm&lt;/div&gt;`)[0];\n",
       "                popup_b80bee2d4c37e5e1f03410abf839c854.setContent(html_546658761ed2c93b22b39ac1e191d4fa);\n",
       "            \n",
       "        \n",
       "\n",
       "        circle_marker_0807c526eb78dd1f90e12259262cbc57.bindPopup(popup_b80bee2d4c37e5e1f03410abf839c854)\n",
       "        ;\n",
       "\n",
       "        \n",
       "    \n",
       "    \n",
       "            var circle_marker_41f10f38e711ce336fc05a2688ba9a5f = L.circleMarker(\n",
       "                [-27.4698, 153.0251],\n",
       "                {&quot;bubblingMouseEvents&quot;: true, &quot;color&quot;: &quot;black&quot;, &quot;dashArray&quot;: null, &quot;dashOffset&quot;: null, &quot;fill&quot;: true, &quot;fillColor&quot;: &quot;#4CAF50&quot;, &quot;fillOpacity&quot;: 0.8, &quot;fillRule&quot;: &quot;evenodd&quot;, &quot;lineCap&quot;: &quot;round&quot;, &quot;lineJoin&quot;: &quot;round&quot;, &quot;opacity&quot;: 1.0, &quot;radius&quot;: 26.948838349886874, &quot;stroke&quot;: true, &quot;weight&quot;: 1.5}\n",
       "            ).addTo(feature_group_f163c5b44203bb85f8bbeda06a3c2299);\n",
       "        \n",
       "    \n",
       "        var popup_deafb6ea22abd730b50e2814c377c2b1 = L.popup({\n",
       "  &quot;maxWidth&quot;: &quot;100%&quot;,\n",
       "});\n",
       "\n",
       "        \n",
       "            \n",
       "                var html_b823a6cab3084f590219ecdd38de376e = $(`&lt;div id=&quot;html_b823a6cab3084f590219ecdd38de376e&quot; style=&quot;width: 100.0%; height: 100.0%;&quot;&gt;&lt;strong&gt;Brisbane&lt;/strong&gt;&lt;br&gt;Count: 72611&lt;br&gt;Avg Temp: 27.1°C&lt;br&gt;Rainfall: 177380.0mm&lt;/div&gt;`)[0];\n",
       "                popup_deafb6ea22abd730b50e2814c377c2b1.setContent(html_b823a6cab3084f590219ecdd38de376e);\n",
       "            \n",
       "        \n",
       "\n",
       "        circle_marker_41f10f38e711ce336fc05a2688ba9a5f.bindPopup(popup_deafb6ea22abd730b50e2814c377c2b1)\n",
       "        ;\n",
       "\n",
       "        \n",
       "    \n",
       "    \n",
       "            var circle_marker_e6eea82c3117b91938045e8f3d2ff274 = L.circleMarker(\n",
       "                [-28.0167, 153.4],\n",
       "                {&quot;bubblingMouseEvents&quot;: true, &quot;color&quot;: &quot;black&quot;, &quot;dashArray&quot;: null, &quot;dashOffset&quot;: null, &quot;fill&quot;: true, &quot;fillColor&quot;: &quot;#4CAF50&quot;, &quot;fillOpacity&quot;: 0.8, &quot;fillRule&quot;: &quot;evenodd&quot;, &quot;lineCap&quot;: &quot;round&quot;, &quot;lineJoin&quot;: &quot;round&quot;, &quot;opacity&quot;: 1.0, &quot;radius&quot;: 11.0170327789488, &quot;stroke&quot;: true, &quot;weight&quot;: 1.5}\n",
       "            ).addTo(feature_group_f163c5b44203bb85f8bbeda06a3c2299);\n",
       "        \n",
       "    \n",
       "        var popup_d5b05532c14a6be3aa96cf4379c30a2c = L.popup({\n",
       "  &quot;maxWidth&quot;: &quot;100%&quot;,\n",
       "});\n",
       "\n",
       "        \n",
       "            \n",
       "                var html_025d078ccca4f3bc7642d26c18c0cc8c = $(`&lt;div id=&quot;html_025d078ccca4f3bc7642d26c18c0cc8c&quot; style=&quot;width: 100.0%; height: 100.0%;&quot;&gt;&lt;strong&gt;GoldCoast&lt;/strong&gt;&lt;br&gt;Count: 1870&lt;br&gt;Avg Temp: 25.7°C&lt;br&gt;Rainfall: 3253.6mm&lt;/div&gt;`)[0];\n",
       "                popup_d5b05532c14a6be3aa96cf4379c30a2c.setContent(html_025d078ccca4f3bc7642d26c18c0cc8c);\n",
       "            \n",
       "        \n",
       "\n",
       "        circle_marker_e6eea82c3117b91938045e8f3d2ff274.bindPopup(popup_d5b05532c14a6be3aa96cf4379c30a2c)\n",
       "        ;\n",
       "\n",
       "        \n",
       "    \n",
       "    \n",
       "            var circle_marker_14b99414b02da3ef1d8a21e61ded3858 = L.circleMarker(\n",
       "                [-29.4628, 149.8416],\n",
       "                {&quot;bubblingMouseEvents&quot;: true, &quot;color&quot;: &quot;black&quot;, &quot;dashArray&quot;: null, &quot;dashOffset&quot;: null, &quot;fill&quot;: true, &quot;fillColor&quot;: &quot;#FF5722&quot;, &quot;fillOpacity&quot;: 0.8, &quot;fillRule&quot;: &quot;evenodd&quot;, &quot;lineCap&quot;: &quot;round&quot;, &quot;lineJoin&quot;: &quot;round&quot;, &quot;opacity&quot;: 1.0, &quot;radius&quot;: 8.77687479696338, &quot;stroke&quot;: true, &quot;weight&quot;: 1.5}\n",
       "            ).addTo(feature_group_f163c5b44203bb85f8bbeda06a3c2299);\n",
       "        \n",
       "    \n",
       "        var popup_d5a223a5d8602ceb46f87fb272b2947d = L.popup({\n",
       "  &quot;maxWidth&quot;: &quot;100%&quot;,\n",
       "});\n",
       "\n",
       "        \n",
       "            \n",
       "                var html_8531d8c6519a4eb1326dd2a1014e7b4a = $(`&lt;div id=&quot;html_8531d8c6519a4eb1326dd2a1014e7b4a&quot; style=&quot;width: 100.0%; height: 100.0%;&quot;&gt;&lt;strong&gt;Moree&lt;/strong&gt;&lt;br&gt;Count: 152&lt;br&gt;Avg Temp: 30.9°C&lt;br&gt;Rainfall: 247.0mm&lt;/div&gt;`)[0];\n",
       "                popup_d5a223a5d8602ceb46f87fb272b2947d.setContent(html_8531d8c6519a4eb1326dd2a1014e7b4a);\n",
       "            \n",
       "        \n",
       "\n",
       "        circle_marker_14b99414b02da3ef1d8a21e61ded3858.bindPopup(popup_d5a223a5d8602ceb46f87fb272b2947d)\n",
       "        ;\n",
       "\n",
       "        \n",
       "    \n",
       "    \n",
       "            var circle_marker_81eaedad066d100c864a59422c6fcc61 = L.circleMarker(\n",
       "                [-19.259, 146.8169],\n",
       "                {&quot;bubblingMouseEvents&quot;: true, &quot;color&quot;: &quot;black&quot;, &quot;dashArray&quot;: null, &quot;dashOffset&quot;: null, &quot;fill&quot;: true, &quot;fillColor&quot;: &quot;#4CAF50&quot;, &quot;fillOpacity&quot;: 0.8, &quot;fillRule&quot;: &quot;evenodd&quot;, &quot;lineCap&quot;: &quot;round&quot;, &quot;lineJoin&quot;: &quot;round&quot;, &quot;opacity&quot;: 1.0, &quot;radius&quot;: 9.50523343370165, &quot;stroke&quot;: true, &quot;weight&quot;: 1.5}\n",
       "            ).addTo(feature_group_f163c5b44203bb85f8bbeda06a3c2299);\n",
       "        \n",
       "    \n",
       "        var popup_a69b22277e9f596da072cc554a34ebfb = L.popup({\n",
       "  &quot;maxWidth&quot;: &quot;100%&quot;,\n",
       "});\n",
       "\n",
       "        \n",
       "            \n",
       "                var html_e51470e4dae13d07fd55cf27d77cce3a = $(`&lt;div id=&quot;html_e51470e4dae13d07fd55cf27d77cce3a&quot; style=&quot;width: 100.0%; height: 100.0%;&quot;&gt;&lt;strong&gt;Townsville&lt;/strong&gt;&lt;br&gt;Count: 488&lt;br&gt;Avg Temp: 29.4°C&lt;br&gt;Rainfall: 590.6mm&lt;/div&gt;`)[0];\n",
       "                popup_a69b22277e9f596da072cc554a34ebfb.setContent(html_e51470e4dae13d07fd55cf27d77cce3a);\n",
       "            \n",
       "        \n",
       "\n",
       "        circle_marker_81eaedad066d100c864a59422c6fcc61.bindPopup(popup_a69b22277e9f596da072cc554a34ebfb)\n",
       "        ;\n",
       "\n",
       "        \n",
       "    \n",
       "    \n",
       "            var circle_marker_0e90bfe1739f9674f141aae5d3d22bbd = L.circleMarker(\n",
       "                [-27.4698, 153.0251],\n",
       "                {&quot;bubblingMouseEvents&quot;: true, &quot;color&quot;: &quot;black&quot;, &quot;dashArray&quot;: null, &quot;dashOffset&quot;: null, &quot;fill&quot;: true, &quot;fillColor&quot;: &quot;#4CAF50&quot;, &quot;fillOpacity&quot;: 0.8, &quot;fillRule&quot;: &quot;evenodd&quot;, &quot;lineCap&quot;: &quot;round&quot;, &quot;lineJoin&quot;: &quot;round&quot;, &quot;opacity&quot;: 1.0, &quot;radius&quot;: 30.0, &quot;stroke&quot;: true, &quot;weight&quot;: 1.5}\n",
       "            ).addTo(feature_group_f163c5b44203bb85f8bbeda06a3c2299);\n",
       "        \n",
       "    \n",
       "        var popup_1afab315544b1831e91eacef5972741a = L.popup({\n",
       "  &quot;maxWidth&quot;: &quot;100%&quot;,\n",
       "});\n",
       "\n",
       "        \n",
       "            \n",
       "                var html_4c5391a460191ccfc61c51feb1c4a127 = $(`&lt;div id=&quot;html_4c5391a460191ccfc61c51feb1c4a127&quot; style=&quot;width: 100.0%; height: 100.0%;&quot;&gt;&lt;strong&gt;Brisbane&lt;/strong&gt;&lt;br&gt;Count: 97867&lt;br&gt;Avg Temp: 25.5°C&lt;br&gt;Rainfall: 418745.6mm&lt;/div&gt;`)[0];\n",
       "                popup_1afab315544b1831e91eacef5972741a.setContent(html_4c5391a460191ccfc61c51feb1c4a127);\n",
       "            \n",
       "        \n",
       "\n",
       "        circle_marker_0e90bfe1739f9674f141aae5d3d22bbd.bindPopup(popup_1afab315544b1831e91eacef5972741a)\n",
       "        ;\n",
       "\n",
       "        \n",
       "    \n",
       "    \n",
       "            var circle_marker_74e2cff69347bb6fba7440a3084f2929 = L.circleMarker(\n",
       "                [-28.0167, 153.4],\n",
       "                {&quot;bubblingMouseEvents&quot;: true, &quot;color&quot;: &quot;black&quot;, &quot;dashArray&quot;: null, &quot;dashOffset&quot;: null, &quot;fill&quot;: true, &quot;fillColor&quot;: &quot;#4CAF50&quot;, &quot;fillOpacity&quot;: 0.8, &quot;fillRule&quot;: &quot;evenodd&quot;, &quot;lineCap&quot;: &quot;round&quot;, &quot;lineJoin&quot;: &quot;round&quot;, &quot;opacity&quot;: 1.0, &quot;radius&quot;: 12.058149243605945, &quot;stroke&quot;: true, &quot;weight&quot;: 1.5}\n",
       "            ).addTo(feature_group_f163c5b44203bb85f8bbeda06a3c2299);\n",
       "        \n",
       "    \n",
       "        var popup_6233c24059e8afc78d59a216675f6406 = L.popup({\n",
       "  &quot;maxWidth&quot;: &quot;100%&quot;,\n",
       "});\n",
       "\n",
       "        \n",
       "            \n",
       "                var html_47d8df1fec2f3dbe9539b85d09d452e4 = $(`&lt;div id=&quot;html_47d8df1fec2f3dbe9539b85d09d452e4&quot; style=&quot;width: 100.0%; height: 100.0%;&quot;&gt;&lt;strong&gt;GoldCoast&lt;/strong&gt;&lt;br&gt;Count: 3359&lt;br&gt;Avg Temp: 24.6°C&lt;br&gt;Rainfall: 18106.6mm&lt;/div&gt;`)[0];\n",
       "                popup_6233c24059e8afc78d59a216675f6406.setContent(html_47d8df1fec2f3dbe9539b85d09d452e4);\n",
       "            \n",
       "        \n",
       "\n",
       "        circle_marker_74e2cff69347bb6fba7440a3084f2929.bindPopup(popup_6233c24059e8afc78d59a216675f6406)\n",
       "        ;\n",
       "\n",
       "        \n",
       "    \n",
       "    \n",
       "            var circle_marker_bce0086458fa7b2cf59e5c371803ee47 = L.circleMarker(\n",
       "                [-29.4628, 149.8416],\n",
       "                {&quot;bubblingMouseEvents&quot;: true, &quot;color&quot;: &quot;black&quot;, &quot;dashArray&quot;: null, &quot;dashOffset&quot;: null, &quot;fill&quot;: true, &quot;fillColor&quot;: &quot;#FF5722&quot;, &quot;fillOpacity&quot;: 0.8, &quot;fillRule&quot;: &quot;evenodd&quot;, &quot;lineCap&quot;: &quot;round&quot;, &quot;lineJoin&quot;: &quot;round&quot;, &quot;opacity&quot;: 1.0, &quot;radius&quot;: 8.39160836863393, &quot;stroke&quot;: true, &quot;weight&quot;: 1.5}\n",
       "            ).addTo(feature_group_f163c5b44203bb85f8bbeda06a3c2299);\n",
       "        \n",
       "    \n",
       "        var popup_4f24b04e581231498b46f63d859fdb04 = L.popup({\n",
       "  &quot;maxWidth&quot;: &quot;100%&quot;,\n",
       "});\n",
       "\n",
       "        \n",
       "            \n",
       "                var html_d2b7466b3c61e0a93715884fd6f78764 = $(`&lt;div id=&quot;html_d2b7466b3c61e0a93715884fd6f78764&quot; style=&quot;width: 100.0%; height: 100.0%;&quot;&gt;&lt;strong&gt;Moree&lt;/strong&gt;&lt;br&gt;Count: 61&lt;br&gt;Avg Temp: 31.0°C&lt;br&gt;Rainfall: 88.4mm&lt;/div&gt;`)[0];\n",
       "                popup_4f24b04e581231498b46f63d859fdb04.setContent(html_d2b7466b3c61e0a93715884fd6f78764);\n",
       "            \n",
       "        \n",
       "\n",
       "        circle_marker_bce0086458fa7b2cf59e5c371803ee47.bindPopup(popup_4f24b04e581231498b46f63d859fdb04)\n",
       "        ;\n",
       "\n",
       "        \n",
       "    \n",
       "    \n",
       "            var circle_marker_860940fe1519d1d503704b4a58da508b = L.circleMarker(\n",
       "                [-19.259, 146.8169],\n",
       "                {&quot;bubblingMouseEvents&quot;: true, &quot;color&quot;: &quot;black&quot;, &quot;dashArray&quot;: null, &quot;dashOffset&quot;: null, &quot;fill&quot;: true, &quot;fillColor&quot;: &quot;#4CAF50&quot;, &quot;fillOpacity&quot;: 0.8, &quot;fillRule&quot;: &quot;evenodd&quot;, &quot;lineCap&quot;: &quot;round&quot;, &quot;lineJoin&quot;: &quot;round&quot;, &quot;opacity&quot;: 1.0, &quot;radius&quot;: 8.07033493932471, &quot;stroke&quot;: true, &quot;weight&quot;: 1.5}\n",
       "            ).addTo(feature_group_f163c5b44203bb85f8bbeda06a3c2299);\n",
       "        \n",
       "    \n",
       "        var popup_05be9f0908b31c10747e15b4a92b3d2b = L.popup({\n",
       "  &quot;maxWidth&quot;: &quot;100%&quot;,\n",
       "});\n",
       "\n",
       "        \n",
       "            \n",
       "                var html_366b6ef8af3f91ed19f0b14c83d81e86 = $(`&lt;div id=&quot;html_366b6ef8af3f91ed19f0b14c83d81e86&quot; style=&quot;width: 100.0%; height: 100.0%;&quot;&gt;&lt;strong&gt;Townsville&lt;/strong&gt;&lt;br&gt;Count: 31&lt;br&gt;Avg Temp: 26.4°C&lt;br&gt;Rainfall: 54.2mm&lt;/div&gt;`)[0];\n",
       "                popup_05be9f0908b31c10747e15b4a92b3d2b.setContent(html_366b6ef8af3f91ed19f0b14c83d81e86);\n",
       "            \n",
       "        \n",
       "\n",
       "        circle_marker_860940fe1519d1d503704b4a58da508b.bindPopup(popup_05be9f0908b31c10747e15b4a92b3d2b)\n",
       "        ;\n",
       "\n",
       "        \n",
       "    \n",
       "    \n",
       "            var circle_marker_fa4b4dfb52fa9098fcd8c0cf12155a5e = L.circleMarker(\n",
       "                [-27.4698, 153.0251],\n",
       "                {&quot;bubblingMouseEvents&quot;: true, &quot;color&quot;: &quot;black&quot;, &quot;dashArray&quot;: null, &quot;dashOffset&quot;: null, &quot;fill&quot;: true, &quot;fillColor&quot;: &quot;#4CAF50&quot;, &quot;fillOpacity&quot;: 0.8, &quot;fillRule&quot;: &quot;evenodd&quot;, &quot;lineCap&quot;: &quot;round&quot;, &quot;lineJoin&quot;: &quot;round&quot;, &quot;opacity&quot;: 1.0, &quot;radius&quot;: 29.619729337530224, &quot;stroke&quot;: true, &quot;weight&quot;: 1.5}\n",
       "            ).addTo(feature_group_f163c5b44203bb85f8bbeda06a3c2299);\n",
       "        \n",
       "    \n",
       "        var popup_afa452a3e2bfa12b5ac2f0dbe0368048 = L.popup({\n",
       "  &quot;maxWidth&quot;: &quot;100%&quot;,\n",
       "});\n",
       "\n",
       "        \n",
       "            \n",
       "                var html_9352922074943daac7cfb0ac26fd9a77 = $(`&lt;div id=&quot;html_9352922074943daac7cfb0ac26fd9a77&quot; style=&quot;width: 100.0%; height: 100.0%;&quot;&gt;&lt;strong&gt;Brisbane&lt;/strong&gt;&lt;br&gt;Count: 94514&lt;br&gt;Avg Temp: 25.4°C&lt;br&gt;Rainfall: 263746.8mm&lt;/div&gt;`)[0];\n",
       "                popup_afa452a3e2bfa12b5ac2f0dbe0368048.setContent(html_9352922074943daac7cfb0ac26fd9a77);\n",
       "            \n",
       "        \n",
       "\n",
       "        circle_marker_fa4b4dfb52fa9098fcd8c0cf12155a5e.bindPopup(popup_afa452a3e2bfa12b5ac2f0dbe0368048)\n",
       "        ;\n",
       "\n",
       "        \n",
       "    \n",
       "    \n",
       "            var circle_marker_810b28a54215afebc71282c5365221ce = L.circleMarker(\n",
       "                [-28.0167, 153.4],\n",
       "                {&quot;bubblingMouseEvents&quot;: true, &quot;color&quot;: &quot;black&quot;, &quot;dashArray&quot;: null, &quot;dashOffset&quot;: null, &quot;fill&quot;: true, &quot;fillColor&quot;: &quot;#4CAF50&quot;, &quot;fillOpacity&quot;: 0.8, &quot;fillRule&quot;: &quot;evenodd&quot;, &quot;lineCap&quot;: &quot;round&quot;, &quot;lineJoin&quot;: &quot;round&quot;, &quot;opacity&quot;: 1.0, &quot;radius&quot;: 12.063631173788757, &quot;stroke&quot;: true, &quot;weight&quot;: 1.5}\n",
       "            ).addTo(feature_group_f163c5b44203bb85f8bbeda06a3c2299);\n",
       "        \n",
       "    \n",
       "        var popup_1cbab75bec64672f4149c361fe249d1d = L.popup({\n",
       "  &quot;maxWidth&quot;: &quot;100%&quot;,\n",
       "});\n",
       "\n",
       "        \n",
       "            \n",
       "                var html_5431770cda26b1be3edb1be06e96ddba = $(`&lt;div id=&quot;html_5431770cda26b1be3edb1be06e96ddba&quot; style=&quot;width: 100.0%; height: 100.0%;&quot;&gt;&lt;strong&gt;GoldCoast&lt;/strong&gt;&lt;br&gt;Count: 3368&lt;br&gt;Avg Temp: 24.0°C&lt;br&gt;Rainfall: 9998.0mm&lt;/div&gt;`)[0];\n",
       "                popup_1cbab75bec64672f4149c361fe249d1d.setContent(html_5431770cda26b1be3edb1be06e96ddba);\n",
       "            \n",
       "        \n",
       "\n",
       "        circle_marker_810b28a54215afebc71282c5365221ce.bindPopup(popup_1cbab75bec64672f4149c361fe249d1d)\n",
       "        ;\n",
       "\n",
       "        \n",
       "    \n",
       "    \n",
       "            var circle_marker_0f093170886662d845a0825de29b5aad = L.circleMarker(\n",
       "                [-29.4628, 149.8416],\n",
       "                {&quot;bubblingMouseEvents&quot;: true, &quot;color&quot;: &quot;black&quot;, &quot;dashArray&quot;: null, &quot;dashOffset&quot;: null, &quot;fill&quot;: true, &quot;fillColor&quot;: &quot;#4CAF50&quot;, &quot;fillOpacity&quot;: 0.8, &quot;fillRule&quot;: &quot;evenodd&quot;, &quot;lineCap&quot;: &quot;round&quot;, &quot;lineJoin&quot;: &quot;round&quot;, &quot;opacity&quot;: 1.0, &quot;radius&quot;: 8.773684332571808, &quot;stroke&quot;: true, &quot;weight&quot;: 1.5}\n",
       "            ).addTo(feature_group_f163c5b44203bb85f8bbeda06a3c2299);\n",
       "        \n",
       "    \n",
       "        var popup_0a48bfdc0fdfe13cb6f052b954c657c5 = L.popup({\n",
       "  &quot;maxWidth&quot;: &quot;100%&quot;,\n",
       "});\n",
       "\n",
       "        \n",
       "            \n",
       "                var html_96c4c17803f6391d658418eec20caf29 = $(`&lt;div id=&quot;html_96c4c17803f6391d658418eec20caf29&quot; style=&quot;width: 100.0%; height: 100.0%;&quot;&gt;&lt;strong&gt;Moree&lt;/strong&gt;&lt;br&gt;Count: 151&lt;br&gt;Avg Temp: 27.7°C&lt;br&gt;Rainfall: 748.2mm&lt;/div&gt;`)[0];\n",
       "                popup_0a48bfdc0fdfe13cb6f052b954c657c5.setContent(html_96c4c17803f6391d658418eec20caf29);\n",
       "            \n",
       "        \n",
       "\n",
       "        circle_marker_0f093170886662d845a0825de29b5aad.bindPopup(popup_0a48bfdc0fdfe13cb6f052b954c657c5)\n",
       "        ;\n",
       "\n",
       "        \n",
       "    \n",
       "    \n",
       "            var circle_marker_4116edd4c0454e81768aba852a6c65fb = L.circleMarker(\n",
       "                [-19.259, 146.8169],\n",
       "                {&quot;bubblingMouseEvents&quot;: true, &quot;color&quot;: &quot;black&quot;, &quot;dashArray&quot;: null, &quot;dashOffset&quot;: null, &quot;fill&quot;: true, &quot;fillColor&quot;: &quot;#4CAF50&quot;, &quot;fillOpacity&quot;: 0.8, &quot;fillRule&quot;: &quot;evenodd&quot;, &quot;lineCap&quot;: &quot;round&quot;, &quot;lineJoin&quot;: &quot;round&quot;, &quot;opacity&quot;: 1.0, &quot;radius&quot;: 8.68192253727399, &quot;stroke&quot;: true, &quot;weight&quot;: 1.5}\n",
       "            ).addTo(feature_group_f163c5b44203bb85f8bbeda06a3c2299);\n",
       "        \n",
       "    \n",
       "        var popup_9cb4440a7d4e98abf9eeaf9831210116 = L.popup({\n",
       "  &quot;maxWidth&quot;: &quot;100%&quot;,\n",
       "});\n",
       "\n",
       "        \n",
       "            \n",
       "                var html_9ac068cd9201ba120e316fa4979c7ea1 = $(`&lt;div id=&quot;html_9ac068cd9201ba120e316fa4979c7ea1&quot; style=&quot;width: 100.0%; height: 100.0%;&quot;&gt;&lt;strong&gt;Townsville&lt;/strong&gt;&lt;br&gt;Count: 124&lt;br&gt;Avg Temp: 27.4°C&lt;br&gt;Rainfall: 179.6mm&lt;/div&gt;`)[0];\n",
       "                popup_9cb4440a7d4e98abf9eeaf9831210116.setContent(html_9ac068cd9201ba120e316fa4979c7ea1);\n",
       "            \n",
       "        \n",
       "\n",
       "        circle_marker_4116edd4c0454e81768aba852a6c65fb.bindPopup(popup_9cb4440a7d4e98abf9eeaf9831210116)\n",
       "        ;\n",
       "\n",
       "        \n",
       "    \n",
       "    \n",
       "            var circle_marker_a1341c294fd9fb9ec3f354e77cbd2a8e = L.circleMarker(\n",
       "                [-27.4698, 153.0251],\n",
       "                {&quot;bubblingMouseEvents&quot;: true, &quot;color&quot;: &quot;black&quot;, &quot;dashArray&quot;: null, &quot;dashOffset&quot;: null, &quot;fill&quot;: true, &quot;fillColor&quot;: &quot;#4CAF50&quot;, &quot;fillOpacity&quot;: 0.8, &quot;fillRule&quot;: &quot;evenodd&quot;, &quot;lineCap&quot;: &quot;round&quot;, &quot;lineJoin&quot;: &quot;round&quot;, &quot;opacity&quot;: 1.0, &quot;radius&quot;: 13.742967316637568, &quot;stroke&quot;: true, &quot;weight&quot;: 1.5}\n",
       "            ).addTo(feature_group_f163c5b44203bb85f8bbeda06a3c2299);\n",
       "        \n",
       "    \n",
       "        var popup_2acd2d513f86fb8a3233637fbb61f2bb = L.popup({\n",
       "  &quot;maxWidth&quot;: &quot;100%&quot;,\n",
       "});\n",
       "\n",
       "        \n",
       "            \n",
       "                var html_a4cabe791a15fec294860cd865973dfd = $(`&lt;div id=&quot;html_a4cabe791a15fec294860cd865973dfd&quot; style=&quot;width: 100.0%; height: 100.0%;&quot;&gt;&lt;strong&gt;Brisbane&lt;/strong&gt;&lt;br&gt;Count: 6697&lt;br&gt;Avg Temp: 27.4°C&lt;br&gt;Rainfall: 31688.2mm&lt;/div&gt;`)[0];\n",
       "                popup_2acd2d513f86fb8a3233637fbb61f2bb.setContent(html_a4cabe791a15fec294860cd865973dfd);\n",
       "            \n",
       "        \n",
       "\n",
       "        circle_marker_a1341c294fd9fb9ec3f354e77cbd2a8e.bindPopup(popup_2acd2d513f86fb8a3233637fbb61f2bb)\n",
       "        ;\n",
       "\n",
       "        \n",
       "    \n",
       "    \n",
       "            var circle_marker_7f9dedb265836ae4ca1df4814474bc49 = L.circleMarker(\n",
       "                [-28.0167, 153.4],\n",
       "                {&quot;bubblingMouseEvents&quot;: true, &quot;color&quot;: &quot;black&quot;, &quot;dashArray&quot;: null, &quot;dashOffset&quot;: null, &quot;fill&quot;: true, &quot;fillColor&quot;: &quot;#4CAF50&quot;, &quot;fillOpacity&quot;: 0.8, &quot;fillRule&quot;: &quot;evenodd&quot;, &quot;lineCap&quot;: &quot;round&quot;, &quot;lineJoin&quot;: &quot;round&quot;, &quot;opacity&quot;: 1.0, &quot;radius&quot;: 9.745667285860433, &quot;stroke&quot;: true, &quot;weight&quot;: 1.5}\n",
       "            ).addTo(feature_group_f163c5b44203bb85f8bbeda06a3c2299);\n",
       "        \n",
       "    \n",
       "        var popup_91725851c47d3b38e8da6998d8c62b19 = L.popup({\n",
       "  &quot;maxWidth&quot;: &quot;100%&quot;,\n",
       "});\n",
       "\n",
       "        \n",
       "            \n",
       "                var html_4841835f020cf27e48560d6d4b65ab73 = $(`&lt;div id=&quot;html_4841835f020cf27e48560d6d4b65ab73&quot; style=&quot;width: 100.0%; height: 100.0%;&quot;&gt;&lt;strong&gt;GoldCoast&lt;/strong&gt;&lt;br&gt;Count: 646&lt;br&gt;Avg Temp: 25.5°C&lt;br&gt;Rainfall: 3233.2mm&lt;/div&gt;`)[0];\n",
       "                popup_91725851c47d3b38e8da6998d8c62b19.setContent(html_4841835f020cf27e48560d6d4b65ab73);\n",
       "            \n",
       "        \n",
       "\n",
       "        circle_marker_7f9dedb265836ae4ca1df4814474bc49.bindPopup(popup_91725851c47d3b38e8da6998d8c62b19)\n",
       "        ;\n",
       "\n",
       "        \n",
       "    \n",
       "    \n",
       "            var circle_marker_e8d2e482de176610d27ff20b80f209a8 = L.circleMarker(\n",
       "                [-29.4628, 149.8416],\n",
       "                {&quot;bubblingMouseEvents&quot;: true, &quot;color&quot;: &quot;black&quot;, &quot;dashArray&quot;: null, &quot;dashOffset&quot;: null, &quot;fill&quot;: true, &quot;fillColor&quot;: &quot;#FF5722&quot;, &quot;fillOpacity&quot;: 0.8, &quot;fillRule&quot;: &quot;evenodd&quot;, &quot;lineCap&quot;: &quot;round&quot;, &quot;lineJoin&quot;: &quot;round&quot;, &quot;opacity&quot;: 1.0, &quot;radius&quot;: 8.385240328489006, &quot;stroke&quot;: true, &quot;weight&quot;: 1.5}\n",
       "            ).addTo(feature_group_f163c5b44203bb85f8bbeda06a3c2299);\n",
       "        \n",
       "    \n",
       "        var popup_60d7a4ad393dcf65409a527d43acccb7 = L.popup({\n",
       "  &quot;maxWidth&quot;: &quot;100%&quot;,\n",
       "});\n",
       "\n",
       "        \n",
       "            \n",
       "                var html_db79cdc5e6bdec7bd37dbf7f2c5fce6b = $(`&lt;div id=&quot;html_db79cdc5e6bdec7bd37dbf7f2c5fce6b&quot; style=&quot;width: 100.0%; height: 100.0%;&quot;&gt;&lt;strong&gt;Moree&lt;/strong&gt;&lt;br&gt;Count: 60&lt;br&gt;Avg Temp: 30.3°C&lt;br&gt;Rainfall: 338.6mm&lt;/div&gt;`)[0];\n",
       "                popup_60d7a4ad393dcf65409a527d43acccb7.setContent(html_db79cdc5e6bdec7bd37dbf7f2c5fce6b);\n",
       "            \n",
       "        \n",
       "\n",
       "        circle_marker_e8d2e482de176610d27ff20b80f209a8.bindPopup(popup_60d7a4ad393dcf65409a527d43acccb7)\n",
       "        ;\n",
       "\n",
       "        \n",
       "    \n",
       "    \n",
       "            var circle_marker_0aba3eceafc049f359178e9e42776392 = L.circleMarker(\n",
       "                [-19.259, 146.8169],\n",
       "                {&quot;bubblingMouseEvents&quot;: true, &quot;color&quot;: &quot;black&quot;, &quot;dashArray&quot;: null, &quot;dashOffset&quot;: null, &quot;fill&quot;: true, &quot;fillColor&quot;: &quot;#4CAF50&quot;, &quot;fillOpacity&quot;: 0.8, &quot;fillRule&quot;: &quot;evenodd&quot;, &quot;lineCap&quot;: &quot;round&quot;, &quot;lineJoin&quot;: &quot;round&quot;, &quot;opacity&quot;: 1.0, &quot;radius&quot;: 9.170606689745764, &quot;stroke&quot;: true, &quot;weight&quot;: 1.5}\n",
       "            ).addTo(feature_group_f163c5b44203bb85f8bbeda06a3c2299);\n",
       "        \n",
       "    \n",
       "        var popup_633a0230377e43f446f344b83625f300 = L.popup({\n",
       "  &quot;maxWidth&quot;: &quot;100%&quot;,\n",
       "});\n",
       "\n",
       "        \n",
       "            \n",
       "                var html_6dcca35292abe189ba9b45b074b1a023 = $(`&lt;div id=&quot;html_6dcca35292abe189ba9b45b074b1a023&quot; style=&quot;width: 100.0%; height: 100.0%;&quot;&gt;&lt;strong&gt;Townsville&lt;/strong&gt;&lt;br&gt;Count: 307&lt;br&gt;Avg Temp: 26.4°C&lt;br&gt;Rainfall: 956.2mm&lt;/div&gt;`)[0];\n",
       "                popup_633a0230377e43f446f344b83625f300.setContent(html_6dcca35292abe189ba9b45b074b1a023);\n",
       "            \n",
       "        \n",
       "\n",
       "        circle_marker_0aba3eceafc049f359178e9e42776392.bindPopup(popup_633a0230377e43f446f344b83625f300)\n",
       "        ;\n",
       "\n",
       "        \n",
       "    \n",
       "    \n",
       "            var circle_marker_feb2e6e29590586db3f96e604d5e12be = L.circleMarker(\n",
       "                [-27.4698, 153.0251],\n",
       "                {&quot;bubblingMouseEvents&quot;: true, &quot;color&quot;: &quot;black&quot;, &quot;dashArray&quot;: null, &quot;dashOffset&quot;: null, &quot;fill&quot;: true, &quot;fillColor&quot;: &quot;#4CAF50&quot;, &quot;fillOpacity&quot;: 0.8, &quot;fillRule&quot;: &quot;evenodd&quot;, &quot;lineCap&quot;: &quot;round&quot;, &quot;lineJoin&quot;: &quot;round&quot;, &quot;opacity&quot;: 1.0, &quot;radius&quot;: 21.074733630368733, &quot;stroke&quot;: true, &quot;weight&quot;: 1.5}\n",
       "            ).addTo(feature_group_f163c5b44203bb85f8bbeda06a3c2299);\n",
       "        \n",
       "    \n",
       "        var popup_ffd200c2463396b583c9e1e5d94895fc = L.popup({\n",
       "  &quot;maxWidth&quot;: &quot;100%&quot;,\n",
       "});\n",
       "\n",
       "        \n",
       "            \n",
       "                var html_173a7793cc707d92dfa10f6171f835ec = $(`&lt;div id=&quot;html_173a7793cc707d92dfa10f6171f835ec&quot; style=&quot;width: 100.0%; height: 100.0%;&quot;&gt;&lt;strong&gt;Brisbane&lt;/strong&gt;&lt;br&gt;Count: 34586&lt;br&gt;Avg Temp: 27.3°C&lt;br&gt;Rainfall: 48235.0mm&lt;/div&gt;`)[0];\n",
       "                popup_ffd200c2463396b583c9e1e5d94895fc.setContent(html_173a7793cc707d92dfa10f6171f835ec);\n",
       "            \n",
       "        \n",
       "\n",
       "        circle_marker_feb2e6e29590586db3f96e604d5e12be.bindPopup(popup_ffd200c2463396b583c9e1e5d94895fc)\n",
       "        ;\n",
       "\n",
       "        \n",
       "    \n",
       "    \n",
       "            var circle_marker_a3aef8f53f469991761b97dcd7ef71a8 = L.circleMarker(\n",
       "                [-16.9203, 145.771],\n",
       "                {&quot;bubblingMouseEvents&quot;: true, &quot;color&quot;: &quot;black&quot;, &quot;dashArray&quot;: null, &quot;dashOffset&quot;: null, &quot;fill&quot;: true, &quot;fillColor&quot;: &quot;#4CAF50&quot;, &quot;fillOpacity&quot;: 0.8, &quot;fillRule&quot;: &quot;evenodd&quot;, &quot;lineCap&quot;: &quot;round&quot;, &quot;lineJoin&quot;: &quot;round&quot;, &quot;opacity&quot;: 1.0, &quot;radius&quot;: 8, &quot;stroke&quot;: true, &quot;weight&quot;: 1.5}\n",
       "            ).addTo(feature_group_f163c5b44203bb85f8bbeda06a3c2299);\n",
       "        \n",
       "    \n",
       "        var popup_1147ff68d1db94366b2dfb04a85b2c9a = L.popup({\n",
       "  &quot;maxWidth&quot;: &quot;100%&quot;,\n",
       "});\n",
       "\n",
       "        \n",
       "            \n",
       "                var html_24af38e0b09a582b5b60401e702f5877 = $(`&lt;div id=&quot;html_24af38e0b09a582b5b60401e702f5877&quot; style=&quot;width: 100.0%; height: 100.0%;&quot;&gt;&lt;strong&gt;Cairns&lt;/strong&gt;&lt;br&gt;Count: 30&lt;br&gt;Avg Temp: 28.5°C&lt;br&gt;Rainfall: 43.6mm&lt;/div&gt;`)[0];\n",
       "                popup_1147ff68d1db94366b2dfb04a85b2c9a.setContent(html_24af38e0b09a582b5b60401e702f5877);\n",
       "            \n",
       "        \n",
       "\n",
       "        circle_marker_a3aef8f53f469991761b97dcd7ef71a8.bindPopup(popup_1147ff68d1db94366b2dfb04a85b2c9a)\n",
       "        ;\n",
       "\n",
       "        \n",
       "    \n",
       "    \n",
       "            var circle_marker_952c68738e439a1632bbf0816195b7c3 = L.circleMarker(\n",
       "                [-28.0167, 153.4],\n",
       "                {&quot;bubblingMouseEvents&quot;: true, &quot;color&quot;: &quot;black&quot;, &quot;dashArray&quot;: null, &quot;dashOffset&quot;: null, &quot;fill&quot;: true, &quot;fillColor&quot;: &quot;#4CAF50&quot;, &quot;fillOpacity&quot;: 0.8, &quot;fillRule&quot;: &quot;evenodd&quot;, &quot;lineCap&quot;: &quot;round&quot;, &quot;lineJoin&quot;: &quot;round&quot;, &quot;opacity&quot;: 1.0, &quot;radius&quot;: 10.837908033571853, &quot;stroke&quot;: true, &quot;weight&quot;: 1.5}\n",
       "            ).addTo(feature_group_f163c5b44203bb85f8bbeda06a3c2299);\n",
       "        \n",
       "    \n",
       "        var popup_5dd628c2b12d7e4ad84f99b491938478 = L.popup({\n",
       "  &quot;maxWidth&quot;: &quot;100%&quot;,\n",
       "});\n",
       "\n",
       "        \n",
       "            \n",
       "                var html_1600a5862deae3768adc5ac5d20c3cae = $(`&lt;div id=&quot;html_1600a5862deae3768adc5ac5d20c3cae&quot; style=&quot;width: 100.0%; height: 100.0%;&quot;&gt;&lt;strong&gt;GoldCoast&lt;/strong&gt;&lt;br&gt;Count: 1658&lt;br&gt;Avg Temp: 26.7°C&lt;br&gt;Rainfall: 5221.6mm&lt;/div&gt;`)[0];\n",
       "                popup_5dd628c2b12d7e4ad84f99b491938478.setContent(html_1600a5862deae3768adc5ac5d20c3cae);\n",
       "            \n",
       "        \n",
       "\n",
       "        circle_marker_952c68738e439a1632bbf0816195b7c3.bindPopup(popup_5dd628c2b12d7e4ad84f99b491938478)\n",
       "        ;\n",
       "\n",
       "        \n",
       "    \n",
       "    \n",
       "            var circle_marker_80d614b496734266fedf151caa8485f0 = L.circleMarker(\n",
       "                [-29.4628, 149.8416],\n",
       "                {&quot;bubblingMouseEvents&quot;: true, &quot;color&quot;: &quot;black&quot;, &quot;dashArray&quot;: null, &quot;dashOffset&quot;: null, &quot;fill&quot;: true, &quot;fillColor&quot;: &quot;#4CAF50&quot;, &quot;fillOpacity&quot;: 0.8, &quot;fillRule&quot;: &quot;evenodd&quot;, &quot;lineCap&quot;: &quot;round&quot;, &quot;lineJoin&quot;: &quot;round&quot;, &quot;opacity&quot;: 1.0, &quot;radius&quot;: 8.961815829561244, &quot;stroke&quot;: true, &quot;weight&quot;: 1.5}\n",
       "            ).addTo(feature_group_f163c5b44203bb85f8bbeda06a3c2299);\n",
       "        \n",
       "    \n",
       "        var popup_4be4a2cee2a1fa1fad74063e307f236f = L.popup({\n",
       "  &quot;maxWidth&quot;: &quot;100%&quot;,\n",
       "});\n",
       "\n",
       "        \n",
       "            \n",
       "                var html_b14fe321461ff1e2231d642cc19eac7e = $(`&lt;div id=&quot;html_b14fe321461ff1e2231d642cc19eac7e&quot; style=&quot;width: 100.0%; height: 100.0%;&quot;&gt;&lt;strong&gt;Moree&lt;/strong&gt;&lt;br&gt;Count: 217&lt;br&gt;Avg Temp: 28.6°C&lt;br&gt;Rainfall: 145.6mm&lt;/div&gt;`)[0];\n",
       "                popup_4be4a2cee2a1fa1fad74063e307f236f.setContent(html_b14fe321461ff1e2231d642cc19eac7e);\n",
       "            \n",
       "        \n",
       "\n",
       "        circle_marker_80d614b496734266fedf151caa8485f0.bindPopup(popup_4be4a2cee2a1fa1fad74063e307f236f)\n",
       "        ;\n",
       "\n",
       "        \n",
       "    \n",
       "    \n",
       "            var circle_marker_dbd7c26d3b4f60132d541ae3123c2f26 = L.circleMarker(\n",
       "                [-19.259, 146.8169],\n",
       "                {&quot;bubblingMouseEvents&quot;: true, &quot;color&quot;: &quot;black&quot;, &quot;dashArray&quot;: null, &quot;dashOffset&quot;: null, &quot;fill&quot;: true, &quot;fillColor&quot;: &quot;#4CAF50&quot;, &quot;fillOpacity&quot;: 0.8, &quot;fillRule&quot;: &quot;evenodd&quot;, &quot;lineCap&quot;: &quot;round&quot;, &quot;lineJoin&quot;: &quot;round&quot;, &quot;opacity&quot;: 1.0, &quot;radius&quot;: 9.279632064824616, &quot;stroke&quot;: true, &quot;weight&quot;: 1.5}\n",
       "            ).addTo(feature_group_f163c5b44203bb85f8bbeda06a3c2299);\n",
       "        \n",
       "    \n",
       "        var popup_3aeb84190b126affedf5012e7a2934a6 = L.popup({\n",
       "  &quot;maxWidth&quot;: &quot;100%&quot;,\n",
       "});\n",
       "\n",
       "        \n",
       "            \n",
       "                var html_4e161739cd02965fb49230f2868623d7 = $(`&lt;div id=&quot;html_4e161739cd02965fb49230f2868623d7&quot; style=&quot;width: 100.0%; height: 100.0%;&quot;&gt;&lt;strong&gt;Townsville&lt;/strong&gt;&lt;br&gt;Count: 361&lt;br&gt;Avg Temp: 29.8°C&lt;br&gt;Rainfall: 665.8mm&lt;/div&gt;`)[0];\n",
       "                popup_3aeb84190b126affedf5012e7a2934a6.setContent(html_4e161739cd02965fb49230f2868623d7);\n",
       "            \n",
       "        \n",
       "\n",
       "        circle_marker_dbd7c26d3b4f60132d541ae3123c2f26.bindPopup(popup_3aeb84190b126affedf5012e7a2934a6)\n",
       "        ;\n",
       "\n",
       "        \n",
       "    \n",
       "    \n",
       "            var circle_marker_1e9a16dbe91f00f60f57d77723ec9a4a = L.circleMarker(\n",
       "                [-27.4698, 153.0251],\n",
       "                {&quot;bubblingMouseEvents&quot;: true, &quot;color&quot;: &quot;black&quot;, &quot;dashArray&quot;: null, &quot;dashOffset&quot;: null, &quot;fill&quot;: true, &quot;fillColor&quot;: &quot;#4CAF50&quot;, &quot;fillOpacity&quot;: 0.8, &quot;fillRule&quot;: &quot;evenodd&quot;, &quot;lineCap&quot;: &quot;round&quot;, &quot;lineJoin&quot;: &quot;round&quot;, &quot;opacity&quot;: 1.0, &quot;radius&quot;: 21.188316902851973, &quot;stroke&quot;: true, &quot;weight&quot;: 1.5}\n",
       "            ).addTo(feature_group_f163c5b44203bb85f8bbeda06a3c2299);\n",
       "        \n",
       "    \n",
       "        var popup_b36cac8df912e84ccfe03d23c1577095 = L.popup({\n",
       "  &quot;maxWidth&quot;: &quot;100%&quot;,\n",
       "});\n",
       "\n",
       "        \n",
       "            \n",
       "                var html_ab5499fd19ba167e5c8663d0c90d4e08 = $(`&lt;div id=&quot;html_ab5499fd19ba167e5c8663d0c90d4e08&quot; style=&quot;width: 100.0%; height: 100.0%;&quot;&gt;&lt;strong&gt;Brisbane&lt;/strong&gt;&lt;br&gt;Count: 35189&lt;br&gt;Avg Temp: 28.7°C&lt;br&gt;Rainfall: 105614.8mm&lt;/div&gt;`)[0];\n",
       "                popup_b36cac8df912e84ccfe03d23c1577095.setContent(html_ab5499fd19ba167e5c8663d0c90d4e08);\n",
       "            \n",
       "        \n",
       "\n",
       "        circle_marker_1e9a16dbe91f00f60f57d77723ec9a4a.bindPopup(popup_b36cac8df912e84ccfe03d23c1577095)\n",
       "        ;\n",
       "\n",
       "        \n",
       "    \n",
       "    \n",
       "            var circle_marker_2796052f63fd2ca253cdc984a5b9e24f = L.circleMarker(\n",
       "                [-16.9203, 145.771],\n",
       "                {&quot;bubblingMouseEvents&quot;: true, &quot;color&quot;: &quot;black&quot;, &quot;dashArray&quot;: null, &quot;dashOffset&quot;: null, &quot;fill&quot;: true, &quot;fillColor&quot;: &quot;#FF5722&quot;, &quot;fillOpacity&quot;: 0.8, &quot;fillRule&quot;: &quot;evenodd&quot;, &quot;lineCap&quot;: &quot;round&quot;, &quot;lineJoin&quot;: &quot;round&quot;, &quot;opacity&quot;: 1.0, &quot;radius&quot;: 8.07033493932471, &quot;stroke&quot;: true, &quot;weight&quot;: 1.5}\n",
       "            ).addTo(feature_group_f163c5b44203bb85f8bbeda06a3c2299);\n",
       "        \n",
       "    \n",
       "        var popup_dde0fdb02bfdc12d4ca6a7d280f731db = L.popup({\n",
       "  &quot;maxWidth&quot;: &quot;100%&quot;,\n",
       "});\n",
       "\n",
       "        \n",
       "            \n",
       "                var html_432e6e3c74f1892415e4446a44fc6dc5 = $(`&lt;div id=&quot;html_432e6e3c74f1892415e4446a44fc6dc5&quot; style=&quot;width: 100.0%; height: 100.0%;&quot;&gt;&lt;strong&gt;Cairns&lt;/strong&gt;&lt;br&gt;Count: 31&lt;br&gt;Avg Temp: 30.3°C&lt;br&gt;Rainfall: 13.8mm&lt;/div&gt;`)[0];\n",
       "                popup_dde0fdb02bfdc12d4ca6a7d280f731db.setContent(html_432e6e3c74f1892415e4446a44fc6dc5);\n",
       "            \n",
       "        \n",
       "\n",
       "        circle_marker_2796052f63fd2ca253cdc984a5b9e24f.bindPopup(popup_dde0fdb02bfdc12d4ca6a7d280f731db)\n",
       "        ;\n",
       "\n",
       "        \n",
       "    \n",
       "    \n",
       "            var circle_marker_8a3ac71bf37097d22150d4711afc4f43 = L.circleMarker(\n",
       "                [-28.0167, 153.4],\n",
       "                {&quot;bubblingMouseEvents&quot;: true, &quot;color&quot;: &quot;black&quot;, &quot;dashArray&quot;: null, &quot;dashOffset&quot;: null, &quot;fill&quot;: true, &quot;fillColor&quot;: &quot;#4CAF50&quot;, &quot;fillOpacity&quot;: 0.8, &quot;fillRule&quot;: &quot;evenodd&quot;, &quot;lineCap&quot;: &quot;round&quot;, &quot;lineJoin&quot;: &quot;round&quot;, &quot;opacity&quot;: 1.0, &quot;radius&quot;: 14.13569051366337, &quot;stroke&quot;: true, &quot;weight&quot;: 1.5}\n",
       "            ).addTo(feature_group_f163c5b44203bb85f8bbeda06a3c2299);\n",
       "        \n",
       "    \n",
       "        var popup_a814e4b7eae5a8ec1d943007c55835dc = L.popup({\n",
       "  &quot;maxWidth&quot;: &quot;100%&quot;,\n",
       "});\n",
       "\n",
       "        \n",
       "            \n",
       "                var html_8c76229781a08c97387821880fa3179b = $(`&lt;div id=&quot;html_8c76229781a08c97387821880fa3179b&quot; style=&quot;width: 100.0%; height: 100.0%;&quot;&gt;&lt;strong&gt;GoldCoast&lt;/strong&gt;&lt;br&gt;Count: 7640&lt;br&gt;Avg Temp: 27.5°C&lt;br&gt;Rainfall: 6990.2mm&lt;/div&gt;`)[0];\n",
       "                popup_a814e4b7eae5a8ec1d943007c55835dc.setContent(html_8c76229781a08c97387821880fa3179b);\n",
       "            \n",
       "        \n",
       "\n",
       "        circle_marker_8a3ac71bf37097d22150d4711afc4f43.bindPopup(popup_a814e4b7eae5a8ec1d943007c55835dc)\n",
       "        ;\n",
       "\n",
       "        \n",
       "    \n",
       "    \n",
       "            var circle_marker_67beaea711323f82fb39399eaeacaaf8 = L.circleMarker(\n",
       "                [-29.4628, 149.8416],\n",
       "                {&quot;bubblingMouseEvents&quot;: true, &quot;color&quot;: &quot;black&quot;, &quot;dashArray&quot;: null, &quot;dashOffset&quot;: null, &quot;fill&quot;: true, &quot;fillColor&quot;: &quot;#4CAF50&quot;, &quot;fillOpacity&quot;: 0.8, &quot;fillRule&quot;: &quot;evenodd&quot;, &quot;lineCap&quot;: &quot;round&quot;, &quot;lineJoin&quot;: &quot;round&quot;, &quot;opacity&quot;: 1.0, &quot;radius&quot;: 9.986884230263268, &quot;stroke&quot;: true, &quot;weight&quot;: 1.5}\n",
       "            ).addTo(feature_group_f163c5b44203bb85f8bbeda06a3c2299);\n",
       "        \n",
       "    \n",
       "        var popup_b9062edd0f55f08607eb177316586ed1 = L.popup({\n",
       "  &quot;maxWidth&quot;: &quot;100%&quot;,\n",
       "});\n",
       "\n",
       "        \n",
       "            \n",
       "                var html_a14d9ab0c7850abf95b13bf16061973d = $(`&lt;div id=&quot;html_a14d9ab0c7850abf95b13bf16061973d&quot; style=&quot;width: 100.0%; height: 100.0%;&quot;&gt;&lt;strong&gt;Moree&lt;/strong&gt;&lt;br&gt;Count: 828&lt;br&gt;Avg Temp: 25.8°C&lt;br&gt;Rainfall: 689.0mm&lt;/div&gt;`)[0];\n",
       "                popup_b9062edd0f55f08607eb177316586ed1.setContent(html_a14d9ab0c7850abf95b13bf16061973d);\n",
       "            \n",
       "        \n",
       "\n",
       "        circle_marker_67beaea711323f82fb39399eaeacaaf8.bindPopup(popup_b9062edd0f55f08607eb177316586ed1)\n",
       "        ;\n",
       "\n",
       "        \n",
       "    \n",
       "    \n",
       "            var circle_marker_13e6471f11259fa782ce8a6b00e32126 = L.circleMarker(\n",
       "                [-19.259, 146.8169],\n",
       "                {&quot;bubblingMouseEvents&quot;: true, &quot;color&quot;: &quot;black&quot;, &quot;dashArray&quot;: null, &quot;dashOffset&quot;: null, &quot;fill&quot;: true, &quot;fillColor&quot;: &quot;#FF5722&quot;, &quot;fillOpacity&quot;: 0.8, &quot;fillRule&quot;: &quot;evenodd&quot;, &quot;lineCap&quot;: &quot;round&quot;, &quot;lineJoin&quot;: &quot;round&quot;, &quot;opacity&quot;: 1.0, &quot;radius&quot;: 11.4341893943853, &quot;stroke&quot;: true, &quot;weight&quot;: 1.5}\n",
       "            ).addTo(feature_group_f163c5b44203bb85f8bbeda06a3c2299);\n",
       "        \n",
       "    \n",
       "        var popup_1785891a05d3df17111bc9950f6218e9 = L.popup({\n",
       "  &quot;maxWidth&quot;: &quot;100%&quot;,\n",
       "});\n",
       "\n",
       "        \n",
       "            \n",
       "                var html_f80dc9b0f6987d3e85ef795ddd4f4a4b = $(`&lt;div id=&quot;html_f80dc9b0f6987d3e85ef795ddd4f4a4b&quot; style=&quot;width: 100.0%; height: 100.0%;&quot;&gt;&lt;strong&gt;Townsville&lt;/strong&gt;&lt;br&gt;Count: 2414&lt;br&gt;Avg Temp: 30.5°C&lt;br&gt;Rainfall: 1605.0mm&lt;/div&gt;`)[0];\n",
       "                popup_1785891a05d3df17111bc9950f6218e9.setContent(html_f80dc9b0f6987d3e85ef795ddd4f4a4b);\n",
       "            \n",
       "        \n",
       "\n",
       "        circle_marker_13e6471f11259fa782ce8a6b00e32126.bindPopup(popup_1785891a05d3df17111bc9950f6218e9)\n",
       "        ;\n",
       "\n",
       "        \n",
       "    \n",
       "    \n",
       "            var circle_marker_b1b7a72a5b3bc909a60502fe4a5d073e = L.circleMarker(\n",
       "                [-27.4698, 153.0251],\n",
       "                {&quot;bubblingMouseEvents&quot;: true, &quot;color&quot;: &quot;black&quot;, &quot;dashArray&quot;: null, &quot;dashOffset&quot;: null, &quot;fill&quot;: true, &quot;fillColor&quot;: &quot;#4CAF50&quot;, &quot;fillOpacity&quot;: 0.8, &quot;fillRule&quot;: &quot;evenodd&quot;, &quot;lineCap&quot;: &quot;round&quot;, &quot;lineJoin&quot;: &quot;round&quot;, &quot;opacity&quot;: 1.0, &quot;radius&quot;: 21.101758699989027, &quot;stroke&quot;: true, &quot;weight&quot;: 1.5}\n",
       "            ).addTo(feature_group_f163c5b44203bb85f8bbeda06a3c2299);\n",
       "        \n",
       "    \n",
       "        var popup_2498572354d3712460f42c0a334f2721 = L.popup({\n",
       "  &quot;maxWidth&quot;: &quot;100%&quot;,\n",
       "});\n",
       "\n",
       "        \n",
       "            \n",
       "                var html_b61c99f6acb041e4e4801f56106462e9 = $(`&lt;div id=&quot;html_b61c99f6acb041e4e4801f56106462e9&quot; style=&quot;width: 100.0%; height: 100.0%;&quot;&gt;&lt;strong&gt;Brisbane&lt;/strong&gt;&lt;br&gt;Count: 34729&lt;br&gt;Avg Temp: 27.2°C&lt;br&gt;Rainfall: 110846.0mm&lt;/div&gt;`)[0];\n",
       "                popup_2498572354d3712460f42c0a334f2721.setContent(html_b61c99f6acb041e4e4801f56106462e9);\n",
       "            \n",
       "        \n",
       "\n",
       "        circle_marker_b1b7a72a5b3bc909a60502fe4a5d073e.bindPopup(popup_2498572354d3712460f42c0a334f2721)\n",
       "        ;\n",
       "\n",
       "        \n",
       "    \n",
       "    \n",
       "            var circle_marker_1a9fe3f28b83a435b2856694682c5415 = L.circleMarker(\n",
       "                [-16.9203, 145.771],\n",
       "                {&quot;bubblingMouseEvents&quot;: true, &quot;color&quot;: &quot;black&quot;, &quot;dashArray&quot;: null, &quot;dashOffset&quot;: null, &quot;fill&quot;: true, &quot;fillColor&quot;: &quot;#4CAF50&quot;, &quot;fillOpacity&quot;: 0.8, &quot;fillRule&quot;: &quot;evenodd&quot;, &quot;lineCap&quot;: &quot;round&quot;, &quot;lineJoin&quot;: &quot;round&quot;, &quot;opacity&quot;: 1.0, &quot;radius&quot;: 8.549333437065728, &quot;stroke&quot;: true, &quot;weight&quot;: 1.5}\n",
       "            ).addTo(feature_group_f163c5b44203bb85f8bbeda06a3c2299);\n",
       "        \n",
       "    \n",
       "        var popup_4980d1ec9bd744ab73cb149dadf2b24a = L.popup({\n",
       "  &quot;maxWidth&quot;: &quot;100%&quot;,\n",
       "});\n",
       "\n",
       "        \n",
       "            \n",
       "                var html_53a9cee676fd2c392faec60e2e2203fe = $(`&lt;div id=&quot;html_53a9cee676fd2c392faec60e2e2203fe&quot; style=&quot;width: 100.0%; height: 100.0%;&quot;&gt;&lt;strong&gt;Cairns&lt;/strong&gt;&lt;br&gt;Count: 91&lt;br&gt;Avg Temp: 28.7°C&lt;br&gt;Rainfall: 297.4mm&lt;/div&gt;`)[0];\n",
       "                popup_4980d1ec9bd744ab73cb149dadf2b24a.setContent(html_53a9cee676fd2c392faec60e2e2203fe);\n",
       "            \n",
       "        \n",
       "\n",
       "        circle_marker_1a9fe3f28b83a435b2856694682c5415.bindPopup(popup_4980d1ec9bd744ab73cb149dadf2b24a)\n",
       "        ;\n",
       "\n",
       "        \n",
       "    \n",
       "    \n",
       "            var circle_marker_bc659cf79eef210e934bf2d252cae9ba = L.circleMarker(\n",
       "                [-31.4967, 145.8344],\n",
       "                {&quot;bubblingMouseEvents&quot;: true, &quot;color&quot;: &quot;black&quot;, &quot;dashArray&quot;: null, &quot;dashOffset&quot;: null, &quot;fill&quot;: true, &quot;fillColor&quot;: &quot;#FF5722&quot;, &quot;fillOpacity&quot;: 0.8, &quot;fillRule&quot;: &quot;evenodd&quot;, &quot;lineCap&quot;: &quot;round&quot;, &quot;lineJoin&quot;: &quot;round&quot;, &quot;opacity&quot;: 1.0, &quot;radius&quot;: 8.07033493932471, &quot;stroke&quot;: true, &quot;weight&quot;: 1.5}\n",
       "            ).addTo(feature_group_f163c5b44203bb85f8bbeda06a3c2299);\n",
       "        \n",
       "    \n",
       "        var popup_a6c27961fafd40800129a03a354a7c2a = L.popup({\n",
       "  &quot;maxWidth&quot;: &quot;100%&quot;,\n",
       "});\n",
       "\n",
       "        \n",
       "            \n",
       "                var html_b9aab936f067f041385619f74778656e = $(`&lt;div id=&quot;html_b9aab936f067f041385619f74778656e&quot; style=&quot;width: 100.0%; height: 100.0%;&quot;&gt;&lt;strong&gt;Cobar&lt;/strong&gt;&lt;br&gt;Count: 31&lt;br&gt;Avg Temp: 32.1°C&lt;br&gt;Rainfall: 61.4mm&lt;/div&gt;`)[0];\n",
       "                popup_a6c27961fafd40800129a03a354a7c2a.setContent(html_b9aab936f067f041385619f74778656e);\n",
       "            \n",
       "        \n",
       "\n",
       "        circle_marker_bc659cf79eef210e934bf2d252cae9ba.bindPopup(popup_a6c27961fafd40800129a03a354a7c2a)\n",
       "        ;\n",
       "\n",
       "        \n",
       "    \n",
       "    \n",
       "            var circle_marker_4694974505caace40dedb0e4531de846 = L.circleMarker(\n",
       "                [-28.0167, 153.4],\n",
       "                {&quot;bubblingMouseEvents&quot;: true, &quot;color&quot;: &quot;black&quot;, &quot;dashArray&quot;: null, &quot;dashOffset&quot;: null, &quot;fill&quot;: true, &quot;fillColor&quot;: &quot;#4CAF50&quot;, &quot;fillOpacity&quot;: 0.8, &quot;fillRule&quot;: &quot;evenodd&quot;, &quot;lineCap&quot;: &quot;round&quot;, &quot;lineJoin&quot;: &quot;round&quot;, &quot;opacity&quot;: 1.0, &quot;radius&quot;: 11.342945009311723, &quot;stroke&quot;: true, &quot;weight&quot;: 1.5}\n",
       "            ).addTo(feature_group_f163c5b44203bb85f8bbeda06a3c2299);\n",
       "        \n",
       "    \n",
       "        var popup_040e3610c1817c64b053b71c3eea1c4d = L.popup({\n",
       "  &quot;maxWidth&quot;: &quot;100%&quot;,\n",
       "});\n",
       "\n",
       "        \n",
       "            \n",
       "                var html_ce8aed4f8b96216e2d677d776a36f70a = $(`&lt;div id=&quot;html_ce8aed4f8b96216e2d677d776a36f70a&quot; style=&quot;width: 100.0%; height: 100.0%;&quot;&gt;&lt;strong&gt;GoldCoast&lt;/strong&gt;&lt;br&gt;Count: 2289&lt;br&gt;Avg Temp: 27.1°C&lt;br&gt;Rainfall: 6745.6mm&lt;/div&gt;`)[0];\n",
       "                popup_040e3610c1817c64b053b71c3eea1c4d.setContent(html_ce8aed4f8b96216e2d677d776a36f70a);\n",
       "            \n",
       "        \n",
       "\n",
       "        circle_marker_4694974505caace40dedb0e4531de846.bindPopup(popup_040e3610c1817c64b053b71c3eea1c4d)\n",
       "        ;\n",
       "\n",
       "        \n",
       "    \n",
       "    \n",
       "            var circle_marker_d5a652196630dfd169767169ccc83688 = L.circleMarker(\n",
       "                [-29.4628, 149.8416],\n",
       "                {&quot;bubblingMouseEvents&quot;: true, &quot;color&quot;: &quot;black&quot;, &quot;dashArray&quot;: null, &quot;dashOffset&quot;: null, &quot;fill&quot;: true, &quot;fillColor&quot;: &quot;#FF5722&quot;, &quot;fillOpacity&quot;: 0.8, &quot;fillRule&quot;: &quot;evenodd&quot;, &quot;lineCap&quot;: &quot;round&quot;, &quot;lineJoin&quot;: &quot;round&quot;, &quot;opacity&quot;: 1.0, &quot;radius&quot;: 8.397874500406774, &quot;stroke&quot;: true, &quot;weight&quot;: 1.5}\n",
       "            ).addTo(feature_group_f163c5b44203bb85f8bbeda06a3c2299);\n",
       "        \n",
       "    \n",
       "        var popup_05432ff3558dcc698985c1dba5b22960 = L.popup({\n",
       "  &quot;maxWidth&quot;: &quot;100%&quot;,\n",
       "});\n",
       "\n",
       "        \n",
       "            \n",
       "                var html_c7375edd8b4a079929bf9eb7c7f39b71 = $(`&lt;div id=&quot;html_c7375edd8b4a079929bf9eb7c7f39b71&quot; style=&quot;width: 100.0%; height: 100.0%;&quot;&gt;&lt;strong&gt;Moree&lt;/strong&gt;&lt;br&gt;Count: 62&lt;br&gt;Avg Temp: 31.4°C&lt;br&gt;Rainfall: 19.2mm&lt;/div&gt;`)[0];\n",
       "                popup_05432ff3558dcc698985c1dba5b22960.setContent(html_c7375edd8b4a079929bf9eb7c7f39b71);\n",
       "            \n",
       "        \n",
       "\n",
       "        circle_marker_d5a652196630dfd169767169ccc83688.bindPopup(popup_05432ff3558dcc698985c1dba5b22960)\n",
       "        ;\n",
       "\n",
       "        \n",
       "    \n",
       "    \n",
       "            var circle_marker_75233ef0e57f1c574d0818ed3a4f5d72 = L.circleMarker(\n",
       "                [-19.259, 146.8169],\n",
       "                {&quot;bubblingMouseEvents&quot;: true, &quot;color&quot;: &quot;black&quot;, &quot;dashArray&quot;: null, &quot;dashOffset&quot;: null, &quot;fill&quot;: true, &quot;fillColor&quot;: &quot;#4CAF50&quot;, &quot;fillOpacity&quot;: 0.8, &quot;fillRule&quot;: &quot;evenodd&quot;, &quot;lineCap&quot;: &quot;round&quot;, &quot;lineJoin&quot;: &quot;round&quot;, &quot;opacity&quot;: 1.0, &quot;radius&quot;: 10.501591426994107, &quot;stroke&quot;: true, &quot;weight&quot;: 1.5}\n",
       "            ).addTo(feature_group_f163c5b44203bb85f8bbeda06a3c2299);\n",
       "        \n",
       "    \n",
       "        var popup_ccb49c4e93e7608cdf1b24a05f8fd217 = L.popup({\n",
       "  &quot;maxWidth&quot;: &quot;100%&quot;,\n",
       "});\n",
       "\n",
       "        \n",
       "            \n",
       "                var html_1de142442a8401ca12cbdf59e5a44ab5 = $(`&lt;div id=&quot;html_1de142442a8401ca12cbdf59e5a44ab5&quot; style=&quot;width: 100.0%; height: 100.0%;&quot;&gt;&lt;strong&gt;Townsville&lt;/strong&gt;&lt;br&gt;Count: 1295&lt;br&gt;Avg Temp: 29.5°C&lt;br&gt;Rainfall: 930.6mm&lt;/div&gt;`)[0];\n",
       "                popup_ccb49c4e93e7608cdf1b24a05f8fd217.setContent(html_1de142442a8401ca12cbdf59e5a44ab5);\n",
       "            \n",
       "        \n",
       "\n",
       "        circle_marker_75233ef0e57f1c574d0818ed3a4f5d72.bindPopup(popup_ccb49c4e93e7608cdf1b24a05f8fd217)\n",
       "        ;\n",
       "\n",
       "        \n",
       "    \n",
       "    \n",
       "            var circle_marker_0c14eea189205b3809464d3acda20d88 = L.circleMarker(\n",
       "                [-27.4698, 153.0251],\n",
       "                {&quot;bubblingMouseEvents&quot;: true, &quot;color&quot;: &quot;black&quot;, &quot;dashArray&quot;: null, &quot;dashOffset&quot;: null, &quot;fill&quot;: true, &quot;fillColor&quot;: &quot;#4CAF50&quot;, &quot;fillOpacity&quot;: 0.8, &quot;fillRule&quot;: &quot;evenodd&quot;, &quot;lineCap&quot;: &quot;round&quot;, &quot;lineJoin&quot;: &quot;round&quot;, &quot;opacity&quot;: 1.0, &quot;radius&quot;: 22.82633160821429, &quot;stroke&quot;: true, &quot;weight&quot;: 1.5}\n",
       "            ).addTo(feature_group_f163c5b44203bb85f8bbeda06a3c2299);\n",
       "        \n",
       "    \n",
       "        var popup_2a13274dcc718f4873f545bf39f70ada = L.popup({\n",
       "  &quot;maxWidth&quot;: &quot;100%&quot;,\n",
       "});\n",
       "\n",
       "        \n",
       "            \n",
       "                var html_2faa9bfb18ab343006ff2045c0bfc928 = $(`&lt;div id=&quot;html_2faa9bfb18ab343006ff2045c0bfc928&quot; style=&quot;width: 100.0%; height: 100.0%;&quot;&gt;&lt;strong&gt;Brisbane&lt;/strong&gt;&lt;br&gt;Count: 44465&lt;br&gt;Avg Temp: 26.6°C&lt;br&gt;Rainfall: 91583.8mm&lt;/div&gt;`)[0];\n",
       "                popup_2a13274dcc718f4873f545bf39f70ada.setContent(html_2faa9bfb18ab343006ff2045c0bfc928);\n",
       "            \n",
       "        \n",
       "\n",
       "        circle_marker_0c14eea189205b3809464d3acda20d88.bindPopup(popup_2a13274dcc718f4873f545bf39f70ada)\n",
       "        ;\n",
       "\n",
       "        \n",
       "    \n",
       "    \n",
       "            var circle_marker_37b2ecd604388b5c3690ba4cd16edaa3 = L.circleMarker(\n",
       "                [-16.9203, 145.771],\n",
       "                {&quot;bubblingMouseEvents&quot;: true, &quot;color&quot;: &quot;black&quot;, &quot;dashArray&quot;: null, &quot;dashOffset&quot;: null, &quot;fill&quot;: true, &quot;fillColor&quot;: &quot;#4CAF50&quot;, &quot;fillOpacity&quot;: 0.8, &quot;fillRule&quot;: &quot;evenodd&quot;, &quot;lineCap&quot;: &quot;round&quot;, &quot;lineJoin&quot;: &quot;round&quot;, &quot;opacity&quot;: 1.0, &quot;radius&quot;: 8.385240328489006, &quot;stroke&quot;: true, &quot;weight&quot;: 1.5}\n",
       "            ).addTo(feature_group_f163c5b44203bb85f8bbeda06a3c2299);\n",
       "        \n",
       "    \n",
       "        var popup_c344c425e1dbf6f1454a9fba3c459345 = L.popup({\n",
       "  &quot;maxWidth&quot;: &quot;100%&quot;,\n",
       "});\n",
       "\n",
       "        \n",
       "            \n",
       "                var html_cf0d0b5cede4196914183f34b4255b97 = $(`&lt;div id=&quot;html_cf0d0b5cede4196914183f34b4255b97&quot; style=&quot;width: 100.0%; height: 100.0%;&quot;&gt;&lt;strong&gt;Cairns&lt;/strong&gt;&lt;br&gt;Count: 60&lt;br&gt;Avg Temp: 27.4°C&lt;br&gt;Rainfall: 133.2mm&lt;/div&gt;`)[0];\n",
       "                popup_c344c425e1dbf6f1454a9fba3c459345.setContent(html_cf0d0b5cede4196914183f34b4255b97);\n",
       "            \n",
       "        \n",
       "\n",
       "        circle_marker_37b2ecd604388b5c3690ba4cd16edaa3.bindPopup(popup_c344c425e1dbf6f1454a9fba3c459345)\n",
       "        ;\n",
       "\n",
       "        \n",
       "    \n",
       "    \n",
       "            var circle_marker_c2bef4329ef9d513c99594454e7dc089 = L.circleMarker(\n",
       "                [-28.0167, 153.4],\n",
       "                {&quot;bubblingMouseEvents&quot;: true, &quot;color&quot;: &quot;black&quot;, &quot;dashArray&quot;: null, &quot;dashOffset&quot;: null, &quot;fill&quot;: true, &quot;fillColor&quot;: &quot;#4CAF50&quot;, &quot;fillOpacity&quot;: 0.8, &quot;fillRule&quot;: &quot;evenodd&quot;, &quot;lineCap&quot;: &quot;round&quot;, &quot;lineJoin&quot;: &quot;round&quot;, &quot;opacity&quot;: 1.0, &quot;radius&quot;: 9.983145968757578, &quot;stroke&quot;: true, &quot;weight&quot;: 1.5}\n",
       "            ).addTo(feature_group_f163c5b44203bb85f8bbeda06a3c2299);\n",
       "        \n",
       "    \n",
       "        var popup_c7d5bb1483e13b1545bd4f670c1f10ee = L.popup({\n",
       "  &quot;maxWidth&quot;: &quot;100%&quot;,\n",
       "});\n",
       "\n",
       "        \n",
       "            \n",
       "                var html_4f12738a1443c65edff0ba65399410bf = $(`&lt;div id=&quot;html_4f12738a1443c65edff0ba65399410bf&quot; style=&quot;width: 100.0%; height: 100.0%;&quot;&gt;&lt;strong&gt;GoldCoast&lt;/strong&gt;&lt;br&gt;Count: 825&lt;br&gt;Avg Temp: 25.4°C&lt;br&gt;Rainfall: 1639.0mm&lt;/div&gt;`)[0];\n",
       "                popup_c7d5bb1483e13b1545bd4f670c1f10ee.setContent(html_4f12738a1443c65edff0ba65399410bf);\n",
       "            \n",
       "        \n",
       "\n",
       "        circle_marker_c2bef4329ef9d513c99594454e7dc089.bindPopup(popup_c7d5bb1483e13b1545bd4f670c1f10ee)\n",
       "        ;\n",
       "\n",
       "        \n",
       "    \n",
       "    \n",
       "            var circle_marker_b093b2f7d1f30b96b0be29273cd32719 = L.circleMarker(\n",
       "                [-29.4628, 149.8416],\n",
       "                {&quot;bubblingMouseEvents&quot;: true, &quot;color&quot;: &quot;black&quot;, &quot;dashArray&quot;: null, &quot;dashOffset&quot;: null, &quot;fill&quot;: true, &quot;fillColor&quot;: &quot;#4CAF50&quot;, &quot;fillOpacity&quot;: 0.8, &quot;fillRule&quot;: &quot;evenodd&quot;, &quot;lineCap&quot;: &quot;round&quot;, &quot;lineJoin&quot;: &quot;round&quot;, &quot;opacity&quot;: 1.0, &quot;radius&quot;: 8.07033493932471, &quot;stroke&quot;: true, &quot;weight&quot;: 1.5}\n",
       "            ).addTo(feature_group_f163c5b44203bb85f8bbeda06a3c2299);\n",
       "        \n",
       "    \n",
       "        var popup_faa853233c170edcee2b1f89276e1225 = L.popup({\n",
       "  &quot;maxWidth&quot;: &quot;100%&quot;,\n",
       "});\n",
       "\n",
       "        \n",
       "            \n",
       "                var html_8b2117fc0da6f4349a922f10d1ef2fcc = $(`&lt;div id=&quot;html_8b2117fc0da6f4349a922f10d1ef2fcc&quot; style=&quot;width: 100.0%; height: 100.0%;&quot;&gt;&lt;strong&gt;Moree&lt;/strong&gt;&lt;br&gt;Count: 31&lt;br&gt;Avg Temp: 25.7°C&lt;br&gt;Rainfall: 56.8mm&lt;/div&gt;`)[0];\n",
       "                popup_faa853233c170edcee2b1f89276e1225.setContent(html_8b2117fc0da6f4349a922f10d1ef2fcc);\n",
       "            \n",
       "        \n",
       "\n",
       "        circle_marker_b093b2f7d1f30b96b0be29273cd32719.bindPopup(popup_faa853233c170edcee2b1f89276e1225)\n",
       "        ;\n",
       "\n",
       "        \n",
       "    \n",
       "    \n",
       "            var circle_marker_6e5b4c370cb9c22e5a08f744e725085c = L.circleMarker(\n",
       "                [-19.259, 146.8169],\n",
       "                {&quot;bubblingMouseEvents&quot;: true, &quot;color&quot;: &quot;black&quot;, &quot;dashArray&quot;: null, &quot;dashOffset&quot;: null, &quot;fill&quot;: true, &quot;fillColor&quot;: &quot;#4CAF50&quot;, &quot;fillOpacity&quot;: 0.8, &quot;fillRule&quot;: &quot;evenodd&quot;, &quot;lineCap&quot;: &quot;round&quot;, &quot;lineJoin&quot;: &quot;round&quot;, &quot;opacity&quot;: 1.0, &quot;radius&quot;: 10.263867448117, &quot;stroke&quot;: true, &quot;weight&quot;: 1.5}\n",
       "            ).addTo(feature_group_f163c5b44203bb85f8bbeda06a3c2299);\n",
       "        \n",
       "    \n",
       "        var popup_0a1ff897ec2f47804ed32bb9d4d5dfda = L.popup({\n",
       "  &quot;maxWidth&quot;: &quot;100%&quot;,\n",
       "});\n",
       "\n",
       "        \n",
       "            \n",
       "                var html_14fecc5fac31db06d1bf345818cab015 = $(`&lt;div id=&quot;html_14fecc5fac31db06d1bf345818cab015&quot; style=&quot;width: 100.0%; height: 100.0%;&quot;&gt;&lt;strong&gt;Townsville&lt;/strong&gt;&lt;br&gt;Count: 1066&lt;br&gt;Avg Temp: 28.2°C&lt;br&gt;Rainfall: 1677.6mm&lt;/div&gt;`)[0];\n",
       "                popup_0a1ff897ec2f47804ed32bb9d4d5dfda.setContent(html_14fecc5fac31db06d1bf345818cab015);\n",
       "            \n",
       "        \n",
       "\n",
       "        circle_marker_6e5b4c370cb9c22e5a08f744e725085c.bindPopup(popup_0a1ff897ec2f47804ed32bb9d4d5dfda)\n",
       "        ;\n",
       "\n",
       "        \n",
       "    \n",
       "    \n",
       "            feature_group_f163c5b44203bb85f8bbeda06a3c2299.addTo(map_8a1f4aec0ccf10aa2a2f10cc86cc1d64);\n",
       "        \n",
       "    \n",
       "            var layer_control_9634ccdc7270bbc7756cb11698036114_layers = {\n",
       "                base_layers : {\n",
       "                    &quot;cartodbpositron&quot; : tile_layer_df83b088436a44d9d122d0627481605a,\n",
       "                },\n",
       "                overlays :  {\n",
       "                    &quot;Koala Sightings&quot; : feature_group_f163c5b44203bb85f8bbeda06a3c2299,\n",
       "                },\n",
       "            };\n",
       "            let layer_control_9634ccdc7270bbc7756cb11698036114 = L.control.layers(\n",
       "                layer_control_9634ccdc7270bbc7756cb11698036114_layers.base_layers,\n",
       "                layer_control_9634ccdc7270bbc7756cb11698036114_layers.overlays,\n",
       "                {\n",
       "  &quot;position&quot;: &quot;topright&quot;,\n",
       "  &quot;collapsed&quot;: true,\n",
       "  &quot;autoZIndex&quot;: true,\n",
       "}\n",
       "            ).addTo(map_8a1f4aec0ccf10aa2a2f10cc86cc1d64);\n",
       "\n",
       "        \n",
       "    \n",
       "            tile_layer_df83b088436a44d9d122d0627481605a.addTo(map_8a1f4aec0ccf10aa2a2f10cc86cc1d64);\n",
       "        \n",
       "    \n",
       "            feature_group_f163c5b44203bb85f8bbeda06a3c2299.addTo(map_8a1f4aec0ccf10aa2a2f10cc86cc1d64);\n",
       "        \n",
       "&lt;/script&gt;\n",
       "&lt;/html&gt;\" style=\"position:absolute;width:100%;height:100%;left:0;top:0;border:none !important;\" allowfullscreen webkitallowfullscreen mozallowfullscreen></iframe></div></div>"
      ],
      "text/plain": [
       "<folium.folium.Map at 0x20f042191d0>"
      ]
     },
     "execution_count": 4,
     "metadata": {},
     "output_type": "execute_result"
    }
   ],
   "source": [
    "base_map"
   ]
  },
  {
   "cell_type": "markdown",
   "metadata": {},
   "source": [
    "we can tell from the line graph below that as the fire incidents increase, the koala sightings decrease and vice versa. We can tell that the fire incidents are causing koala to perish or lose their habitat, causing their numbers to decline"
   ]
  },
  {
   "cell_type": "code",
   "execution_count": 6,
   "metadata": {},
   "outputs": [
    {
     "name": "stderr",
     "output_type": "stream",
     "text": [
      "C:\\Users\\Joova\\AppData\\Local\\Temp\\ipykernel_47628\\1732473449.py:31: UserWarning:\n",
      "\n",
      "Geometry is in a geographic CRS. Results from 'buffer' are likely incorrect. Use 'GeoSeries.to_crs()' to re-project geometries to a projected CRS before this operation.\n",
      "\n",
      "\n"
     ]
    },
    {
     "name": "stdout",
     "output_type": "stream",
     "text": [
      "Number of koala sightings with nearby fires: 17630\n",
      "Average distance to nearest fire: 0.02 degrees\n",
      "Total fire impact on koala sightings: 3784495281.95\n"
     ]
    },
    {
     "ename": "NameError",
     "evalue": "name 'mpl' is not defined",
     "output_type": "error",
     "traceback": [
      "\u001b[1;31m---------------------------------------------------------------------------\u001b[0m",
      "\u001b[1;31mNameError\u001b[0m                                 Traceback (most recent call last)",
      "Cell \u001b[1;32mIn[6], line 112\u001b[0m\n\u001b[0;32m    109\u001b[0m lines_2, labels_2 \u001b[38;5;241m=\u001b[39m ax2\u001b[38;5;241m.\u001b[39mget_legend_handles_labels()\n\u001b[0;32m    110\u001b[0m \u001b[38;5;66;03m# Create custom legend entries since get_legend_handles_labels() may return empty lists\u001b[39;00m\n\u001b[0;32m    111\u001b[0m custom_lines \u001b[38;5;241m=\u001b[39m [\n\u001b[1;32m--> 112\u001b[0m     mpl\u001b[38;5;241m.\u001b[39mlines\u001b[38;5;241m.\u001b[39mLine2D([\u001b[38;5;241m0\u001b[39m], [\u001b[38;5;241m0\u001b[39m], color\u001b[38;5;241m=\u001b[39m\u001b[38;5;124m'\u001b[39m\u001b[38;5;124mtab:blue\u001b[39m\u001b[38;5;124m'\u001b[39m, marker\u001b[38;5;241m=\u001b[39m\u001b[38;5;124m'\u001b[39m\u001b[38;5;124mo\u001b[39m\u001b[38;5;124m'\u001b[39m, linestyle\u001b[38;5;241m=\u001b[39m\u001b[38;5;124m'\u001b[39m\u001b[38;5;124m-\u001b[39m\u001b[38;5;124m'\u001b[39m, linewidth\u001b[38;5;241m=\u001b[39m\u001b[38;5;241m3\u001b[39m, markersize\u001b[38;5;241m=\u001b[39m\u001b[38;5;241m8\u001b[39m),\n\u001b[0;32m    113\u001b[0m     mpl\u001b[38;5;241m.\u001b[39mlines\u001b[38;5;241m.\u001b[39mLine2D([\u001b[38;5;241m0\u001b[39m], [\u001b[38;5;241m0\u001b[39m], color\u001b[38;5;241m=\u001b[39m\u001b[38;5;124m'\u001b[39m\u001b[38;5;124mtab:red\u001b[39m\u001b[38;5;124m'\u001b[39m, marker\u001b[38;5;241m=\u001b[39m\u001b[38;5;124m'\u001b[39m\u001b[38;5;124ms\u001b[39m\u001b[38;5;124m'\u001b[39m, linestyle\u001b[38;5;241m=\u001b[39m\u001b[38;5;124m'\u001b[39m\u001b[38;5;124m-\u001b[39m\u001b[38;5;124m'\u001b[39m, linewidth\u001b[38;5;241m=\u001b[39m\u001b[38;5;241m3\u001b[39m, markersize\u001b[38;5;241m=\u001b[39m\u001b[38;5;241m8\u001b[39m)\n\u001b[0;32m    114\u001b[0m ]\n\u001b[0;32m    115\u001b[0m ax1\u001b[38;5;241m.\u001b[39mlegend(custom_lines, [\u001b[38;5;124m'\u001b[39m\u001b[38;5;124mKoala Sightings\u001b[39m\u001b[38;5;124m'\u001b[39m, \u001b[38;5;124m'\u001b[39m\u001b[38;5;124mFire Incidents\u001b[39m\u001b[38;5;124m'\u001b[39m], loc\u001b[38;5;241m=\u001b[39m\u001b[38;5;124m'\u001b[39m\u001b[38;5;124mupper center\u001b[39m\u001b[38;5;124m'\u001b[39m, bbox_to_anchor\u001b[38;5;241m=\u001b[39m(\u001b[38;5;241m0.5\u001b[39m, \u001b[38;5;241m-\u001b[39m\u001b[38;5;241m0.1\u001b[39m), \n\u001b[0;32m    116\u001b[0m            fancybox\u001b[38;5;241m=\u001b[39m\u001b[38;5;28;01mTrue\u001b[39;00m, shadow\u001b[38;5;241m=\u001b[39m\u001b[38;5;28;01mTrue\u001b[39;00m, ncol\u001b[38;5;241m=\u001b[39m\u001b[38;5;241m2\u001b[39m, fontsize\u001b[38;5;241m=\u001b[39m\u001b[38;5;241m12\u001b[39m)\n\u001b[0;32m    118\u001b[0m \u001b[38;5;66;03m# Adjust layout to make room for legend\u001b[39;00m\n",
      "\u001b[1;31mNameError\u001b[0m: name 'mpl' is not defined"
     ]
    },
    {
     "data": {
      "image/png": "[encoded data removed]",
      "text/plain": [
       "<Figure size 1200x700 with 2 Axes>"
      ]
     },
     "metadata": {},
     "output_type": "display_data"
    }
   ],
   "source": [
    "# Koala and Fire Spatial Analysis\n",
    "import pandas as pd\n",
    "import geopandas as gpd\n",
    "import folium\n",
    "from folium.plugins import HeatMap\n",
    "import matplotlib.pyplot as plt\n",
    "import seaborn as sns\n",
    "from shapely.geometry import Point\n",
    "\n",
    "# Load data\n",
    "koalas = pd.read_csv(\"wildnetkoalalocations.csv\")\n",
    "fires = pd.read_csv(\"modis_2000-2019_Australia.csv\")\n",
    "\n",
    "# Convert dates\n",
    "koalas[\"StartDate\"] = pd.to_datetime(koalas[\"StartDate\"], format=\"%d/%m/%Y\")\n",
    "fires[\"acq_date\"] = pd.to_datetime(fires[\"acq_date\"])\n",
    "\n",
    "# Filter to 2007-2016 time period\n",
    "koalas = koalas[(koalas[\"StartDate\"].dt.year >= 2007) & (koalas[\"StartDate\"].dt.year <= 2016)]\n",
    "fires = fires[(fires[\"acq_date\"].dt.year >= 2007) & (fires[\"acq_date\"].dt.year <= 2016)]\n",
    "\n",
    "# Create geometries\n",
    "koalas_geometry = [Point(xy) for xy in zip(koalas[\"Longitude\"], koalas[\"Latitude\"])]\n",
    "fires_geometry = [Point(xy) for xy in zip(fires[\"longitude\"], fires[\"latitude\"])]\n",
    "\n",
    "# Create GeoDataFrames\n",
    "koalas_gdf = gpd.GeoDataFrame(koalas, geometry=koalas_geometry, crs=\"EPSG:4326\")\n",
    "fires_gdf = gpd.GeoDataFrame(fires, geometry=fires_geometry, crs=\"EPSG:4326\")\n",
    "\n",
    "# Create buffer around koala sightings (0.05 degrees, approx 5.5km at these latitudes)\n",
    "koalas_gdf[\"buffer\"] = koalas_gdf.geometry.buffer(0.05)  \n",
    "\n",
    "# Create a new GeoDataFrame with buffer as geometry for the join\n",
    "buffer_gdf = koalas_gdf.copy()\n",
    "buffer_gdf.geometry = buffer_gdf[\"buffer\"]\n",
    "\n",
    "# Find fires within koala buffers\n",
    "fires_within_buffer = gpd.sjoin(fires_gdf, buffer_gdf, how=\"inner\", predicate=\"within\")\n",
    "\n",
    "# Calculate distance to koala - FIXED APPROACH\n",
    "fires_within_buffer[\"distance_to_koala\"] = fires_within_buffer.apply(\n",
    "    lambda row: row.geometry.distance(koalas_gdf.loc[row.index_right, \"geometry\"]), axis=1\n",
    ")\n",
    "\n",
    "fires_within_buffer[\"fire_impact\"] = fires_within_buffer[\"brightness\"] * fires_within_buffer[\"frp\"]\n",
    "\n",
    "# Summarize fire impact by koala site\n",
    "fire_impact_summary = fires_within_buffer.groupby(\"SiteVisitID\").agg({\n",
    "    \"brightness\": \"mean\",\n",
    "    \"frp\": \"mean\",\n",
    "    \"distance_to_koala\": \"min\",\n",
    "    \"fire_impact\": \"sum\"\n",
    "}).reset_index()\n",
    "\n",
    "# Merge fire impact data with koala data\n",
    "koalas_with_fire_impact = pd.merge(koalas, fire_impact_summary, on=\"SiteVisitID\", how=\"left\")\n",
    "\n",
    "# Save results\n",
    "koalas_with_fire_impact.to_csv(\"koalas_with_fire_impact.csv\", index=False)\n",
    "\n",
    "# Print summary statistics\n",
    "num_koalas_with_fires = koalas_with_fire_impact[\"fire_impact\"].notna().sum()\n",
    "avg_distance = koalas_with_fire_impact[\"distance_to_koala\"].mean()\n",
    "total_fire_impact = koalas_with_fire_impact[\"fire_impact\"].sum()\n",
    "\n",
    "print(f\"Number of koala sightings with nearby fires: {num_koalas_with_fires}\")\n",
    "print(f\"Average distance to nearest fire: {avg_distance:.2f} degrees\")\n",
    "print(f\"Total fire impact on koala sightings: {total_fire_impact:.2f}\")\n",
    "\n",
    "# Create interactive map\n",
    "m = folium.Map(location=[-25, 150], zoom_start=6)\n",
    "\n",
    "koala_locations = koalas_with_fire_impact[[\"Latitude\", \"Longitude\"]].dropna().values.tolist()\n",
    "if koala_locations:\n",
    "    HeatMap(koala_locations, name=\"Koala Sightings\").add_to(m)\n",
    "\n",
    "fire_locations = fires_within_buffer[[\"latitude\", \"longitude\"]].dropna().values.tolist()\n",
    "if fire_locations:\n",
    "    HeatMap(fire_locations, name=\"Fire Incidents\", \n",
    "            gradient={0.4: \"blue\", 0.65: \"lime\", 1: \"red\"}).add_to(m)\n",
    "\n",
    "folium.LayerControl().add_to(m)\n",
    "\n",
    "# Create figure and primary y-axis\n",
    "fig, ax1 = plt.subplots(figsize=(12, 7))\n",
    "\n",
    "# Plot koala sightings on primary y-axis (left)\n",
    "koalas_by_year = koalas_with_fire_impact.groupby(koalas_with_fire_impact[\"StartDate\"].dt.year).size()\n",
    "color = 'tab:blue'\n",
    "ax1.set_xlabel('Year')\n",
    "ax1.set_ylabel('Number of Koala Sightings', color=color)\n",
    "ax1.plot(koalas_by_year.index, koalas_by_year.values, color=color, marker='o', linestyle='-', linewidth=3, markersize=8)\n",
    "ax1.tick_params(axis='y', labelcolor=color)\n",
    "\n",
    "# Create secondary y-axis (right) for fire incidents\n",
    "ax2 = ax1.twinx()\n",
    "color = 'tab:red'\n",
    "fires_by_year = fires_within_buffer.groupby(fires_within_buffer[\"acq_date\"].dt.year).size()\n",
    "ax2.set_ylabel('Number of Fire Incidents', color=color)\n",
    "ax2.plot(fires_by_year.index, fires_by_year.values, color=color, marker='s', linestyle='-', linewidth=3, markersize=8)\n",
    "ax2.tick_params(axis='y', labelcolor=color)\n",
    "\n",
    "# Add title and grid\n",
    "plt.title(\"Koala Sightings and Fire Incidents Over Time (2007–2016)\", fontsize=14, pad=20)\n",
    "ax1.grid(True, alpha=0.3)\n",
    "\n",
    "# Add custom legend\n",
    "lines_1, labels_1 = ax1.get_legend_handles_labels()\n",
    "lines_2, labels_2 = ax2.get_legend_handles_labels()\n",
    "# Create custom legend entries since get_legend_handles_labels() may return empty lists\n",
    "custom_lines = [\n",
    "    mpl.lines.Line2D([0], [0], color='tab:blue', marker='o', linestyle='-', linewidth=3, markersize=8),\n",
    "    mpl.lines.Line2D([0], [0], color='tab:red', marker='s', linestyle='-', linewidth=3, markersize=8)\n",
    "]\n",
    "ax1.legend(custom_lines, ['Koala Sightings', 'Fire Incidents'], loc='upper center', bbox_to_anchor=(0.5, -0.1), \n",
    "           fancybox=True, shadow=True, ncol=2, fontsize=12)\n",
    "\n",
    "# Adjust layout to make room for legend\n",
    "plt.tight_layout()\n",
    "plt.subplots_adjust(bottom=0.15)\n",
    "\n",
    "plt.show()\n"
   ]
  },
  {
   "cell_type": "markdown",
   "metadata": {},
   "source": [
    "From the graph below, we can see that higher intensity fires tend to be close to koala sightings. this tells us that fires normally happen nearer to koala habitats which pose a greater risk to koala populations and explains the previous correlation between fires and koala. "
   ]
  },
  {
   "cell_type": "code",
   "execution_count": 7,
   "metadata": {},
   "outputs": [
    {
     "data": {
      "image/png": "[encoded data removed]",
      "text/plain": [
       "<Figure size 1000x600 with 1 Axes>"
      ]
     },
     "metadata": {},
     "output_type": "display_data"
    }
   ],
   "source": [
    "plt.figure(figsize=(10, 6))\n",
    "sns.scatterplot(x=\"distance_to_koala\", y=\"fire_impact\", data=koalas_with_fire_impact.dropna(subset=[\"distance_to_koala\", \"fire_impact\"]))\n",
    "plt.title(\"Fire Intensity vs. Distance to Koala Sightings\")\n",
    "plt.xlabel(\"Distance to Koala Sighting (degrees)\")\n",
    "plt.ylabel(\"Fire Impact (brightness * frp)\")\n",
    "plt.show()"
   ]
  },
  {
   "cell_type": "code",
   "execution_count": 8,
   "metadata": {},
   "outputs": [
    {
     "data": {
      "image/png": "[encoded data removed]",
      "text/plain": [
       "<Figure size 1000x600 with 1 Axes>"
      ]
     },
     "metadata": {},
     "output_type": "display_data"
    }
   ],
   "source": [
    "\n",
    "plt.figure(figsize=(10, 6))\n",
    "fire_impact_by_year = fires_within_buffer.groupby(fires_within_buffer[\"acq_date\"].dt.year)[\"fire_impact\"].sum()\n",
    "sns.barplot(x=fire_impact_by_year.index, y=fire_impact_by_year.values)\n",
    "plt.title(\"Total Fire Impact by Year (2007–2016)\")\n",
    "plt.xlabel(\"Year\")\n",
    "plt.ylabel(\"Total Fire Impact\")\n",
    "plt.show()"
   ]
  },
  {
   "cell_type": "code",
   "execution_count": null,
   "metadata": {},
   "outputs": [],
   "source": []
  }
 ],
 "metadata": {
  "kernelspec": {
   "display_name": "base",
   "language": "python",
   "name": "python3"
  },
  "language_info": {
   "codemirror_mode": {
    "name": "ipython",
    "version": 3
   },
   "file_extension": ".py",
   "mimetype": "text/x-python",
   "name": "python",
   "nbconvert_exporter": "python",
   "pygments_lexer": "ipython3",
   "version": "3.11.5"
  }
 },
 "nbformat": 4,
 "nbformat_minor": 2
}
